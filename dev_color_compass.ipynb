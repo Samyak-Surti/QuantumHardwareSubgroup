{
 "cells": [
  {
   "cell_type": "markdown",
   "id": "6eb7a341-8a4d-45e3-8d6b-0af124753daf",
   "metadata": {},
   "source": [
    "This notebook is to develop and test lib/color_compass_code.py\n",
    "\n",
    "TO DO\n",
    "-  fix coloring problem when dimZ-dimX>1"
   ]
  },
  {
   "cell_type": "markdown",
   "id": "1bc8831a-369e-4c40-8279-03c999d87f7c",
   "metadata": {},
   "source": [
    "# color_compass.py"
   ]
  },
  {
   "cell_type": "code",
   "execution_count": 1,
   "id": "55185bb4-95d2-4364-8190-d207293edc1a",
   "metadata": {},
   "outputs": [],
   "source": [
    "### lib/color_compass.py ###\n",
    "import stim\n",
    "import numpy as np\n",
    "from pymatching import Matching\n",
    "import numpy as np\n",
    "from termcolor import colored"
   ]
  },
  {
   "cell_type": "code",
   "execution_count": 2,
   "id": "6e4daa88-523f-42b4-a24b-ab5dcfe6caf2",
   "metadata": {},
   "outputs": [],
   "source": [
    "from lib.color_compass import Lattice2D, compass_to_surface"
   ]
  },
  {
   "cell_type": "markdown",
   "id": "a129ac96-06f0-4825-b997-eedf08ae9456",
   "metadata": {},
   "source": [
    "# Surface code as a compass code"
   ]
  },
  {
   "cell_type": "code",
   "execution_count": 3,
   "id": "e4a894a5-afd6-4979-8271-ae7a10c67997",
   "metadata": {},
   "outputs": [
    {
     "name": "stdout",
     "output_type": "stream",
     "text": [
      "000---001---002---003\n",
      " | \u001b[31m # \u001b[0m | \u001b[34m # \u001b[0m | \u001b[31m # \u001b[0m |\n",
      "004---005---006---007\n",
      " | \u001b[34m # \u001b[0m | \u001b[31m # \u001b[0m | \u001b[34m # \u001b[0m |\n",
      "008---009---010---011\n",
      " | \u001b[31m # \u001b[0m | \u001b[34m # \u001b[0m | \u001b[31m # \u001b[0m |\n",
      "012---013---014---015\n",
      "\n",
      "\n",
      "XX__\n",
      "XX__\n",
      "____\n",
      "____\n",
      "\n",
      "__XX\n",
      "__XX\n",
      "____\n",
      "____\n",
      "\n",
      "____\n",
      "X___\n",
      "X___\n",
      "____\n",
      "\n",
      "____\n",
      "_XX_\n",
      "_XX_\n",
      "____\n",
      "\n",
      "____\n",
      "___X\n",
      "___X\n",
      "____\n",
      "\n",
      "____\n",
      "____\n",
      "XX__\n",
      "XX__\n",
      "\n",
      "____\n",
      "____\n",
      "__XX\n",
      "__XX\n",
      "\n",
      "ZZ__\n",
      "____\n",
      "____\n",
      "____\n",
      "\n",
      "__ZZ\n",
      "____\n",
      "____\n",
      "____\n",
      "\n",
      "_ZZ_\n",
      "_ZZ_\n",
      "____\n",
      "____\n",
      "\n",
      "____\n",
      "____\n",
      "_ZZ_\n",
      "_ZZ_\n",
      "\n",
      "____\n",
      "ZZ__\n",
      "ZZ__\n",
      "____\n",
      "\n",
      "____\n",
      "____\n",
      "____\n",
      "ZZ__\n",
      "\n",
      "____\n",
      "__ZZ\n",
      "__ZZ\n",
      "____\n",
      "\n",
      "____\n",
      "____\n",
      "____\n",
      "__ZZ\n"
     ]
    }
   ],
   "source": [
    "dim = 4\n",
    "dimX,dimZ = dim,dim\n",
    "lat = compass_to_surface(dimX,dimZ,'X')\n",
    "print(lat)\n",
    "for stab in lat.getS():\n",
    "    print()\n",
    "    for i in range(dimX):\n",
    "        print(stab[dimX*i:dimX*(i+1)])"
   ]
  },
  {
   "cell_type": "markdown",
   "id": "f959a380-276e-4347-8b76-9a861aa37418",
   "metadata": {},
   "source": [
    "# (Issue) Failed coloring\n",
    "-  Working cases:\n",
    "    - Square lattice\n",
    "    - Lattice with dimX=1 or dimZ=1\n",
    "    - Lattice with dimX>dimZ\n",
    "- Failed cases:\n",
    "    - dimZ-dimX>1 then stop working"
   ]
  },
  {
   "cell_type": "code",
   "execution_count": 9,
   "id": "8dd59592-9eb6-4f87-84b4-91ab76bec593",
   "metadata": {},
   "outputs": [
    {
     "name": "stdout",
     "output_type": "stream",
     "text": [
      "dimX = 6, dimZ = 8\n",
      "\n",
      "000---001---002---003---004---005---006---007\n",
      " | \u001b[31m # \u001b[0m | \u001b[34m # \u001b[0m | \u001b[31m # \u001b[0m | \u001b[34m # \u001b[0m | \u001b[31m # \u001b[0m | \u001b[34m # \u001b[0m | \u001b[31m # \u001b[0m |\n",
      "008---009---010---011---012---013---014---015\n",
      " | \u001b[34m # \u001b[0m | \u001b[31m # \u001b[0m | \u001b[34m # \u001b[0m | \u001b[31m # \u001b[0m | \u001b[34m # \u001b[0m | \u001b[31m # \u001b[0m | \u001b[34m # \u001b[0m |\n",
      "016---017---018---019---020---021---022---023\n",
      " | \u001b[31m # \u001b[0m | \u001b[34m # \u001b[0m | \u001b[31m # \u001b[0m | \u001b[34m # \u001b[0m | \u001b[31m # \u001b[0m | \u001b[34m # \u001b[0m | \u001b[31m # \u001b[0m |\n",
      "024---025---026---027---028---029---030---031\n",
      " | \u001b[34m # \u001b[0m | \u001b[31m # \u001b[0m | \u001b[34m # \u001b[0m | \u001b[31m # \u001b[0m | \u001b[34m # \u001b[0m | \u001b[31m # \u001b[0m | \u001b[34m # \u001b[0m |\n",
      "032---033---034---035---036---037---038---039\n",
      " | \u001b[31m # \u001b[0m | \u001b[34m # \u001b[0m | \u001b[31m # \u001b[0m | \u001b[34m # \u001b[0m | \u001b[31m # \u001b[0m | \u001b[34m # \u001b[0m | \u001b[31m # \u001b[0m |\n",
      "040---041---042---043---044---045---046---047\n",
      "\n"
     ]
    }
   ],
   "source": [
    "dimX,dimZ = np.random.randint(1,10,size=2)\n",
    "print(f'dimX = {dimX}, dimZ = {dimZ}\\n')\n",
    "coloring = ([-1,1]*int(np.ceil(dimZ/2)))\n",
    "coloring = coloring[:dimZ-1] + coloring[1:dimZ]\n",
    "coloring *= int(np.ceil(dimX/2))\n",
    "coloring = coloring[:(dimZ-1)*(dimX-1)]\n",
    "lat = Lattice2D(dimX, dimZ)\n",
    "lat.color_lattice(coloring)\n",
    "print(lat)"
   ]
  },
  {
   "cell_type": "code",
   "execution_count": null,
   "id": "d18c928c-6a2c-47da-9338-1fa7939c8009",
   "metadata": {},
   "outputs": [],
   "source": []
  }
 ],
 "metadata": {
  "kernelspec": {
   "display_name": "Python 3 (ipykernel)",
   "language": "python",
   "name": "python3"
  },
  "language_info": {
   "codemirror_mode": {
    "name": "ipython",
    "version": 3
   },
   "file_extension": ".py",
   "mimetype": "text/x-python",
   "name": "python",
   "nbconvert_exporter": "python",
   "pygments_lexer": "ipython3",
   "version": "3.10.2"
  }
 },
 "nbformat": 4,
 "nbformat_minor": 5
}
