{
 "cells": [
  {
   "cell_type": "code",
   "execution_count": 2,
   "metadata": {},
   "outputs": [],
   "source": [
    "import numpy as np\n",
    "import matplotlib.pyplot as plt\n",
    "import itertools\n",
    "from compass import *\n",
    "# from math import comb\n",
    "import operator as op\n",
    "from functools import reduce\n",
    "\n",
    "def comb(n, r):\n",
    "    r = min(r, n-r)\n",
    "    numer = reduce(op.mul, range(n, n-r, -1), 1)\n",
    "    denom = reduce(op.mul, range(1, r+1), 1)\n",
    "    return numer // denom "
   ]
  },
  {
   "cell_type": "code",
   "execution_count": 3,
   "metadata": {},
   "outputs": [],
   "source": [
    "def error_count(m,mx,my,mz):\n",
    "    return comb(m,mx)*comb(m-mx,my)*comb(m-mx-my,mz)\n",
    "\n",
    "def error_prob(m,mx,my,mz,px,py,pz):\n",
    "    return error_count(m,mx,my,mz) * error_rate(m,mx,my,mz,px,py,pz)\n",
    "\n",
    "def error_rate(m,mx,my,mz,px,py,pz):\n",
    "    return px**mx * py**my * pz**mz * (1-px-py-pz)**(m-mx-my-mz)\n",
    "\n",
    "def count_per_weight(L,wt):\n",
    "    return 3**wt*comb(L,L-wt)"
   ]
  },
  {
   "cell_type": "markdown",
   "metadata": {},
   "source": [
    "# Analytical Pauli error distribution"
   ]
  },
  {
   "cell_type": "markdown",
   "metadata": {},
   "source": [
    "## Combinatorics check"
   ]
  },
  {
   "cell_type": "code",
   "execution_count": 9,
   "metadata": {},
   "outputs": [
    {
     "data": {
      "text/plain": [
       "0"
      ]
     },
     "execution_count": 9,
     "metadata": {},
     "output_type": "execute_result"
    }
   ],
   "source": [
    "m = 6\n",
    "mx = my = 1\n",
    "mz = 2\n",
    "all_errors = np.array(list(itertools.product([0,1,2,3],repeat=m)))\n",
    "ms = np.array([(all_errors==i).sum(1) for i in range(1,4)]).T\n",
    "num_error = (ms==[mx,my,mz]).all(1).sum()\n",
    "num_error - error_count(m,mx,my,mz)"
   ]
  },
  {
   "cell_type": "code",
   "execution_count": 61,
   "metadata": {},
   "outputs": [
    {
     "name": "stdout",
     "output_type": "stream",
     "text": [
      "309 µs ± 11.2 µs per loop (mean ± std. dev. of 7 runs, 1000 loops each)\n"
     ]
    }
   ],
   "source": [
    "%%timeit\n",
    "ms = np.array([(all_errors==i).sum(1) for i in range(1,4)]).T\n",
    "num_error = (ms==[mx,my,mz]).all(1).sum()"
   ]
  },
  {
   "cell_type": "code",
   "execution_count": 62,
   "metadata": {},
   "outputs": [
    {
     "name": "stdout",
     "output_type": "stream",
     "text": [
      "373 ns ± 7.33 ns per loop (mean ± std. dev. of 7 runs, 1000000 loops each)\n"
     ]
    }
   ],
   "source": [
    "%timeit error_count(m,mx,my,mz)"
   ]
  },
  {
   "cell_type": "markdown",
   "metadata": {},
   "source": [
    "## Probability check"
   ]
  },
  {
   "cell_type": "code",
   "execution_count": 91,
   "metadata": {},
   "outputs": [],
   "source": [
    "L = 6\n",
    "px,py,pz = [0.1,0.3,0.2]\n",
    "N = int(1e6)\n",
    "errors = np.random.choice(4,size=[N,L],p=[1-px-py-pz,px,py,pz])\n",
    "ms = np.array([(errors==i).sum(1) for i in range(1,4)]).T"
   ]
  },
  {
   "cell_type": "code",
   "execution_count": 93,
   "metadata": {},
   "outputs": [
    {
     "name": "stdout",
     "output_type": "stream",
     "text": [
      "0.012960000000000005\n",
      "0.012816\n"
     ]
    }
   ],
   "source": [
    "# check probability of [mx,my,mz]\n",
    "mx,my,mz = [2,2,1]\n",
    "print(error_prob(L,mx,my,mz,px,py,pz))\n",
    "print((ms==[mx,my,mz]).all(1).sum()/N)"
   ]
  },
  {
   "cell_type": "code",
   "execution_count": 99,
   "metadata": {},
   "outputs": [
    {
     "name": "stdout",
     "output_type": "stream",
     "text": [
      "0.000458\n",
      "0.0004320000000000001\n"
     ]
    }
   ],
   "source": [
    "# check probability of an error string\n",
    "rand_err = np.random.randint(4,size=L)\n",
    "xyz_weight = [(rand_err==i).sum() for i in range(1,4)]\n",
    "print((errors == rand_err).all(1).sum()/N)\n",
    "print(error_rate(L,*xyz_weight,px,py,pz))"
   ]
  },
  {
   "cell_type": "code",
   "execution_count": 100,
   "metadata": {},
   "outputs": [],
   "source": [
    "e = []\n",
    "for n in range(N):\n",
    "    e.append([])\n",
    "    for q in range(m):\n",
    "        s = np.random.uniform(0,1)\n",
    "        if 0<=s<px:\n",
    "            e[-1].append(1)\n",
    "        elif px<=s<px+py:\n",
    "            e[-1].append(2)\n",
    "        elif px+py<=s<px+py+pz:\n",
    "            e[-1].append(3)\n",
    "        else:\n",
    "            e[-1].append(0)\n",
    "e = np.array(e)"
   ]
  },
  {
   "cell_type": "code",
   "execution_count": 115,
   "metadata": {},
   "outputs": [
    {
     "name": "stdout",
     "output_type": "stream",
     "text": [
      "0.001157\n",
      "0.0011520000000000007\n"
     ]
    }
   ],
   "source": [
    "rand_err = np.random.randint(4,size=L)\n",
    "xyz_weight = [(rand_err==i).sum() for i in range(1,4)]\n",
    "print((e == rand_err).all(1).sum()/N)\n",
    "print(error_rate(L,*xyz_weight,px,py,pz))"
   ]
  },
  {
   "cell_type": "markdown",
   "metadata": {},
   "source": [
    "## Error histogram and lat.test() check"
   ]
  },
  {
   "cell_type": "code",
   "execution_count": 119,
   "metadata": {},
   "outputs": [],
   "source": [
    "L = 9\n",
    "px,py,pz = [0.1,0.3,0.2]\n",
    "\n",
    "all_errors = np.array(list(itertools.product([0,1,2,3],repeat=L)))\n",
    "all_errors_string = [''.join(error) for error in itertools.product('IXYZ',repeat=L)]\n",
    "xyz_weights = np.array([(all_errors==i).sum(1) for i in range(1,4)]).T\n",
    "\n",
    "prob = np.zeros(len(all_errors))\n",
    "for xyz_weight in np.unique(xyz_weights,axis=0):\n",
    "    errors = all_errors[(xyz_weights == xyz_weight).all(1)]\n",
    "    prob[(xyz_weights == xyz_weight).all(1)] = error_rate(L,*xyz_weight,px,py,pz)\n",
    "all_error_hist = dict(zip(all_errors_string,prob))"
   ]
  },
  {
   "cell_type": "code",
   "execution_count": 124,
   "metadata": {},
   "outputs": [
    {
     "name": "stdout",
     "output_type": "stream",
     "text": [
      "352\n",
      "352\n"
     ]
    }
   ],
   "source": [
    "N = int(1e6)\n",
    "weight = 2\n",
    "# numerical\n",
    "hist, amp_below, amp_above = check_distribution_globalbias(L, 0, weight, px, py, pz, N)\n",
    "# analytical\n",
    "ind = np.where(xyz_weights.sum(1)<=weight)\n",
    "band_error_hist = dict(zip(np.array(all_errors_string)[ind],prob[ind]))\n",
    "\n",
    "print(len(hist))\n",
    "print(len(band_error_hist))"
   ]
  },
  {
   "cell_type": "code",
   "execution_count": 128,
   "metadata": {
    "scrolled": true
   },
   "outputs": [
    {
     "name": "stdout",
     "output_type": "stream",
     "text": [
      "0.00015699999999999967 0.0001474560000000002\n",
      "0.0001069999999999998 9.830400000000013e-05\n",
      "9.999999999999982e-05 9.830400000000013e-05\n",
      "3.999999999999998e-05 4.915200000000007e-05\n",
      "6.79999999999999e-05 6.55360000000001e-05\n",
      "0.0001859999999999996 0.0001966080000000003\n",
      "9.899999999999982e-05 9.830400000000013e-05\n",
      "0.00013899999999999972 0.0001474560000000002\n",
      "8.699999999999985e-05 9.830400000000013e-05\n",
      "0.0001789999999999996 0.0001966080000000003\n",
      "0.00016199999999999966 0.0001474560000000002\n",
      "3.4e-05 3.276800000000005e-05\n",
      "4.099999999999998e-05 3.276800000000005e-05\n",
      "0.0001069999999999998 9.830400000000013e-05\n",
      "0.0001489999999999997 0.0001474560000000002\n",
      "9.599999999999983e-05 9.830400000000013e-05\n",
      "5.2999999999999947e-05 6.55360000000001e-05\n",
      "0.00011399999999999978 9.830400000000013e-05\n",
      "0.0001029999999999998 9.830400000000013e-05\n",
      "0.00010199999999999981 9.830400000000013e-05\n",
      "9.099999999999984e-05 9.830400000000013e-05\n",
      "0.0001459999999999997 0.0001474560000000002\n",
      "2.5000000000000008e-05 3.276800000000005e-05\n",
      "0.00012999999999999974 0.0001474560000000002\n",
      "0.0001059999999999998 9.830400000000013e-05\n",
      "0.00015299999999999968 0.0001474560000000002\n",
      "0.0001059999999999998 9.830400000000013e-05\n",
      "4.9999999999999955e-05 4.915200000000007e-05\n",
      "0.0002209999999999995 0.0001966080000000003\n",
      "3.8999999999999986e-05 4.915200000000007e-05\n",
      "4.199999999999998e-05 3.276800000000005e-05\n",
      "0.0001429999999999997 0.0001474560000000002\n",
      "0.00011099999999999978 9.830400000000013e-05\n",
      "9.599999999999983e-05 9.830400000000013e-05\n",
      "9.899999999999982e-05 9.830400000000013e-05\n",
      "7.599999999999988e-05 6.55360000000001e-05\n",
      "0.0001039999999999998 9.830400000000013e-05\n",
      "3.799999999999999e-05 3.276800000000005e-05\n",
      "1.9000000000000004e-05 1.6384000000000025e-05\n",
      "1.5000000000000004e-05 1.6384000000000025e-05\n",
      "0.0001489999999999997 0.0001474560000000002\n",
      "0.00011499999999999977 9.830400000000013e-05\n",
      "8.799999999999985e-05 9.830400000000013e-05\n",
      "0.00019599999999999956 0.0001966080000000003\n",
      "9.599999999999983e-05 9.830400000000013e-05\n",
      "6.199999999999992e-05 6.55360000000001e-05\n",
      "4.199999999999998e-05 4.915200000000007e-05\n",
      "5.6999999999999935e-05 4.915200000000007e-05\n",
      "8.699999999999985e-05 9.830400000000013e-05\n",
      "0.00013699999999999973 0.0001474560000000002\n",
      "0.00015399999999999968 0.0001474560000000002\n",
      "0.00015699999999999967 0.0001310720000000002\n",
      "7.09999999999999e-05 6.55360000000001e-05\n",
      "5.499999999999994e-05 6.55360000000001e-05\n",
      "9.799999999999982e-05 9.830400000000013e-05\n",
      "0.00016499999999999965 0.0001474560000000002\n",
      "0.00016099999999999966 0.0001474560000000002\n",
      "0.00010899999999999979 9.830400000000013e-05\n",
      "0.00010799999999999979 9.830400000000013e-05\n",
      "0.00015499999999999967 0.0001474560000000002\n",
      "3.100000000000001e-05 3.276800000000005e-05\n",
      "0.00012599999999999976 0.0001474560000000002\n",
      "0.00015899999999999966 0.0001474560000000002\n",
      "0.00020199999999999954 0.0001966080000000003\n",
      "0.00010199999999999981 9.830400000000013e-05\n",
      "4.099999999999998e-05 3.276800000000005e-05\n",
      "9.799999999999982e-05 9.830400000000013e-05\n",
      "4.799999999999996e-05 4.915200000000007e-05\n",
      "4.199999999999998e-05 4.915200000000007e-05\n",
      "9.499999999999983e-05 9.830400000000013e-05\n",
      "3.5999999999999994e-05 3.276800000000005e-05\n",
      "0.0001449999999999997 0.0001310720000000002\n",
      "0.00014099999999999971 0.0001474560000000002\n",
      "0.00011899999999999976 0.0001310720000000002\n",
      "4.199999999999998e-05 4.915200000000007e-05\n",
      "0.0001059999999999998 9.830400000000013e-05\n",
      "5.799999999999993e-05 6.55360000000001e-05\n",
      "0.00011299999999999978 9.830400000000013e-05\n",
      "5.3999999999999944e-05 4.915200000000007e-05\n",
      "8.699999999999985e-05 9.830400000000013e-05\n",
      "6.699999999999991e-05 6.55360000000001e-05\n",
      "5.2999999999999947e-05 4.915200000000007e-05\n",
      "3.699999999999999e-05 3.276800000000005e-05\n",
      "0.00020399999999999954 0.0001966080000000003\n",
      "0.00012199999999999975 9.830400000000013e-05\n",
      "6.499999999999991e-05 6.55360000000001e-05\n",
      "9.599999999999983e-05 9.830400000000013e-05\n",
      "9.599999999999983e-05 9.830400000000013e-05\n",
      "6.499999999999991e-05 4.915200000000007e-05\n",
      "0.00013899999999999972 0.0001474560000000002\n",
      "2.800000000000001e-05 3.276800000000005e-05\n",
      "0.00017199999999999963 0.0001474560000000002\n",
      "0.00010199999999999981 9.830400000000013e-05\n",
      "6.499999999999991e-05 4.915200000000007e-05\n",
      "5.799999999999993e-05 6.55360000000001e-05\n",
      "6.499999999999991e-05 6.55360000000001e-05\n",
      "0.00019799999999999955 0.0001966080000000003\n",
      "3.799999999999999e-05 3.276800000000005e-05\n",
      "0.00015999999999999966 0.0001474560000000002\n",
      "0.0002710000000000001 0.00026214400000000045\n",
      "4.2999999999999975e-05 4.915200000000007e-05\n",
      "4.5999999999999966e-05 4.915200000000007e-05\n",
      "6.99999999999999e-05 6.55360000000001e-05\n",
      "5.3999999999999944e-05 6.55360000000001e-05\n",
      "7.699999999999988e-05 6.55360000000001e-05\n",
      "4.099999999999998e-05 3.276800000000005e-05\n",
      "0.00013399999999999973 0.0001474560000000002\n",
      "0.00015199999999999968 0.0001474560000000002\n",
      "4.399999999999997e-05 4.915200000000007e-05\n",
      "3.5e-05 3.276800000000005e-05\n",
      "3.999999999999998e-05 3.276800000000005e-05\n",
      "7.19999999999999e-05 9.830400000000013e-05\n",
      "0.0001499999999999997 0.0001474560000000002\n",
      "0.00013999999999999972 0.0001474560000000002\n",
      "0.00010999999999999979 9.830400000000013e-05\n",
      "5.899999999999993e-05 6.55360000000001e-05\n",
      "9.599999999999983e-05 9.830400000000013e-05\n",
      "0.00013899999999999972 0.0001474560000000002\n",
      "6.599999999999991e-05 6.55360000000001e-05\n",
      "9.699999999999982e-05 9.830400000000013e-05\n",
      "9.999999999999982e-05 9.830400000000013e-05\n",
      "8.899999999999985e-05 9.830400000000013e-05\n",
      "4.799999999999996e-05 4.915200000000007e-05\n",
      "0.00015499999999999967 0.0001474560000000002\n",
      "6.79999999999999e-05 6.55360000000001e-05\n",
      "2.900000000000001e-05 3.276800000000005e-05\n",
      "9.099999999999984e-05 9.830400000000013e-05\n",
      "5.899999999999993e-05 4.915200000000007e-05\n",
      "0.00011999999999999976 9.830400000000013e-05\n",
      "8.199999999999987e-05 9.830400000000013e-05\n",
      "1.8000000000000004e-05 1.6384000000000025e-05\n",
      "0.00019299999999999957 0.0001966080000000003\n",
      "5.499999999999994e-05 4.915200000000007e-05\n",
      "7.899999999999987e-05 6.55360000000001e-05\n",
      "8.299999999999986e-05 6.55360000000001e-05\n",
      "9.399999999999983e-05 9.830400000000013e-05\n",
      "0.00016199999999999966 0.0001474560000000002\n",
      "6.699999999999991e-05 6.55360000000001e-05\n",
      "5.999999999999993e-05 6.55360000000001e-05\n",
      "3.799999999999999e-05 3.276800000000005e-05\n",
      "3.999999999999998e-05 4.915200000000007e-05\n",
      "9.099999999999984e-05 9.830400000000013e-05\n",
      "4.9999999999999955e-05 4.915200000000007e-05\n",
      "6.89999999999999e-05 6.55360000000001e-05\n",
      "1.5000000000000004e-05 1.6384000000000025e-05\n",
      "3.100000000000001e-05 3.276800000000005e-05\n",
      "0.00012899999999999975 0.0001310720000000002\n",
      "0.00019299999999999957 0.0001966080000000003\n",
      "7.09999999999999e-05 6.55360000000001e-05\n",
      "4.099999999999998e-05 4.915200000000007e-05\n",
      "3.5e-05 3.276800000000005e-05\n",
      "4.9999999999999955e-05 6.55360000000001e-05\n",
      "4.699999999999996e-05 4.915200000000007e-05\n",
      "8.899999999999985e-05 9.830400000000013e-05\n",
      "0.00012199999999999975 0.0001310720000000002\n",
      "2.800000000000001e-05 3.276800000000005e-05\n",
      "6.299999999999992e-05 6.55360000000001e-05\n",
      "5.899999999999993e-05 4.915200000000007e-05\n",
      "0.00010899999999999979 9.830400000000013e-05\n",
      "4.699999999999996e-05 6.55360000000001e-05\n",
      "5.2999999999999947e-05 4.915200000000007e-05\n",
      "6.299999999999992e-05 6.55360000000001e-05\n",
      "0.00016899999999999964 0.0001474560000000002\n",
      "4.399999999999997e-05 4.915200000000007e-05\n",
      "0.00016699999999999964 0.0001474560000000002\n",
      "4.799999999999996e-05 4.915200000000007e-05\n",
      "4.9999999999999955e-05 4.915200000000007e-05\n",
      "3.2000000000000005e-05 3.276800000000005e-05\n",
      "5.799999999999993e-05 4.915200000000007e-05\n",
      "8.599999999999985e-05 9.830400000000013e-05\n",
      "3.2000000000000005e-05 3.276800000000005e-05\n",
      "9.299999999999983e-05 9.830400000000013e-05\n",
      "5.6999999999999935e-05 4.915200000000007e-05\n",
      "0.0001069999999999998 9.830400000000013e-05\n",
      "4.9999999999999955e-05 4.915200000000007e-05\n",
      "0.0001059999999999998 9.830400000000013e-05\n",
      "0.00015099999999999969 0.0001474560000000002\n",
      "0.00010099999999999981 9.830400000000013e-05\n",
      "3.5999999999999994e-05 3.276800000000005e-05\n",
      "3.5e-05 3.276800000000005e-05\n",
      "0.00014099999999999971 0.0001474560000000002\n",
      "9.599999999999983e-05 9.830400000000013e-05\n",
      "4.5999999999999966e-05 4.915200000000007e-05\n",
      "0.00012999999999999974 0.0001310720000000002\n",
      "4.9999999999999955e-05 4.915200000000007e-05\n",
      "5.899999999999993e-05 4.915200000000007e-05\n",
      "3.2000000000000005e-05 3.276800000000005e-05\n",
      "1.7000000000000003e-05 1.6384000000000025e-05\n",
      "6.399999999999992e-05 6.55360000000001e-05\n",
      "1.5000000000000004e-05 1.6384000000000025e-05\n",
      "6.399999999999992e-05 6.55360000000001e-05\n",
      "8.699999999999985e-05 9.830400000000013e-05\n",
      "0.0001439999999999997 0.0001474560000000002\n",
      "1.6000000000000003e-05 1.6384000000000025e-05\n",
      "5.099999999999995e-05 4.915200000000007e-05\n",
      "9.699999999999982e-05 9.830400000000013e-05\n",
      "3.999999999999998e-05 4.915200000000007e-05\n",
      "0.00012399999999999976 0.0001310720000000002\n",
      "5.199999999999995e-05 4.915200000000007e-05\n",
      "8.599999999999985e-05 9.830400000000013e-05\n",
      "2.800000000000001e-05 3.276800000000005e-05\n",
      "4.899999999999996e-05 4.915200000000007e-05\n",
      "0.00010799999999999979 9.830400000000013e-05\n",
      "5.499999999999994e-05 4.915200000000007e-05\n",
      "8.799999999999985e-05 9.830400000000013e-05\n",
      "4.399999999999997e-05 4.915200000000007e-05\n",
      "0.00012999999999999974 0.0001310720000000002\n",
      "4.9999999999999955e-05 4.915200000000007e-05\n",
      "5.099999999999995e-05 4.915200000000007e-05\n",
      "9.899999999999982e-05 9.830400000000013e-05\n",
      "0.0001059999999999998 9.830400000000013e-05\n",
      "3.3e-05 3.276800000000005e-05\n",
      "4.199999999999998e-05 4.915200000000007e-05\n",
      "0.00013099999999999974 0.0001474560000000002\n",
      "3.5999999999999994e-05 3.276800000000005e-05\n",
      "2.800000000000001e-05 3.276800000000005e-05\n",
      "9.599999999999983e-05 9.830400000000013e-05\n",
      "0.00011999999999999976 0.0001310720000000002\n",
      "4.2999999999999975e-05 4.915200000000007e-05\n",
      "6.299999999999992e-05 4.915200000000007e-05\n",
      "2.5000000000000008e-05 3.276800000000005e-05\n",
      "5.599999999999994e-05 4.915200000000007e-05\n",
      "0.0001499999999999997 0.0001474560000000002\n",
      "2.800000000000001e-05 3.276800000000005e-05\n",
      "3.699999999999999e-05 3.276800000000005e-05\n",
      "3.8999999999999986e-05 3.276800000000005e-05\n",
      "3.5e-05 3.276800000000005e-05\n",
      "7.599999999999988e-05 6.55360000000001e-05\n",
      "7.699999999999988e-05 9.830400000000013e-05\n",
      "5.599999999999994e-05 4.915200000000007e-05\n",
      "4.9999999999999955e-05 4.915200000000007e-05\n",
      "1.6000000000000003e-05 1.6384000000000025e-05\n",
      "7.899999999999987e-05 9.830400000000013e-05\n",
      "2.900000000000001e-05 3.276800000000005e-05\n",
      "4.899999999999996e-05 4.915200000000007e-05\n",
      "0.00015299999999999968 0.0001474560000000002\n",
      "8.899999999999985e-05 9.830400000000013e-05\n",
      "0.0001069999999999998 9.830400000000013e-05\n",
      "7.899999999999987e-05 6.55360000000001e-05\n",
      "1e-05 1.6384000000000025e-05\n",
      "0.00014099999999999971 0.0001474560000000002\n",
      "5.899999999999993e-05 4.915200000000007e-05\n",
      "9.299999999999983e-05 9.830400000000013e-05\n",
      "0.0001059999999999998 9.830400000000013e-05\n",
      "6.699999999999991e-05 6.55360000000001e-05\n",
      "0.00010199999999999981 9.830400000000013e-05\n",
      "3.2000000000000005e-05 3.276800000000005e-05\n",
      "3.699999999999999e-05 4.915200000000007e-05\n",
      "4.199999999999998e-05 4.915200000000007e-05\n",
      "4.199999999999998e-05 4.915200000000007e-05\n",
      "3.100000000000001e-05 3.276800000000005e-05\n",
      "3.5e-05 3.276800000000005e-05\n",
      "7.999999999999987e-05 9.830400000000013e-05\n",
      "4.199999999999998e-05 3.276800000000005e-05\n",
      "4.2999999999999975e-05 4.915200000000007e-05\n",
      "5.2999999999999947e-05 4.915200000000007e-05\n",
      "3.5e-05 3.276800000000005e-05\n",
      "6.0999999999999924e-05 6.55360000000001e-05\n",
      "4.5999999999999966e-05 4.915200000000007e-05\n",
      "4.099999999999998e-05 3.276800000000005e-05\n",
      "1.2000000000000002e-05 1.6384000000000025e-05\n",
      "1.7000000000000003e-05 1.6384000000000025e-05\n",
      "2.600000000000001e-05 3.276800000000005e-05\n",
      "6.699999999999991e-05 4.915200000000007e-05\n",
      "4.5999999999999966e-05 4.915200000000007e-05\n",
      "5.3999999999999944e-05 6.55360000000001e-05\n",
      "3.4e-05 3.276800000000005e-05\n",
      "1.2000000000000002e-05 1.6384000000000025e-05\n",
      "2.800000000000001e-05 3.276800000000005e-05\n",
      "6.0999999999999924e-05 6.55360000000001e-05\n",
      "4.799999999999996e-05 3.276800000000005e-05\n",
      "4.399999999999997e-05 4.915200000000007e-05\n",
      "3.2000000000000005e-05 3.276800000000005e-05\n",
      "3.8999999999999986e-05 3.276800000000005e-05\n",
      "1.1000000000000001e-05 1.6384000000000025e-05\n",
      "4.799999999999996e-05 4.915200000000007e-05\n",
      "5.199999999999995e-05 4.915200000000007e-05\n",
      "5.499999999999994e-05 6.55360000000001e-05\n",
      "4.399999999999997e-05 3.276800000000005e-05\n",
      "5.499999999999994e-05 4.915200000000007e-05\n",
      "3.5999999999999994e-05 3.276800000000005e-05\n",
      "0.00010899999999999979 9.830400000000013e-05\n",
      "4.9999999999999955e-05 4.915200000000007e-05\n",
      "1.6000000000000003e-05 1.6384000000000025e-05\n",
      "9.699999999999982e-05 9.830400000000013e-05\n",
      "4.199999999999998e-05 3.276800000000005e-05\n",
      "3.2000000000000005e-05 3.276800000000005e-05\n",
      "6.499999999999991e-05 6.55360000000001e-05\n",
      "3.5999999999999994e-05 4.915200000000007e-05\n",
      "6.0999999999999924e-05 6.55360000000001e-05\n",
      "3.8999999999999986e-05 3.276800000000005e-05\n",
      "3.799999999999999e-05 3.276800000000005e-05\n",
      "2.4000000000000007e-05 3.276800000000005e-05\n",
      "4.699999999999996e-05 4.915200000000007e-05\n",
      "1e-05 1.6384000000000025e-05\n",
      "9.199999999999984e-05 9.830400000000013e-05\n",
      "5.199999999999995e-05 6.55360000000001e-05\n",
      "1.7000000000000003e-05 1.6384000000000025e-05\n",
      "3.4e-05 3.276800000000005e-05\n",
      "3.2000000000000005e-05 3.276800000000005e-05\n",
      "5.2999999999999947e-05 4.915200000000007e-05\n",
      "2.600000000000001e-05 3.276800000000005e-05\n",
      "2.5000000000000008e-05 3.276800000000005e-05\n",
      "3.100000000000001e-05 3.276800000000005e-05\n",
      "3.3e-05 3.276800000000005e-05\n",
      "1.4000000000000003e-05 1.6384000000000025e-05\n",
      "3.3e-05 3.276800000000005e-05\n",
      "4.5999999999999966e-05 4.915200000000007e-05\n",
      "1.5000000000000004e-05 1.6384000000000025e-05\n",
      "4.9999999999999955e-05 4.915200000000007e-05\n",
      "4.9999999999999955e-05 4.915200000000007e-05\n",
      "5.099999999999995e-05 6.55360000000001e-05\n",
      "4.2999999999999975e-05 4.915200000000007e-05\n",
      "3.000000000000001e-05 3.276800000000005e-05\n",
      "1.4000000000000003e-05 1.6384000000000025e-05\n",
      "3.100000000000001e-05 3.276800000000005e-05\n",
      "5.199999999999995e-05 6.55360000000001e-05\n",
      "3.8999999999999986e-05 4.915200000000007e-05\n",
      "3.4e-05 3.276800000000005e-05\n",
      "2.800000000000001e-05 3.276800000000005e-05\n",
      "1.9000000000000004e-05 1.6384000000000025e-05\n",
      "1.6000000000000003e-05 1.6384000000000025e-05\n",
      "1.6000000000000003e-05 1.6384000000000025e-05\n",
      "3.3e-05 3.276800000000005e-05\n",
      "8.699999999999985e-05 9.830400000000013e-05\n",
      "3.699999999999999e-05 3.276800000000005e-05\n",
      "6.199999999999992e-05 6.55360000000001e-05\n",
      "1.6000000000000003e-05 1.6384000000000025e-05\n",
      "1.8000000000000004e-05 1.6384000000000025e-05\n",
      "3.5e-05 4.915200000000007e-05\n",
      "6.499999999999991e-05 6.55360000000001e-05\n",
      "5.599999999999994e-05 6.55360000000001e-05\n",
      "2.5000000000000008e-05 3.276800000000005e-05\n",
      "2.800000000000001e-05 3.276800000000005e-05\n",
      "6.299999999999992e-05 6.55360000000001e-05\n",
      "4.2999999999999975e-05 4.915200000000007e-05\n",
      "3.5999999999999994e-05 3.276800000000005e-05\n",
      "3.699999999999999e-05 3.276800000000005e-05\n",
      "2.700000000000001e-05 3.276800000000005e-05\n",
      "1.6000000000000003e-05 1.6384000000000025e-05\n",
      "1.5000000000000004e-05 1.6384000000000025e-05\n",
      "3.3e-05 3.276800000000005e-05\n",
      "1.7000000000000003e-05 1.6384000000000025e-05\n",
      "1.6000000000000003e-05 1.6384000000000025e-05\n",
      "1.3000000000000003e-05 1.6384000000000025e-05\n",
      "9e-06 1.6384000000000025e-05\n",
      "2.1000000000000006e-05 1.6384000000000025e-05\n",
      "1.3000000000000003e-05 1.6384000000000025e-05\n",
      "1.1000000000000001e-05 1.6384000000000025e-05\n",
      "1.4000000000000003e-05 1.6384000000000025e-05\n",
      "8e-06 1.6384000000000025e-05\n",
      "1e-05 1.6384000000000025e-05\n"
     ]
    }
   ],
   "source": [
    "for error in hist.keys():\n",
    "    print(hist[error],band_error_hist[error])"
   ]
  },
  {
   "cell_type": "code",
   "execution_count": 137,
   "metadata": {},
   "outputs": [
    {
     "name": "stdout",
     "output_type": "stream",
     "text": [
      "000---001---002\n",
      " | \u001b[31m # \u001b[0m | \u001b[34m # \u001b[0m |\n",
      "003---004---005\n",
      " | \u001b[34m # \u001b[0m | \u001b[31m # \u001b[0m |\n",
      "006---007---008\n",
      "\n"
     ]
    }
   ],
   "source": [
    "from compass import *\n",
    "\n",
    "lat = Lattice_2d(3,3)\n",
    "lat.color_lattice('RBBR')\n",
    "print(lat)"
   ]
  },
  {
   "cell_type": "code",
   "execution_count": 138,
   "metadata": {},
   "outputs": [
    {
     "data": {
      "text/plain": [
       "0.012091392000000024"
      ]
     },
     "execution_count": 138,
     "metadata": {},
     "output_type": "execute_result"
    }
   ],
   "source": [
    "lat.test(band_error_hist)"
   ]
  },
  {
   "cell_type": "code",
   "execution_count": 139,
   "metadata": {},
   "outputs": [
    {
     "data": {
      "text/plain": [
       "0.012040999999999986"
      ]
     },
     "execution_count": 139,
     "metadata": {},
     "output_type": "execute_result"
    }
   ],
   "source": [
    "lat.test(hist)"
   ]
  },
  {
   "cell_type": "markdown",
   "metadata": {},
   "source": [
    "# Logical error rate"
   ]
  },
  {
   "cell_type": "markdown",
   "metadata": {},
   "source": [
    "## 3x3 lattice"
   ]
  },
  {
   "cell_type": "code",
   "execution_count": 27,
   "metadata": {},
   "outputs": [],
   "source": [
    "L = 9\n",
    "px,py,pz = [0.1,0.3,0.2]\n",
    "\n",
    "all_errors = np.array(list(itertools.product([0,1,2,3],repeat=L)))\n",
    "all_errors_string = [''.join(error) for error in itertools.product('IXYZ',repeat=L)]\n",
    "xyz_weights = np.array([(all_errors==i).sum(1) for i in range(1,4)]).T\n",
    "\n",
    "prob = np.zeros(len(all_errors))\n",
    "for xyz_weight in np.unique(xyz_weights,axis=0):\n",
    "    errors = all_errors[(xyz_weights == xyz_weight).all(1)]\n",
    "    prob[(xyz_weights == xyz_weight).all(1)] = error_rate(L,*xyz_weight,px,py,pz)\n",
    "all_error_hist = dict(zip(all_errors_string,prob))"
   ]
  },
  {
   "cell_type": "code",
   "execution_count": 28,
   "metadata": {},
   "outputs": [],
   "source": [
    "banded_prob = []\n",
    "banded_hist = []\n",
    "for weight in range(L+1):\n",
    "    ind = np.where(xyz_weights.sum(1)==weight)\n",
    "    banded_prob.append(prob[ind].sum())\n",
    "    banded_hist.append(dict(zip(np.array(all_errors_string)[ind],prob[ind])))\n",
    "banded_prob = np.array(banded_prob)\n",
    "banded_count = np.array([len(hist) for hist in banded_hist])/len(all_error_hist)"
   ]
  },
  {
   "cell_type": "code",
   "execution_count": 195,
   "metadata": {},
   "outputs": [
    {
     "data": {
      "image/png": "[encoded data removed]",
      "text/plain": [
       "<Figure size 432x288 with 1 Axes>"
      ]
     },
     "metadata": {
      "needs_background": "light"
     },
     "output_type": "display_data"
    }
   ],
   "source": [
    "plt.plot(banded_prob,'o-',label='error prob under noise model')\n",
    "plt.plot(banded_count,'o-',label='count prob')\n",
    "plt.legend()\n",
    "plt.show()"
   ]
  },
  {
   "cell_type": "code",
   "execution_count": 176,
   "metadata": {},
   "outputs": [
    {
     "name": "stdout",
     "output_type": "stream",
     "text": [
      "000---001---002\n",
      " | \u001b[31m # \u001b[0m | \u001b[34m # \u001b[0m |\n",
      "003---004---005\n",
      " | \u001b[34m # \u001b[0m | \u001b[31m # \u001b[0m |\n",
      "006---007---008\n",
      "\n"
     ]
    }
   ],
   "source": [
    "lat = Lattice_2d(3,3)\n",
    "lat.color_lattice('RBBR')\n",
    "print(lat)"
   ]
  },
  {
   "cell_type": "code",
   "execution_count": 232,
   "metadata": {},
   "outputs": [],
   "source": [
    "banded_psuccess = banded_prob - banded_pfail"
   ]
  },
  {
   "cell_type": "code",
   "execution_count": 201,
   "metadata": {},
   "outputs": [
    {
     "name": "stdout",
     "output_type": "stream",
     "text": [
      "Success rate at weight 0: 0.00026 / 0.00026 = 100%\n",
      "Success rate at weight 1: 0.00354 / 0.00354 = 100%\n",
      "Success rate at weight 2: 0.00914 / 0.02123 = 43%\n",
      "Success rate at weight 3: 0.01772 / 0.07432 = 24%\n",
      "Success rate at weight 4: 0.03757 / 0.16722 = 22%\n",
      "Success rate at weight 5: 0.06103 / 0.25082 = 24%\n",
      "Success rate at weight 6: 0.06501 / 0.25082 = 26%\n",
      "Success rate at weight 7: 0.04500 / 0.16124 = 28%\n",
      "Success rate at weight 8: 0.01342 / 0.06047 = 22%\n",
      "Success rate at weight 9: 0.00107 / 0.01008 = 11%\n"
     ]
    }
   ],
   "source": [
    "banded_psuccess = []\n",
    "for i,hist in enumerate(banded_hist):\n",
    "    banded_psuccess.append(banded_prob[i]-lat.test(hist))\n",
    "    print(f'Success rate at weight {i}: {banded_psuccess[i]:.5f} / {banded_prob[i]:.5f} = {banded_psuccess[i]/banded_prob[i]*100:.0f}%')\n",
    "banded_psuccess = np.array(banded_psuccess)"
   ]
  },
  {
   "cell_type": "code",
   "execution_count": 231,
   "metadata": {},
   "outputs": [
    {
     "data": {
      "image/png": "[encoded data removed]",
      "text/plain": [
       "<Figure size 432x288 with 1 Axes>"
      ]
     },
     "metadata": {
      "needs_background": "light"
     },
     "output_type": "display_data"
    }
   ],
   "source": [
    "avg_psuccess = np.array([banded_psuccess[:i+1].sum() for i in range(L+1)])\n",
    "avg_prob = np.array([banded_prob[:i+1].sum() for i in range(L+1)])\n",
    "\n",
    "plt.plot(banded_psuccess/banded_prob,'o-',label='banded success rate')\n",
    "plt.plot(avg_psuccess/avg_prob,'o-',label='average success rate')\n",
    "plt.legend()\n",
    "plt.show()"
   ]
  },
  {
   "cell_type": "code",
   "execution_count": 233,
   "metadata": {},
   "outputs": [
    {
     "data": {
      "text/plain": [
       "array([0.00026214, 0.00353894, 0.00914227, 0.0177193 , 0.03756954,\n",
       "       0.06102528, 0.06501325, 0.04500403, 0.01341626, 0.00107136])"
      ]
     },
     "execution_count": 233,
     "metadata": {},
     "output_type": "execute_result"
    }
   ],
   "source": [
    "banded_psuccess"
   ]
  },
  {
   "cell_type": "markdown",
   "metadata": {},
   "source": [
    "## 4x4 lattice"
   ]
  },
  {
   "cell_type": "markdown",
   "metadata": {},
   "source": [
    "### Generate Pauli error strings below a weight"
   ]
  },
  {
   "cell_type": "code",
   "execution_count": 5,
   "metadata": {},
   "outputs": [],
   "source": [
    "def pauli_error(errs,pos,wt,L):\n",
    "    if len(pos) == 0:\n",
    "        for i in range(L):\n",
    "            pauli_error(errs,pos+[i],wt,L)\n",
    "    elif len(pos)<wt:\n",
    "        for i in range(pos[-1]+1,L):\n",
    "            pauli_error(errs,pos+[i],wt,L)\n",
    "    else:\n",
    "        for pauli_string in itertools.product([1,2,3],repeat=wt):\n",
    "            err = np.zeros(L,dtype=int)\n",
    "            err[pos] = np.array(pauli_string)\n",
    "            errs.append(err)\n",
    "    \n",
    "def num2string(paulis):\n",
    "    d = {0:'I',1:'X',2:'Y',3:'Z'}\n",
    "    strings = []\n",
    "    for pauli in paulis:\n",
    "        strings.append(''.join(np.vectorize(d.get)(pauli)))\n",
    "    return strings"
   ]
  },
  {
   "cell_type": "code",
   "execution_count": 4,
   "metadata": {},
   "outputs": [],
   "source": [
    "# verify with all_errors\n",
    "L = 9\n",
    "wt_max = 9\n",
    "px,py,pz = [0.1,0.3,0.2]\n",
    "\n",
    "# general way\n",
    "errors_below = [np.zeros(L,dtype=int)]\n",
    "for wt in range(wt_max):\n",
    "    pauli_error(errors_below,[],wt+1,L)\n",
    "errors_below = np.array(errors_below)\n",
    "errors_below_string = num2string(errors_below)\n",
    "xyz_weights = np.array([(errors_below==i).sum(1) for i in range(1,4)]).T\n",
    "\n",
    "prob = np.zeros(len(errors_below))\n",
    "for xyz_weight in np.unique(xyz_weights,axis=0):\n",
    "    errors = errors_below[(xyz_weights == xyz_weight).all(1)]\n",
    "    prob[(xyz_weights == xyz_weight).all(1)] = error_rate(L,*xyz_weight,px,py,pz)\n",
    "errors_below_hist = dict(zip(errors_below_string,prob))"
   ]
  },
  {
   "cell_type": "code",
   "execution_count": 5,
   "metadata": {},
   "outputs": [],
   "source": [
    "# old way using itertools\n",
    "all_errors = np.array(list(itertools.product([0,1,2,3],repeat=L)))\n",
    "all_errors_string = [''.join(error) for error in itertools.product('IXYZ',repeat=L)]\n",
    "xyz_weights = np.array([(all_errors==i).sum(1) for i in range(1,4)]).T\n",
    "\n",
    "prob = np.zeros(len(all_errors))\n",
    "for xyz_weight in np.unique(xyz_weights,axis=0):\n",
    "    errors = all_errors[(xyz_weights == xyz_weight).all(1)]\n",
    "    prob[(xyz_weights == xyz_weight).all(1)] = error_rate(L,*xyz_weight,px,py,pz)\n",
    "all_error_hist = dict(zip(all_errors_string,prob))"
   ]
  },
  {
   "cell_type": "code",
   "execution_count": 6,
   "metadata": {},
   "outputs": [
    {
     "data": {
      "text/plain": [
       "True"
      ]
     },
     "execution_count": 6,
     "metadata": {},
     "output_type": "execute_result"
    }
   ],
   "source": [
    "errors_below_hist==all_error_hist"
   ]
  },
  {
   "cell_type": "code",
   "execution_count": 15,
   "metadata": {},
   "outputs": [
    {
     "data": {
      "text/plain": [
       "True"
      ]
     },
     "execution_count": 15,
     "metadata": {},
     "output_type": "execute_result"
    }
   ],
   "source": [
    "errors_below_hist.keys()==all_error_hist.keys()"
   ]
  },
  {
   "cell_type": "markdown",
   "metadata": {},
   "source": [
    "### Now 4x4"
   ]
  },
  {
   "cell_type": "code",
   "execution_count": 47,
   "metadata": {},
   "outputs": [
    {
     "name": "stdout",
     "output_type": "stream",
     "text": [
      "48\n",
      "1080\n",
      "15120\n",
      "147420\n",
      "1061424\n"
     ]
    }
   ],
   "source": [
    "nrow, ncol = 4,4\n",
    "px,py,pz = [0.1,0.3,0.2]\n",
    "wt_max = 5\n",
    "L = nrow*ncol\n",
    "\n",
    "banded_hist = []\n",
    "banded_prob = []\n",
    "# general way\n",
    "for wt in range(wt_max):\n",
    "    errors_below = []\n",
    "    pauli_error(errors_below,[],wt+1,L)\n",
    "    errors_below = np.array(errors_below)\n",
    "    errors_below_string = num2string(errors_below)\n",
    "    xyz_weights = np.array([(errors_below==i).sum(1) for i in range(1,4)]).T\n",
    "\n",
    "    prob = np.zeros(len(errors_below))\n",
    "    for xyz_weight in np.unique(xyz_weights,axis=0):\n",
    "        errors = errors_below[(xyz_weights == xyz_weight).all(1)]\n",
    "        prob[(xyz_weights == xyz_weight).all(1)] = error_rate(L,*xyz_weight,px,py,pz)\n",
    "    errors_below_hist = dict(zip(errors_below_string,prob))\n",
    "    \n",
    "    banded_hist.append(errors_below_hist)\n",
    "    banded_prob.append(prob.sum())\n",
    "    print(len(errors_below_hist))\n",
    "banded_prob = np.array(banded_prob)\n",
    "banded_count = np.array([len(hist) for hist in banded_hist])/4**L"
   ]
  },
  {
   "cell_type": "code",
   "execution_count": 73,
   "metadata": {},
   "outputs": [
    {
     "name": "stdout",
     "output_type": "stream",
     "text": [
      "48\n",
      "1080\n",
      "15120\n",
      "147420\n",
      "1061424\n"
     ]
    }
   ],
   "source": [
    "for wt in range(wt_max):\n",
    "    print(count_per_weight(L,wt+1))"
   ]
  },
  {
   "cell_type": "code",
   "execution_count": 53,
   "metadata": {},
   "outputs": [
    {
     "data": {
      "text/plain": [
       "0.019141488122265647"
      ]
     },
     "execution_count": 53,
     "metadata": {},
     "output_type": "execute_result"
    }
   ],
   "source": [
    "banded_prob.sum()"
   ]
  },
  {
   "cell_type": "code",
   "execution_count": 65,
   "metadata": {},
   "outputs": [
    {
     "data": {
      "image/png": "[encoded data removed]",
      "text/plain": [
       "<Figure size 432x288 with 1 Axes>"
      ]
     },
     "metadata": {
      "needs_background": "light"
     },
     "output_type": "display_data"
    }
   ],
   "source": [
    "plt.plot(range(1,wt_max+1),banded_prob,'o-',label='error prob under noise model')\n",
    "plt.plot(range(1,wt_max+1),banded_count,'o-',label='count prob')\n",
    "plt.legend()\n",
    "plt.show()"
   ]
  },
  {
   "cell_type": "code",
   "execution_count": 57,
   "metadata": {},
   "outputs": [
    {
     "name": "stdout",
     "output_type": "stream",
     "text": [
      "000---001---002---003\n",
      " | \u001b[31m # \u001b[0m | \u001b[34m # \u001b[0m | \u001b[31m # \u001b[0m |\n",
      "004---005---006---007\n",
      " | \u001b[34m # \u001b[0m | \u001b[31m # \u001b[0m | \u001b[34m # \u001b[0m |\n",
      "008---009---010---011\n",
      " | \u001b[31m # \u001b[0m | \u001b[34m # \u001b[0m | \u001b[31m # \u001b[0m |\n",
      "012---013---014---015\n",
      "\n"
     ]
    }
   ],
   "source": [
    "lat = Lattice_2d(nrow,ncol)\n",
    "lat.color_lattice('RBRBRBRBR')\n",
    "print(lat)"
   ]
  },
  {
   "cell_type": "code",
   "execution_count": 62,
   "metadata": {},
   "outputs": [
    {
     "name": "stdout",
     "output_type": "stream",
     "text": [
      "Success rate at weight 1: 0.00001 / 0.00001 = 100%\n",
      "Success rate at weight 2: 0.00009 / 0.00012 = 75%\n",
      "Success rate at weight 3: 0.00040 / 0.00081 = 50%\n",
      "Success rate at weight 4: 0.00137 / 0.00396 = 35%\n",
      "Success rate at weight 5: 0.00396 / 0.01425 = 28%\n"
     ]
    }
   ],
   "source": [
    "banded_psuccess = []\n",
    "for i,hist in enumerate(banded_hist):\n",
    "    banded_psuccess.append(banded_prob[i]-lat.test(hist))\n",
    "    print(f'Success rate at weight {i+1}: {banded_psuccess[i]:.5f} / {banded_prob[i]:.5f} = {banded_psuccess[i]/banded_prob[i]*100:.0f}%')\n",
    "banded_psuccess = np.array(banded_psuccess)"
   ]
  },
  {
   "cell_type": "code",
   "execution_count": 66,
   "metadata": {},
   "outputs": [
    {
     "data": {
      "text/plain": [
       "array([1.03079215e-05, 8.73488974e-05, 4.04874487e-04, 1.37145520e-03,\n",
       "       3.96298100e-03])"
      ]
     },
     "execution_count": 66,
     "metadata": {},
     "output_type": "execute_result"
    }
   ],
   "source": [
    "banded_psuccess"
   ]
  },
  {
   "cell_type": "code",
   "execution_count": 80,
   "metadata": {},
   "outputs": [
    {
     "data": {
      "image/png": "[encoded data removed]",
      "text/plain": [
       "<Figure size 432x288 with 1 Axes>"
      ]
     },
     "metadata": {
      "needs_background": "light"
     },
     "output_type": "display_data"
    }
   ],
   "source": [
    "avg_psuccess = np.array([banded_psuccess[:i+1].sum() for i in range(wt_max)])\n",
    "avg_prob = np.array([banded_prob[:i+1].sum() for i in range(wt_max)])\n",
    "\n",
    "plt.plot(range(1,wt_max+1),banded_psuccess/banded_prob,'o-',label='banded success rate')\n",
    "plt.plot(range(1,wt_max+1),avg_psuccess/avg_prob,'o-',label='average success rate')\n",
    "plt.legend()\n",
    "plt.show()"
   ]
  },
  {
   "cell_type": "markdown",
   "metadata": {},
   "source": [
    "## 5x5 lattice"
   ]
  },
  {
   "cell_type": "code",
   "execution_count": 6,
   "metadata": {},
   "outputs": [
    {
     "name": "stdout",
     "output_type": "stream",
     "text": [
      "75\n",
      "2700\n",
      "62100\n",
      "1024650\n",
      "12910590\n",
      "75\n",
      "2700\n",
      "62100\n",
      "1024650\n",
      "12910590\n"
     ]
    }
   ],
   "source": [
    "nrow, ncol = 5,5\n",
    "px,py,pz = [0.1,0.3,0.2]\n",
    "wt_max = 5\n",
    "L = nrow*ncol\n",
    "\n",
    "for wt in range(wt_max):\n",
    "    print(count_per_weight(L,wt+1))\n",
    "\n",
    "banded_hist = []\n",
    "banded_prob = []\n",
    "# general way\n",
    "for wt in range(wt_max):\n",
    "    errors_below = []\n",
    "    pauli_error(errors_below,[],wt+1,L)\n",
    "    errors_below = np.array(errors_below)\n",
    "    errors_below_string = num2string(errors_below)\n",
    "    xyz_weights = np.array([(errors_below==i).sum(1) for i in range(1,4)]).T\n",
    "\n",
    "    prob = np.zeros(len(errors_below))\n",
    "    for xyz_weight in np.unique(xyz_weights,axis=0):\n",
    "        errors = errors_below[(xyz_weights == xyz_weight).all(1)]\n",
    "        prob[(xyz_weights == xyz_weight).all(1)] = error_rate(L,*xyz_weight,px,py,pz)\n",
    "    errors_below_hist = dict(zip(errors_below_string,prob))\n",
    "    \n",
    "    banded_hist.append(errors_below_hist)\n",
    "    banded_prob.append(prob.sum())\n",
    "    print(len(errors_below_hist))\n",
    "banded_prob = np.array(banded_prob)\n",
    "banded_count = np.array([len(hist) for hist in banded_hist])/4**L"
   ]
  },
  {
   "cell_type": "code",
   "execution_count": 7,
   "metadata": {},
   "outputs": [
    {
     "data": {
      "text/plain": [
       "5.3589633787849084e-05"
      ]
     },
     "execution_count": 7,
     "metadata": {},
     "output_type": "execute_result"
    }
   ],
   "source": [
    "banded_prob.sum()"
   ]
  },
  {
   "cell_type": "code",
   "execution_count": 8,
   "metadata": {},
   "outputs": [
    {
     "data": {
      "image/png": "[encoded data removed]",
      "text/plain": [
       "<Figure size 432x288 with 1 Axes>"
      ]
     },
     "metadata": {
      "needs_background": "light"
     },
     "output_type": "display_data"
    }
   ],
   "source": [
    "plt.plot(range(1,wt_max+1),banded_prob,'o-',label='error prob under noise model')\n",
    "plt.plot(range(1,wt_max+1),banded_count,'o-',label='count prob')\n",
    "plt.legend()\n",
    "plt.show()"
   ]
  },
  {
   "cell_type": "code",
   "execution_count": 5,
   "metadata": {},
   "outputs": [],
   "source": [
    "from compass import *\n",
    "nrow=ncol=5"
   ]
  },
  {
   "cell_type": "code",
   "execution_count": null,
   "metadata": {},
   "outputs": [],
   "source": [
    "lat = Lattice_2d(nrow,ncol)\n",
    "lat.color_lattice('RBRBBRBRRBRBBRBR')\n",
    "print(lat)"
   ]
  },
  {
   "cell_type": "code",
   "execution_count": null,
   "metadata": {},
   "outputs": [],
   "source": [
    "banded_psuccess = []\n",
    "for i,hist in enumerate(banded_hist):\n",
    "    banded_psuccess.append(banded_prob[i]-lat.test(hist))\n",
    "    print(f'Success rate at weight {i+1}: {banded_psuccess[i]:.5f} / {banded_prob[i]:.5f} = {banded_psuccess[i]/banded_prob[i]*100:.0f}%')\n",
    "banded_psuccess = np.array(banded_psuccess)"
   ]
  },
  {
   "cell_type": "code",
   "execution_count": null,
   "metadata": {},
   "outputs": [],
   "source": [
    "banded_psuccess"
   ]
  },
  {
   "cell_type": "code",
   "execution_count": null,
   "metadata": {},
   "outputs": [],
   "source": [
    "avg_psuccess = np.array([banded_psuccess[:i+1].sum() for i in range(wt_max)])\n",
    "avg_prob = np.array([banded_prob[:i+1].sum() for i in range(wt_max)])\n",
    "\n",
    "plt.plot(range(1,wt_max+1),banded_psuccess/banded_prob,'o-',label='banded success rate')\n",
    "plt.plot(range(1,wt_max+1),avg_psuccess/avg_prob,'o-',label='average success rate')\n",
    "plt.legend()\n",
    "plt.show()"
   ]
  },
  {
   "cell_type": "code",
   "execution_count": null,
   "metadata": {},
   "outputs": [],
   "source": []
  }
 ],
 "metadata": {
  "kernelspec": {
   "display_name": "julius",
   "language": "python",
   "name": "julius"
  },
  "language_info": {
   "codemirror_mode": {
    "name": "ipython",
    "version": 3
   },
   "file_extension": ".py",
   "mimetype": "text/x-python",
   "name": "python",
   "nbconvert_exporter": "python",
   "pygments_lexer": "ipython3",
   "version": "3.7.9"
  },
  "toc-autonumbering": true
 },
 "nbformat": 4,
 "nbformat_minor": 4
}
