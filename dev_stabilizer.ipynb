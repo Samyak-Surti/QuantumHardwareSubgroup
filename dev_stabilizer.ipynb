{
 "cells": [
  {
   "cell_type": "markdown",
   "id": "4ecbc262-9567-487b-bc12-25ed7b682d55",
   "metadata": {},
   "source": [
    "This notebook is to develop and test lib/stabilizer.py\n",
    "\n",
    "TO DO"
   ]
  },
  {
   "cell_type": "markdown",
   "id": "95154085-ff1d-4c00-9392-fb3bd8682f8c",
   "metadata": {},
   "source": [
    "# lib/stabilizer.py"
   ]
  },
  {
   "cell_type": "code",
   "execution_count": 388,
   "id": "21dcc6e1-e60f-48cf-8eb9-154673e3d55b",
   "metadata": {},
   "outputs": [],
   "source": []
  },
  {
   "cell_type": "code",
   "execution_count": 22,
   "id": "6bd1ee69-4ddc-4467-b311-44c40ea74389",
   "metadata": {},
   "outputs": [],
   "source": [
    "import numpy as np\n",
    "import matplotlib.pyplot as plt\n",
    "import stim\n",
    "from lib.stabilizer import measurement_gadgets, StabilizerCode, stabilizer_circuits\n",
    "from lib.color_compass import Lattice2D, compass_to_surface\n",
    "from lib.decoder import checkmatrix,pL_from_checkmatrix\n",
    "from utils.stim2pymatching import logical_error_rate_noisy_graph"
   ]
  },
  {
   "cell_type": "markdown",
   "id": "f79dac9f-7612-4b44-8be4-9e8a0d3a53d5",
   "metadata": {},
   "source": [
    "# Measurement gadgets"
   ]
  },
  {
   "cell_type": "markdown",
   "id": "88609645-e31e-4245-8b7d-a2fc8482b205",
   "metadata": {},
   "source": [
    "## Unitary verification between `cnot` and `hadamard` construction"
   ]
  },
  {
   "cell_type": "code",
   "execution_count": 2,
   "id": "4358df14-22d4-4c49-a3b2-235268f41c19",
   "metadata": {},
   "outputs": [],
   "source": [
    "H = np.array([[1,1],[1,-1]])/np.sqrt(2)\n",
    "I = np.eye(2)\n",
    "X = np.array([[0,1],[1,0]])\n",
    "Y = np.array([[0,-1j],[1j,0]])\n",
    "Z = np.array([[1,0],[0,-1]])\n",
    "S = np.array([[1,0],[0,1j]])\n",
    "zero = np.array([[1,0],[0,0]])\n",
    "one = np.array([[0,0],[0,1]])\n",
    "CNOT = np.kron(zero,I) + np.kron(one,X)\n",
    "NOTC = np.kron(I,zero) + np.kron(X,one)"
   ]
  },
  {
   "cell_type": "code",
   "execution_count": 3,
   "id": "821e8529-b0ad-4a3a-8392-05452ab8bd6f",
   "metadata": {},
   "outputs": [
    {
     "name": "stdout",
     "output_type": "stream",
     "text": [
      "Difference in \n",
      " X: 0.0\n",
      " Y: 0.0\n",
      " Z: 2.220446049250313e-16\n"
     ]
    }
   ],
   "source": [
    "hadamard_X = np.kron(I,H) @ (np.kron(I,zero) + np.kron(X,one)) @ np.kron(I,H)\n",
    "hadamard_Y = np.kron(I,H) @ (np.kron(I,zero) + np.kron(Y,one)) @ np.kron(I,H)\n",
    "hadamard_Z = np.kron(I,H) @ (np.kron(I,zero) + np.kron(Z,one)) @ np.kron(I,H)\n",
    "\n",
    "cnot_Z = CNOT\n",
    "cnot_X = np.kron(H,I)@CNOT@np.kron(H,I)\n",
    "cnot_Y = np.kron(S@H,I)@CNOT@np.kron(H@S.conj().T,I)\n",
    "\n",
    "print(f'Difference in \\n X: {abs(hadamard_X-cnot_X).max()}\\n Y: {abs(hadamard_Y-cnot_Y).max()}\\n Z: {abs(hadamard_Z-cnot_Z).max()}')"
   ]
  },
  {
   "cell_type": "markdown",
   "id": "55fcb4bc-1ba4-4aa6-bf56-e02feaf447ee",
   "metadata": {},
   "source": [
    "## Basic call"
   ]
  },
  {
   "cell_type": "code",
   "execution_count": 4,
   "id": "cbb7f24b-5c05-44a9-814b-6b1497603577",
   "metadata": {},
   "outputs": [
    {
     "name": "stdout",
     "output_type": "stream",
     "text": [
      "\n",
      "cnot:\n",
      " [stim.Circuit('''\n",
      "    CX 2 4 3 4\n",
      "    MR 4\n",
      "'''), stim.Circuit('''\n",
      "    S_DAG 2 3\n",
      "    H 0 2 3\n",
      "    CX 0 5 1 5 2 5 3 5\n",
      "    H 0 2 3\n",
      "    S 2 3\n",
      "    MR 5\n",
      "''')]\n",
      "\n",
      "hadamard:\n",
      " [stim.Circuit('''\n",
      "    H 4\n",
      "    CZ 4 2 4 3\n",
      "    H 4\n",
      "    MR 4\n",
      "'''), stim.Circuit('''\n",
      "    H 5\n",
      "    CX 5 0\n",
      "    CY 5 2 5 3\n",
      "    CZ 5 1\n",
      "    H 5\n",
      "    MR 5\n",
      "''')]\n"
     ]
    }
   ],
   "source": [
    "code = ['IIZZ','XZYY']\n",
    "# gate_noise1 = 'DEPOLARIZE1(0.01)'\n",
    "# gate_noise1 = 'PAULI_CHANNEL_1(0.02, 0.05, 0.1)'\n",
    "# gate_noise2 = 'DEPOLARIZE2(0.01)'\n",
    "# meas_noise = 'X_ERROR(0.01)'\n",
    "gate_noise1 = None #'PAULI_CHANNEL_1(0.02, 0.05, 0.1)'\n",
    "gate_noise2 = None #'DEPOLARIZE2(0.01)'\n",
    "meas_noise = None #'X_ERROR(0.01)'\n",
    "print('\\ncnot:\\n',measurement_gadgets(code, \n",
    "                                      'cnot', \n",
    "                                      gate_noise1, \n",
    "                                      gate_noise2, \n",
    "                                      meas_noise))\n",
    "print('\\nhadamard:\\n',measurement_gadgets(code, \n",
    "                                          'hadamard', \n",
    "                                          gate_noise1, \n",
    "                                          gate_noise2, \n",
    "                                          meas_noise))"
   ]
  },
  {
   "cell_type": "markdown",
   "id": "ec9f9748-7a28-4d9a-bc96-ea7cbbdf8c7d",
   "metadata": {
    "tags": []
   },
   "source": [
    "# Add detectors, multi-round"
   ]
  },
  {
   "cell_type": "code",
   "execution_count": 10,
   "id": "4f540852-a6cd-434f-a204-86063562c4db",
   "metadata": {},
   "outputs": [],
   "source": [
    "stabilizers = ['XZZXI', 'IXZZX', 'XIXZZ', 'ZXIXZ']\n",
    "logicals = ['XXXXX','ZZZZZ']\n",
    "# stabilizers = ['ZZI', 'IZZ']\n",
    "# logical = ['ZII']\n",
    "\n",
    "# only works for CSS code for now\n",
    "# stabilizers = ['XXIXXII','XIXXIIX','IIIXXXX','ZZIZZII','ZIZZIIZ','IIIZZZZ']\n",
    "# stabilizers = ['XX_XX__','X_XX__X','___XXXX','ZZ_ZZ__','Z_ZZ__Z','___ZZZZ']\n",
    "# logicals = ['XXXXXXX','ZZZZZZZ']\n",
    "\n",
    "gate_noise1 = None #'PAULI_CHANNEL_1(0.02, 0.05, 0.1)'\n",
    "gate_noise2 = None #'DEPOLARIZE2(0.01)'\n",
    "meas_noise = None #'X_ERROR(0.01)'\n",
    "noise = (gate_noise1,gate_noise2,meas_noise)\n",
    "rounds = 3\n",
    "perfect_encoding = True\n",
    "perfect_logical_meas = True\n",
    "construction = 'cnot'\n",
    "\n",
    "circuits = stabilizer_circuits(stabilizers, logicals, noise, rounds, construction, perfect_encoding, perfect_logical_meas)"
   ]
  },
  {
   "cell_type": "code",
   "execution_count": 13,
   "id": "3d7e787d-b0cf-48d1-b373-1485fb3a61f9",
   "metadata": {},
   "outputs": [
    {
     "name": "stdout",
     "output_type": "stream",
     "text": [
      "[[0 0 1 0 0 0 1 0 0 0 1 0 0 0 0]\n",
      " [0 0 0 1 0 0 0 1 0 0 0 1 0 0 0]\n",
      " [0 1 0 0 0 0 0 0 0 0 0 0 0 0 1]\n",
      " [0 1 0 0 1 1 0 0 1 1 0 0 1 1 1]\n",
      " [0 0 1 0 0 1 1 0 0 1 1 0 0 1 0]\n",
      " [0 1 0 1 0 0 0 1 0 0 0 1 0 0 1]\n",
      " [0 0 0 0 1 0 0 0 1 0 0 0 1 0 0]\n",
      " [0 1 0 1 0 0 0 1 0 0 0 1 0 0 1]\n",
      " [0 1 1 0 0 0 1 0 0 0 1 0 0 0 1]\n",
      " [0 1 1 1 1 1 1 1 1 1 1 1 1 1 1]]\n",
      "[[0 0 1 0 0 1 1 0 0 1 1 0 0 1 0]\n",
      " [0 1 0 1 0 1 0 1 0 1 0 1 0 1 1]\n",
      " [0 0 1 0 1 1 1 0 1 1 1 0 1 1 0]\n",
      " [0 0 1 1 0 0 1 1 0 0 1 1 0 0 0]\n",
      " [1 0 0 0 1 0 0 0 1 0 0 0 1 0 0]\n",
      " [1 1 0 0 0 0 0 0 0 0 0 0 0 0 1]\n",
      " [0 0 1 0 1 1 1 0 1 1 1 0 1 1 0]\n",
      " [0 1 0 1 0 1 0 1 0 1 0 1 0 1 1]\n",
      " [1 1 1 0 1 1 1 0 1 1 1 0 1 1 1]\n",
      " [0 0 1 0 1 0 1 0 1 0 1 0 1 0 0]]\n"
     ]
    }
   ],
   "source": [
    "num_shots = 10\n",
    "print(circuits[0].compile_sampler().sample(num_shots))#[:,[0,1,-1]])\n",
    "print(circuits[1].compile_sampler().sample(num_shots))#[:,[0,1,-1]])"
   ]
  },
  {
   "cell_type": "code",
   "execution_count": 23,
   "id": "acece498-c550-476b-b51a-ba7b1e5ca7e1",
   "metadata": {},
   "outputs": [
    {
     "data": {
      "text/plain": [
       "array([[0, 1, 0, 0, 0, 0, 0, 0, 0, 0, 0, 0, 0, 0, 1],\n",
       "       [1, 1, 1, 1, 0, 0, 1, 1, 0, 0, 1, 1, 0, 0, 1],\n",
       "       [1, 0, 1, 0, 1, 0, 1, 0, 1, 0, 1, 0, 1, 0, 0],\n",
       "       [1, 0, 1, 0, 0, 0, 1, 0, 0, 0, 1, 0, 0, 0, 0],\n",
       "       [0, 0, 0, 0, 1, 0, 0, 0, 1, 0, 0, 0, 1, 0, 0],\n",
       "       [1, 1, 0, 0, 1, 1, 0, 0, 1, 1, 0, 0, 1, 1, 1],\n",
       "       [0, 0, 0, 0, 0, 0, 0, 0, 0, 0, 0, 0, 0, 0, 0],\n",
       "       [0, 1, 0, 1, 0, 1, 0, 1, 0, 1, 0, 1, 0, 1, 1],\n",
       "       [0, 1, 1, 1, 0, 0, 1, 1, 0, 0, 1, 1, 0, 0, 1],\n",
       "       [0, 0, 1, 0, 1, 1, 1, 0, 1, 1, 1, 0, 1, 1, 0]], dtype=uint8)"
      ]
     },
     "execution_count": 23,
     "metadata": {},
     "output_type": "execute_result"
    }
   ],
   "source": [
    "shots = circuits[1].compile_sampler().sample(num_shots)\n",
    "shots"
   ]
  },
  {
   "cell_type": "code",
   "execution_count": 29,
   "id": "bee3bd33-771a-48ed-87bc-168031198dcc",
   "metadata": {},
   "outputs": [
    {
     "data": {
      "text/plain": [
       "array([[0, 0, 0, 0, 0, 0, 0, 0, 0, 0, 0, 0],\n",
       "       [1, 1, 0, 0, 1, 1, 0, 0, 1, 1, 0, 0],\n",
       "       [1, 0, 1, 0, 1, 0, 1, 0, 1, 0, 1, 0],\n",
       "       [1, 0, 0, 0, 1, 0, 0, 0, 1, 0, 0, 0],\n",
       "       [0, 0, 1, 0, 0, 0, 1, 0, 0, 0, 1, 0],\n",
       "       [0, 0, 1, 1, 0, 0, 1, 1, 0, 0, 1, 1],\n",
       "       [0, 0, 0, 0, 0, 0, 0, 0, 0, 0, 0, 0],\n",
       "       [0, 1, 0, 1, 0, 1, 0, 1, 0, 1, 0, 1],\n",
       "       [1, 1, 0, 0, 1, 1, 0, 0, 1, 1, 0, 0],\n",
       "       [1, 0, 1, 1, 1, 0, 1, 1, 1, 0, 1, 1]], dtype=uint8)"
      ]
     },
     "execution_count": 29,
     "metadata": {},
     "output_type": "execute_result"
    }
   ],
   "source": [
    "shots[:,2:-1]"
   ]
  },
  {
   "cell_type": "markdown",
   "id": "9c35e774-7987-499e-a0e5-22aed2def87b",
   "metadata": {},
   "source": [
    "# No noise verification\n",
    "- Initial and final logical measurements are the same\n",
    "- All syndromes are 0\n",
    "## CSS 7-qubit code"
   ]
  },
  {
   "cell_type": "code",
   "execution_count": 48,
   "id": "80b606bb-c1cc-4b98-b184-9d68283aa1af",
   "metadata": {},
   "outputs": [
    {
     "name": "stdout",
     "output_type": "stream",
     "text": [
      "cnot\n",
      "- rounds = 3\n",
      "\tFail rate 0.0\n",
      "- rounds = 3\n",
      "\tFail rate 0.0\n",
      "- rounds = 7\n",
      "\tFail rate 0.0\n",
      "hadamard\n",
      "- rounds = 8\n",
      "\tFail rate 0.0\n",
      "- rounds = 9\n",
      "\tFail rate 0.0\n",
      "- rounds = 6\n",
      "\tFail rate 0.0\n"
     ]
    }
   ],
   "source": [
    "stabilizers = ['XX_XX__','X_XX__X','___XXXX','ZZ_ZZ__','Z_ZZ__Z','___ZZZZ']\n",
    "logicals = ['XXXXXXX','ZZZZZZZ']\n",
    "\n",
    "noise = (None,None,None)\n",
    "num_shots = 10\n",
    "\n",
    "for construction in ['cnot','hadamard']:\n",
    "    print(construction)\n",
    "    for rounds in np.random.randint(1,10,size=3):\n",
    "        print(f'- rounds = {rounds}')\n",
    "        fails = 0\n",
    "        circuits = stabilizer_circuits(stabilizers, logicals, noise, rounds, construction)\n",
    "        for i in range(2):\n",
    "            shots = circuits[i].compile_sampler().sample(num_shots)\n",
    "            observables = shots[:,[1,-1]]\n",
    "            syndromes = shots[:,2:-1]\n",
    "            if (observables.sum(1)%2).sum() or syndromes.sum():\n",
    "                print(lat)\n",
    "                fails += 1\n",
    "        print(f'\\tFail rate {fails/2}')"
   ]
  },
  {
   "cell_type": "markdown",
   "id": "be3346d2-e19f-4e7e-afc3-0fb0334d4887",
   "metadata": {},
   "source": [
    "## (Issue) 5-qubit code \n",
    "- Non-CSS code doesn't work"
   ]
  },
  {
   "cell_type": "code",
   "execution_count": 49,
   "id": "7de4c1b7-3b19-49e1-89c8-758428262b02",
   "metadata": {},
   "outputs": [
    {
     "name": "stdout",
     "output_type": "stream",
     "text": [
      "cnot\n",
      "- rounds = 2\n",
      "\tFail rate 1.0\n",
      "- rounds = 9\n",
      "\tFail rate 1.0\n",
      "- rounds = 3\n",
      "\tFail rate 1.0\n",
      "hadamard\n",
      "- rounds = 9\n",
      "\tFail rate 1.0\n",
      "- rounds = 6\n",
      "\tFail rate 1.0\n",
      "- rounds = 9\n",
      "\tFail rate 1.0\n"
     ]
    }
   ],
   "source": [
    "stabilizers = ['XZZXI', 'IXZZX', 'XIXZZ', 'ZXIXZ']\n",
    "logicals = ['XXXXX','ZZZZZ']\n",
    "\n",
    "noise = (None,None,None)\n",
    "num_shots = 10\n",
    "\n",
    "for construction in ['cnot','hadamard']:\n",
    "    print(construction)\n",
    "    for rounds in np.random.randint(1,10,size=3):\n",
    "        print(f'- rounds = {rounds}')\n",
    "        fails = 0\n",
    "        circuits = stabilizer_circuits(stabilizers, logicals, noise, rounds, construction)\n",
    "        for i in range(2):\n",
    "            shots = circuits[i].compile_sampler().sample(num_shots)\n",
    "            observables = shots[:,[1,-1]]\n",
    "            syndromes = shots[:,2:-1]\n",
    "            if (observables.sum(1)%2).sum() or syndromes.sum():\n",
    "                fails += 1\n",
    "        print(f'\\tFail rate {fails/2}')"
   ]
  },
  {
   "cell_type": "markdown",
   "id": "452e8e0d-4080-4d29-9d90-569fae12e5ff",
   "metadata": {},
   "source": [
    "## Color compass code"
   ]
  },
  {
   "cell_type": "code",
   "execution_count": 52,
   "id": "bc4fa105-eb01-40e4-aa4f-fe6370940e05",
   "metadata": {},
   "outputs": [
    {
     "name": "stdout",
     "output_type": "stream",
     "text": [
      "cnot\n",
      "- rounds = 9\n",
      "\tFail rate 0.0\n",
      "- rounds = 8\n",
      "\tFail rate 0.0\n",
      "- rounds = 9\n",
      "\tFail rate 0.0\n",
      "hadamard\n",
      "- rounds = 1\n",
      "\tFail rate 0.0\n",
      "- rounds = 1\n",
      "\tFail rate 0.0\n",
      "- rounds = 8\n",
      "\tFail rate 0.0\n"
     ]
    }
   ],
   "source": [
    "dim = 8\n",
    "lat = Lattice2D(dim, dim)\n",
    "failures = []\n",
    "\n",
    "noise = (None,None,None)\n",
    "num_shots = 10\n",
    "num_configs = 100\n",
    "\n",
    "for construction in ['cnot','hadamard']:\n",
    "    print(construction)\n",
    "    for rounds in np.random.randint(1,10,size=3):\n",
    "        print(f'- rounds = {rounds}')\n",
    "        fails = 0\n",
    "        colorings = np.random.randint(-1,1,size=(num_configs,(dim-1)**2))\n",
    "        for c in colorings:\n",
    "            lat.color_lattice(c)\n",
    "            circuits = stabilizer_circuits(lat.getS(), lat.logicals, noise, rounds, construction)\n",
    "            for i in range(2):\n",
    "                shots = circuits[i].compile_sampler().sample(num_shots)\n",
    "                observables = shots[:,[1,-1]]\n",
    "                syndromes = shots[:,2:-1]\n",
    "                if (observables.sum(1)%2).sum() or syndromes.sum():\n",
    "                    # print(lat)\n",
    "                    fails += 1\n",
    "        print(f'\\tFail rate {fails/len(colorings)/2}')"
   ]
  },
  {
   "cell_type": "markdown",
   "id": "a24fcb80-1f2d-49ed-93b2-d8ea19636a71",
   "metadata": {},
   "source": [
    "## Some noise: fail rate is non-zero"
   ]
  },
  {
   "cell_type": "code",
   "execution_count": 66,
   "id": "f93f808e-04fa-42c8-8fb5-1afd482e73e8",
   "metadata": {},
   "outputs": [
    {
     "name": "stdout",
     "output_type": "stream",
     "text": [
      "cnot\n",
      "- rounds = 8\n",
      "\tFail rate 0.89\n",
      "- rounds = 4\n",
      "\tFail rate 0.765\n",
      "- rounds = 4\n",
      "\tFail rate 0.68\n",
      "hadamard\n",
      "- rounds = 8\n",
      "\tFail rate 0.725\n",
      "- rounds = 4\n",
      "\tFail rate 0.445\n",
      "- rounds = 4\n",
      "\tFail rate 0.36\n"
     ]
    }
   ],
   "source": [
    "dim = 5\n",
    "lat = Lattice2D(dim, dim)\n",
    "failures = []\n",
    "\n",
    "noise_level = 1e-4\n",
    "gate_noise1 = f'PAULI_CHANNEL_1({noise_level}, {noise_level}, {noise_level})'\n",
    "gate_noise2 = f'DEPOLARIZE2({noise_level})'\n",
    "meas_noise = f'X_ERROR({noise_level})'\n",
    "noise = (gate_noise1,gate_noise2,meas_noise)\n",
    "# noise = (None,None,None)\n",
    "num_shots = 10\n",
    "num_configs = 100\n",
    "\n",
    "for construction in ['cnot','hadamard']:\n",
    "    print(construction)\n",
    "    for rounds in np.random.randint(1,10,size=3):\n",
    "        print(f'- rounds = {rounds}')\n",
    "        fails = 0\n",
    "        colorings = np.random.randint(-1,1,size=(num_configs,(dim-1)**2))\n",
    "        for c in colorings:\n",
    "            lat.color_lattice(c)\n",
    "            circuits = stabilizer_circuits(lat.getS(), lat.logicals, noise, rounds, construction)\n",
    "            for i in range(2):\n",
    "                shots = circuits[i].compile_sampler().sample(num_shots)\n",
    "                observables = shots[:,[1,-1]]\n",
    "                syndromes = shots[:,2:-1]\n",
    "                if (observables.sum(1)%2).sum() or syndromes.sum():\n",
    "                    # print(lat)\n",
    "                    fails += 1\n",
    "        print(f'\\tFail rate {fails/len(colorings)/2}')"
   ]
  },
  {
   "cell_type": "markdown",
   "id": "b12b54fe-2e85-413f-aed2-58a96579ef29",
   "metadata": {
    "tags": []
   },
   "source": [
    "# Case study: surface code , benchmark to stim"
   ]
  },
  {
   "cell_type": "markdown",
   "id": "9327589a-83d4-4213-a35a-e94ecdbd4e13",
   "metadata": {},
   "source": [
    "## pL vs. rounds"
   ]
  },
  {
   "cell_type": "code",
   "execution_count": 57,
   "id": "9657b583-d3bd-4f53-8eac-cd5373c95b30",
   "metadata": {},
   "outputs": [],
   "source": [
    "# surface code\n",
    "dim = 3\n",
    "lat = compass_to_surface(dim,dim,'X')\n",
    "encoding = 'reset_Z'\n",
    "logical = lat.logicals[0] if 'X' in encoding else lat.logicals[1]\n",
    "after_encode_unitary = 'I'*dim**2\n",
    "# after_encode_unitary = lat.logicals[0]\n",
    "# after_encode_unitary = 'XXXXXXXXX'\n",
    "rounds = 9\n",
    "\n",
    "noise_level = 3e-3\n",
    "# gate_noise1 = f'PAULI_CHANNEL_1({noise_level}, {noise_level}, {noise_level})'\n",
    "gate_noise1 = f'DEPOLARIZE1({noise_level})'\n",
    "gate_noise2 = f'DEPOLARIZE2({noise_level})'\n",
    "meas_noise = f'X_ERROR({noise_level})'\n",
    "noise = (gate_noise1,gate_noise2,meas_noise)\n",
    "\n",
    "circuit = stabilizer_circuits(lat, encoding, after_encode_unitary, noise,\n",
    "                              rounds, meas_logical_via_ancilla=False)"
   ]
  },
  {
   "cell_type": "code",
   "execution_count": 101,
   "id": "38b41e2f-c2d3-4349-b0ee-d34b1903f4b1",
   "metadata": {},
   "outputs": [
    {
     "name": "stdout",
     "output_type": "stream",
     "text": [
      "Running for rounds = 1\n",
      "Running for rounds = 3\n",
      "Running for rounds = 5\n",
      "Running for rounds = 7\n",
      "Running for rounds = 9\n"
     ]
    }
   ],
   "source": [
    "num_shots = int(1e4)\n",
    "diff_rounds = [1,3,5,7,9]\n",
    "pLs = []\n",
    "enc_pLs = []\n",
    "anc_pLs = []\n",
    "stim_pLs = []\n",
    "\n",
    "for rounds in diff_rounds:\n",
    "    print(f'Running for rounds = {rounds}')\n",
    "    circuit = stabilizer_circuits(lat, encoding, after_encode_unitary, noise,\n",
    "                                  rounds, meas_logical_via_ancilla=False)\n",
    "    \n",
    "    enc_circuit = stabilizer_circuits(lat, 'encode_Z', after_encode_unitary, noise,\n",
    "                                  rounds, meas_logical_via_ancilla=False)\n",
    "    \n",
    "    anc_circuit = stabilizer_circuits(lat, encoding, after_encode_unitary, noise,\n",
    "                                  rounds, meas_logical_via_ancilla=True)\n",
    "    \n",
    "    stim_circuit = stim.Circuit.generated(\n",
    "            \"surface_code:rotated_memory_z\",\n",
    "            rounds=rounds,\n",
    "            distance=dim,\n",
    "            after_clifford_depolarization=noise_level,\n",
    "            before_measure_flip_probability=noise_level)\n",
    "\n",
    "    pLs.append(estimate_pL_noisy_graph(circuit, num_shots))\n",
    "    enc_pLs.append(estimate_pL_noisy_graph(enc_circuit, num_shots))\n",
    "    anc_pLs.append(estimate_pL_noisy_graph(anc_circuit, num_shots))\n",
    "    stim_pLs.append(estimate_pL_noisy_graph(stim_circuit, num_shots))\n",
    "\n",
    "pLs = np.array(pLs)\n",
    "enc_pLs = np.array(enc_pLs)\n",
    "anc_pLs = np.array(anc_pLs)\n",
    "stim_pLs = np.array(stim_pLs)"
   ]
  },
  {
   "cell_type": "code",
   "execution_count": 105,
   "id": "3b0c1009-b4c6-4adf-a54c-86603817967a",
   "metadata": {},
   "outputs": [
    {
     "data": {
      "text/plain": [
       "[<matplotlib.lines.Line2D at 0x7f8749f41fd0>]"
      ]
     },
     "execution_count": 105,
     "metadata": {},
     "output_type": "execute_result"
    },
    {
     "data": {
      "image/png": "[encoded data removed]",
      "text/plain": [
       "<Figure size 864x288 with 2 Axes>"
      ]
     },
     "metadata": {
      "needs_background": "light"
     },
     "output_type": "display_data"
    }
   ],
   "source": [
    "labels = ['no correction','noisy graph']\n",
    "plt.figure(figsize=(12,4))\n",
    "\n",
    "plt.subplot(1,2,1)\n",
    "for i in range(2):\n",
    "    plt.plot(diff_rounds,pLs[:,i],f'C{i}o-',label=labels[i])\n",
    "    plt.plot(diff_rounds,enc_pLs[:,i],f'C{i}:',label=labels[i]+' full  encode')\n",
    "    plt.plot(diff_rounds,stim_pLs[:,i],f'C{i}*:',label=labels[i]+' stim')\n",
    "    plt.plot(diff_rounds,anc_pLs[:,i],f'C{i}--',label=labels[i]+' l_op via ancilla')\n",
    "plt.legend()\n",
    "\n",
    "plt.subplot(1,2,2)\n",
    "i = 1    \n",
    "plt.plot(diff_rounds,pLs[:,i],f'C{i}o-',label=labels[i])\n",
    "plt.plot(diff_rounds,stim_pLs[:,i],f'C{i}*:',label=labels[i]+' stim')"
   ]
  },
  {
   "cell_type": "code",
   "execution_count": 55,
   "id": "1e90f63e-990d-47ba-a605-1f2778c6f110",
   "metadata": {},
   "outputs": [
    {
     "data": {
      "text/plain": [
       "[<matplotlib.lines.Line2D at 0x7f873d462250>]"
      ]
     },
     "execution_count": 55,
     "metadata": {},
     "output_type": "execute_result"
    },
    {
     "data": {
      "image/png": "[encoded data removed]",
      "text/plain": [
       "<Figure size 864x288 with 2 Axes>"
      ]
     },
     "metadata": {
      "needs_background": "light"
     },
     "output_type": "display_data"
    }
   ],
   "source": []
  },
  {
   "cell_type": "markdown",
   "id": "cc0dcdad-92a3-411e-97ba-d72099670f21",
   "metadata": {},
   "source": [
    "## pL vs. physical error"
   ]
  },
  {
   "cell_type": "code",
   "execution_count": 62,
   "id": "9d36e8f2-242f-4b1a-ab26-b31688137a9a",
   "metadata": {},
   "outputs": [
    {
     "name": "stdout",
     "output_type": "stream",
     "text": [
      "Running for noise = 0.003, distance = 3\n",
      "Running for noise = 0.003, distance = 5\n",
      "Running for noise = 0.003, distance = 7\n",
      "Running for noise = 0.005, distance = 3\n",
      "Running for noise = 0.005, distance = 5\n",
      "Running for noise = 0.005, distance = 7\n",
      "Running for noise = 0.007, distance = 3\n",
      "Running for noise = 0.007, distance = 5\n",
      "Running for noise = 0.007, distance = 7\n",
      "Running for noise = 0.01, distance = 3\n",
      "Running for noise = 0.01, distance = 5\n",
      "Running for noise = 0.01, distance = 7\n"
     ]
    }
   ],
   "source": [
    "num_shots = int(1e4)\n",
    "pLs = []\n",
    "anc_pLs = []\n",
    "stim_pLs = []\n",
    "\n",
    "noise_levels = [3e-3,5e-3,7e-3,1e-2]\n",
    "distances = [3,5,7]\n",
    "pLs = np.zeros((len(noise_levels),len(distances)))\n",
    "stim_pLs = np.zeros((len(noise_levels),len(distances)))\n",
    "\n",
    "for i,noise_level in enumerate(noise_levels):\n",
    "\n",
    "    gate_noise1 = f'DEPOLARIZE1({noise_level})'\n",
    "    gate_noise2 = f'DEPOLARIZE2({noise_level})'\n",
    "    meas_noise = f'X_ERROR({noise_level})'\n",
    "    noise = (gate_noise1,gate_noise2,meas_noise)\n",
    "    \n",
    "    for j,dim in enumerate(distances):\n",
    "        print(f'Running for noise = {noise_level}, distance = {dim}')\n",
    "        lat = compass_to_surface(dim,dim,'X')\n",
    "        after_encode_unitary = 'I'*dim**2        \n",
    "        rounds = 3*dim\n",
    "        circuit = stabilizer_circuits(lat, encoding, after_encode_unitary, noise,\n",
    "                                      rounds, meas_logical_via_ancilla=False)\n",
    "    \n",
    "        stim_circuit = stim.Circuit.generated(\n",
    "                \"surface_code:rotated_memory_z\",\n",
    "                rounds=rounds,\n",
    "                distance=dim,\n",
    "                after_clifford_depolarization=noise_level,\n",
    "                before_measure_flip_probability=noise_level)\n",
    "\n",
    "        pLs[i,j] = estimate_pL_noisy_graph(circuit, num_shots)[1]\n",
    "        stim_pLs[i,j] = estimate_pL_noisy_graph(stim_circuit, num_shots)[1]"
   ]
  },
  {
   "cell_type": "code",
   "execution_count": 82,
   "id": "f1e2db5d-c0f6-4116-84be-fa54bace6c22",
   "metadata": {},
   "outputs": [
    {
     "data": {
      "image/png": "[encoded data removed]",
      "text/plain": [
       "<Figure size 864x288 with 2 Axes>"
      ]
     },
     "metadata": {
      "needs_background": "light"
     },
     "output_type": "display_data"
    }
   ],
   "source": [
    "plt.figure(figsize=(12,4))\n",
    "\n",
    "plt.subplot(1,2,1)\n",
    "for j,dim in enumerate(distances):\n",
    "    plt.loglog(noise_levels,pLs[:,j],f'C{j}o-',label=f'd={dim}')\n",
    "    # plt.loglog(noise_levels,stim_pLs[:,j],f'C{j}*--',label=f'd={dim} stim')\n",
    "plt.grid(which='major')\n",
    "plt.grid(which='minor')\n",
    "plt.legend()\n",
    "plt.xlabel('Physical Error Rate')\n",
    "plt.ylabel('Logical Error Rate')\n",
    "plt.title('Ours')\n",
    "\n",
    "plt.subplot(1,2,2)\n",
    "for j,dim in enumerate(distances):\n",
    "    plt.loglog(noise_levels,stim_pLs[:,j],'o-',label=f'd={dim}')\n",
    "plt.grid(which='major')\n",
    "plt.grid(which='minor')\n",
    "plt.legend()\n",
    "plt.xlabel('Physical Error Rate')\n",
    "plt.ylabel('Logical Error Rate')\n",
    "plt.title('stim')\n",
    "\n",
    "plt.tight_layout()\n",
    "plt.show()"
   ]
  },
  {
   "cell_type": "code",
   "execution_count": 85,
   "id": "ac7b7544-3a30-42ec-88b6-1ec1ea53c8a6",
   "metadata": {},
   "outputs": [],
   "source": [
    "# np.save('data/benchmark_surface_error_ours.npy',pLs)\n",
    "# np.save('data/benchmark_surface_error_stim.npy',stim_pLs)"
   ]
  },
  {
   "cell_type": "markdown",
   "id": "d3a30776-2da5-43e1-99cf-cdd4df000027",
   "metadata": {},
   "source": [
    "## Time performance"
   ]
  },
  {
   "cell_type": "code",
   "execution_count": 95,
   "id": "28ad423b-ab55-4f61-afd3-12decab2a150",
   "metadata": {},
   "outputs": [
    {
     "name": "stdout",
     "output_type": "stream",
     "text": [
      "7.16 s ± 171 ms per loop (mean ± std. dev. of 7 runs, 1 loop each)\n"
     ]
    }
   ],
   "source": [
    "%%timeit\n",
    "stim_circuit = stim.Circuit.generated(\n",
    "        \"surface_code:rotated_memory_z\",\n",
    "        rounds=rounds,\n",
    "        distance=dim,\n",
    "        after_clifford_depolarization=noise_level,\n",
    "        before_measure_flip_probability=noise_level)\n",
    "estimate_pL_noisy_graph(stim_circuit, num_shots)"
   ]
  },
  {
   "cell_type": "code",
   "execution_count": 96,
   "id": "5bdfa66f-adc5-47d9-95bb-1382ee950343",
   "metadata": {},
   "outputs": [
    {
     "name": "stdout",
     "output_type": "stream",
     "text": [
      "7.11 s ± 107 ms per loop (mean ± std. dev. of 7 runs, 1 loop each)\n"
     ]
    }
   ],
   "source": [
    "%%timeit\n",
    "gate_noise1 = f'DEPOLARIZE1({noise_level})'\n",
    "gate_noise2 = f'DEPOLARIZE2({noise_level})'\n",
    "meas_noise = f'X_ERROR({noise_level})'\n",
    "noise = (gate_noise1,gate_noise2,meas_noise)\n",
    "lat = compass_to_surface(dim,dim,'X')\n",
    "\n",
    "circuit = stabilizer_circuits(lat, encoding, after_encode_unitary, noise,\n",
    "                              rounds, meas_logical_via_ancilla=False)\n",
    "estimate_pL_noisy_graph(circuit, num_shots)"
   ]
  },
  {
   "cell_type": "code",
   "execution_count": 97,
   "id": "cea775c3-7d1e-43d7-b276-6185f665c04b",
   "metadata": {},
   "outputs": [
    {
     "name": "stdout",
     "output_type": "stream",
     "text": [
      " \n",
      "*** Profile printout saved to text file 'prun0'. \n"
     ]
    }
   ],
   "source": [
    "%%prun -s cumulative -q -l 30 -T prun0\n",
    "stim_circuit = stim.Circuit.generated(\n",
    "        \"surface_code:rotated_memory_z\",\n",
    "        rounds=rounds,\n",
    "        distance=dim,\n",
    "        after_clifford_depolarization=noise_level,\n",
    "        before_measure_flip_probability=noise_level)\n",
    "estimate_pL_noisy_graph(stim_circuit, num_shots)"
   ]
  },
  {
   "cell_type": "code",
   "execution_count": 98,
   "id": "3bdacba3-e5dc-4cea-a47a-f61a3c0a48b3",
   "metadata": {},
   "outputs": [
    {
     "name": "stdout",
     "output_type": "stream",
     "text": [
      "         534861 function calls (494708 primitive calls) in 5.638 seconds\n",
      "\n",
      "   Ordered by: cumulative time\n",
      "   List reduced from 116 to 30 due to restriction <30>\n",
      "\n",
      "   ncalls  tottime  percall  cumtime  percall filename:lineno(function)\n",
      "        1    0.002    0.002    5.638    5.638 {built-in method builtins.exec}\n",
      "        1    0.000    0.000    5.636    5.636 <string>:1(<module>)\n",
      "        1    0.011    0.011    5.636    5.636 3917766421.py:1(estimate_pL_noisy_graph)\n",
      "        1    0.007    0.007    5.624    5.624 stim2pymatching.py:165(logical_error_rate_noisy_graph)\n",
      "        1    0.035    0.035    5.546    5.546 stim2pymatching.py:15(predict_observable_errors_using_pymatching)\n",
      "    10000    0.035    0.000    5.333    0.001 matching.py:229(decode)\n",
      "    10000    5.153    0.001    5.153    0.001 {built-in method pymatching._cpp_mwpm.decode_match_neighbourhood}\n",
      "62690/22538    0.064    0.000    0.296    0.000 {built-in method numpy.core._multiarray_umath.implement_array_function}\n",
      "    10000    0.007    0.000    0.137    0.000 <__array_function__ internals>:177(resize)\n",
      "    10000    0.025    0.000    0.122    0.000 fromnumeric.py:1394(resize)\n",
      "     2538    0.002    0.000    0.105    0.000 <__array_function__ internals>:177(setxor1d)\n",
      "     2538    0.018    0.000    0.101    0.000 arraysetops.py:472(setxor1d)\n",
      "    10000    0.004    0.000    0.071    0.000 <__array_function__ internals>:177(array_equal)\n",
      "    10000    0.030    0.000    0.062    0.000 numeric.py:2388(array_equal)\n",
      "     5076    0.003    0.000    0.062    0.000 <__array_function__ internals>:177(unique)\n",
      "     5076    0.006    0.000    0.055    0.000 arraysetops.py:138(unique)\n",
      "    15076    0.009    0.000    0.051    0.000 <__array_function__ internals>:177(concatenate)\n",
      "     5076    0.035    0.000    0.046    0.000 arraysetops.py:320(_unique1d)\n",
      "        1    0.000    0.000    0.040    0.040 stim2pymatching.py:37(detector_error_model_to_pymatching_graph)\n",
      "        1    0.000    0.000    0.038    0.038 stim2pymatching.py:57(detector_error_model_to_nx_graph)\n",
      "        1    0.000    0.000    0.038    0.038 stim2pymatching.py:95(eval_model)\n",
      "      2/1    0.021    0.010    0.038    0.038 stim2pymatching.py:107(_helper)\n",
      "    10000    0.005    0.000    0.034    0.000 <__array_function__ internals>:177(reshape)\n",
      "    10000    0.003    0.000    0.029    0.000 {method 'all' of 'numpy.ndarray' objects}\n",
      "    10000    0.005    0.000    0.028    0.000 <__array_function__ internals>:177(ravel)\n",
      "    10000    0.003    0.000    0.026    0.000 _methods.py:60(_all)\n",
      "    10001    0.024    0.000    0.024    0.000 {method 'reduce' of 'numpy.ufunc' objects}\n",
      "    10000    0.006    0.000    0.023    0.000 fromnumeric.py:198(reshape)\n",
      "    10000    0.007    0.000    0.017    0.000 fromnumeric.py:51(_wrapfunc)\n",
      "    10000    0.009    0.000    0.016    0.000 fromnumeric.py:1755(ravel)\n"
     ]
    }
   ],
   "source": [
    "print(open('prun0', 'r').read())"
   ]
  },
  {
   "cell_type": "code",
   "execution_count": 99,
   "id": "9ddde904-a2ed-4d92-a1e4-75cfcc70bf15",
   "metadata": {},
   "outputs": [
    {
     "name": "stdout",
     "output_type": "stream",
     "text": [
      " \n",
      "*** Profile printout saved to text file 'prun0'. \n"
     ]
    }
   ],
   "source": [
    "%%prun -s cumulative -q -l 30 -T prun0\n",
    "gate_noise1 = f'DEPOLARIZE1({noise_level})'\n",
    "gate_noise2 = f'DEPOLARIZE2({noise_level})'\n",
    "meas_noise = f'X_ERROR({noise_level})'\n",
    "noise = (gate_noise1,gate_noise2,meas_noise)\n",
    "lat = compass_to_surface(dim,dim,'X')\n",
    "\n",
    "circuit = stabilizer_circuits(lat, encoding, after_encode_unitary, noise,\n",
    "                              rounds, meas_logical_via_ancilla=False)\n",
    "estimate_pL_noisy_graph(circuit, num_shots)"
   ]
  },
  {
   "cell_type": "code",
   "execution_count": 100,
   "id": "e3b8c463-9b8e-4054-96d4-47b5d49dbe0b",
   "metadata": {},
   "outputs": [
    {
     "name": "stdout",
     "output_type": "stream",
     "text": [
      "         538727 function calls (498290 primitive calls) in 5.714 seconds\n",
      "\n",
      "   Ordered by: cumulative time\n",
      "   List reduced from 160 to 30 due to restriction <30>\n",
      "\n",
      "   ncalls  tottime  percall  cumtime  percall filename:lineno(function)\n",
      "        1    0.001    0.001    5.714    5.714 {built-in method builtins.exec}\n",
      "        1    0.001    0.001    5.713    5.713 <string>:1(<module>)\n",
      "        1    0.010    0.010    5.701    5.701 3917766421.py:1(estimate_pL_noisy_graph)\n",
      "        1    0.007    0.007    5.691    5.691 stim2pymatching.py:165(logical_error_rate_noisy_graph)\n",
      "        1    0.035    0.035    5.615    5.615 stim2pymatching.py:15(predict_observable_errors_using_pymatching)\n",
      "    10000    0.036    0.000    5.401    0.001 matching.py:229(decode)\n",
      "    10000    5.216    0.001    5.216    0.001 {built-in method pymatching._cpp_mwpm.decode_match_neighbourhood}\n",
      "63055/22619    0.066    0.000    0.300    0.000 {built-in method numpy.core._multiarray_umath.implement_array_function}\n",
      "    10000    0.007    0.000    0.139    0.000 <__array_function__ internals>:177(resize)\n",
      "    10000    0.025    0.000    0.123    0.000 fromnumeric.py:1394(resize)\n",
      "     2609    0.002    0.000    0.109    0.000 <__array_function__ internals>:177(setxor1d)\n",
      "     2609    0.019    0.000    0.104    0.000 arraysetops.py:472(setxor1d)\n",
      "    10000    0.004    0.000    0.069    0.000 <__array_function__ internals>:177(array_equal)\n",
      "     5218    0.003    0.000    0.064    0.000 <__array_function__ internals>:177(unique)\n",
      "    10000    0.028    0.000    0.060    0.000 numeric.py:2388(array_equal)\n",
      "     5218    0.006    0.000    0.057    0.000 arraysetops.py:138(unique)\n",
      "    15218    0.009    0.000    0.053    0.000 <__array_function__ internals>:177(concatenate)\n",
      "     5218    0.036    0.000    0.047    0.000 arraysetops.py:320(_unique1d)\n",
      "        1    0.000    0.000    0.040    0.040 stim2pymatching.py:37(detector_error_model_to_pymatching_graph)\n",
      "        1    0.000    0.000    0.038    0.038 stim2pymatching.py:57(detector_error_model_to_nx_graph)\n",
      "        1    0.000    0.000    0.037    0.037 stim2pymatching.py:95(eval_model)\n",
      "      2/1    0.020    0.010    0.037    0.037 stim2pymatching.py:107(_helper)\n",
      "    10000    0.005    0.000    0.034    0.000 <__array_function__ internals>:177(reshape)\n",
      "    10000    0.003    0.000    0.029    0.000 {method 'all' of 'numpy.ndarray' objects}\n",
      "    10000    0.005    0.000    0.028    0.000 <__array_function__ internals>:177(ravel)\n",
      "    10000    0.002    0.000    0.026    0.000 _methods.py:60(_all)\n",
      "    10011    0.024    0.000    0.024    0.000 {method 'reduce' of 'numpy.ufunc' objects}\n",
      "    10000    0.006    0.000    0.023    0.000 fromnumeric.py:198(reshape)\n",
      "    10000    0.007    0.000    0.017    0.000 fromnumeric.py:51(_wrapfunc)\n",
      "    10000    0.008    0.000    0.016    0.000 fromnumeric.py:1755(ravel)\n"
     ]
    }
   ],
   "source": [
    "print(open('prun0', 'r').read())"
   ]
  },
  {
   "cell_type": "markdown",
   "id": "4f2f6abb-f626-4591-a934-43675d1c45b9",
   "metadata": {},
   "source": [
    "# Add pL from check matrix (in progress)"
   ]
  },
  {
   "cell_type": "code",
   "execution_count": 11,
   "id": "bab46c41-34be-47cf-b32f-87791b823ca4",
   "metadata": {},
   "outputs": [
    {
     "name": "stdout",
     "output_type": "stream",
     "text": [
      "- noisy graph: 0.0105\n",
      "- no correct : 0.0972\n"
     ]
    }
   ],
   "source": [
    "shots = circuit.compile_detector_sampler().sample(num_shots, append_observables=True)\n",
    "detector_parts = shots[:, :circuit.num_detectors]\n",
    "observables = shots[:, circuit.num_detectors:]\n",
    "pL_no_correction = observables.flatten().mean()\n",
    "\n",
    "# syndromes = detector_parts.reshape(num_shots,-1,circuit.num_detectors//rounds).swapaxes(1,2)\n",
    "# syndromes_x = syndromes[:,:len(lat.getSx())]\n",
    "# syndromes_z = syndromes[:,len(lat.getSx()):]\n",
    "\n",
    "pL_noisy = logical_error_rate_noisy_graph(circuit,\n",
    "                                          detector_parts,\n",
    "                                          observables)\n",
    "# l_op = stim.PauliString(logical)\n",
    "# pL_check_Z = pL_from_checkmatrix(l_op,Hz,rounds,syndromes_z,observables,CSS_error='X')\n",
    "# pL_check_XZ = pL_from_checkmatrix(l_op,H,rounds,syndromes,observables)\n",
    "\n",
    "print('- noisy graph:', pL_noisy)\n",
    "# print('- checkmat  Z:', pL_check_Z)\n",
    "# print('- checkmat XZ:', pL_check_XZ)\n",
    "print('- no correct :', pL_no_correction)"
   ]
  },
  {
   "cell_type": "code",
   "execution_count": 389,
   "id": "006dfac7-c60b-49e3-b41e-376387da5067",
   "metadata": {},
   "outputs": [
    {
     "name": "stdout",
     "output_type": "stream",
     "text": [
      "R 9 10 11 12 13 14 15 16\n",
      "RX 0 1 2 3 4 5 6 7 8\n",
      "TICK\n",
      "H 9 10 11 12\n",
      "DEPOLARIZE1(0.003) 9 10 11 12\n",
      "TICK\n",
      "CX 9 0 10 1 11 3 12 5\n",
      "DEPOLARIZE2(0.003) 9 0 10 1 11 3 12 5\n",
      "TICK\n",
      "CX 9 3 10 4 11 6 12 8\n",
      "DEPOLARIZE2(0.003) 9 3 10 4 11 6 12 8\n",
      "TICK\n",
      "CX 10 2 11 4\n",
      "DEPOLARIZE2(0.003) 10 2 11 4\n",
      "TICK\n",
      "CX 10 5 11 7\n",
      "DEPOLARIZE2(0.003) 10 5 11 7\n",
      "TICK\n",
      "H 9 10 11 12\n",
      "DEPOLARIZE1(0.003) 9 10 11 12\n",
      "TICK\n",
      "CX 1 13 4 14 0 15 6 16\n",
      "DEPOLARIZE2(0.003) 1 13 4 14 0 15 6 16\n",
      "TICK\n",
      "CX 2 13 5 14 1 15 7 16\n",
      "DEPOLARIZE2(0.003) 2 13 5 14 1 15 7 16\n",
      "TICK\n",
      "CX 7 14 3 15\n",
      "DEPOLARIZE2(0.003) 7 14 3 15\n",
      "TICK\n",
      "CX 8 14 4 15\n",
      "DEPOLARIZE2(0.003) 8 14 4 15\n",
      "TICK\n",
      "X_ERROR(0.003) 9 10 11 12 13 14 15 16\n",
      "MR 9 10 11 12 13 14 15 16\n",
      "DETECTOR(9, 0) rec[-8]\n",
      "DETECTOR(10, 0) rec[-7]\n",
      "DETECTOR(11, 0) rec[-6]\n",
      "DETECTOR(12, 0) rec[-5]\n",
      "REPEAT 8 {\n",
      "    H 9 10 11 12\n",
      "    DEPOLARIZE1(0.003) 9 10 11 12\n",
      "    TICK\n",
      "    CX 9 0 10 1 11 3 12 5\n",
      "    DEPOLARIZE2(0.003) 9 0 10 1 11 3 12 5\n",
      "    TICK\n",
      "    CX 9 3 10 4 11 6 12 8\n",
      "    DEPOLARIZE2(0.003) 9 3 10 4 11 6 12 8\n",
      "    TICK\n",
      "    CX 10 2 11 4\n",
      "    DEPOLARIZE2(0.003) 10 2 11 4\n",
      "    TICK\n",
      "    CX 10 5 11 7\n",
      "    DEPOLARIZE2(0.003) 10 5 11 7\n",
      "    TICK\n",
      "    H 9 10 11 12\n",
      "    DEPOLARIZE1(0.003) 9 10 11 12\n",
      "    TICK\n",
      "    CX 1 13 4 14 0 15 6 16\n",
      "    DEPOLARIZE2(0.003) 1 13 4 14 0 15 6 16\n",
      "    TICK\n",
      "    CX 2 13 5 14 1 15 7 16\n",
      "    DEPOLARIZE2(0.003) 2 13 5 14 1 15 7 16\n",
      "    TICK\n",
      "    CX 7 14 3 15\n",
      "    DEPOLARIZE2(0.003) 7 14 3 15\n",
      "    TICK\n",
      "    CX 8 14 4 15\n",
      "    DEPOLARIZE2(0.003) 8 14 4 15\n",
      "    TICK\n",
      "    X_ERROR(0.003) 9 10 11 12 13 14 15 16\n",
      "    MR 9 10 11 12 13 14 15 16\n",
      "    SHIFT_COORDS(0, 1)\n",
      "    DETECTOR(9, 0) rec[-8] rec[-16]\n",
      "    DETECTOR(10, 0) rec[-7] rec[-15]\n",
      "    DETECTOR(11, 0) rec[-6] rec[-14]\n",
      "    DETECTOR(12, 0) rec[-5] rec[-13]\n",
      "    DETECTOR(13, 0) rec[-4] rec[-12]\n",
      "    DETECTOR(14, 0) rec[-3] rec[-11]\n",
      "    DETECTOR(15, 0) rec[-2] rec[-10]\n",
      "    DETECTOR(16, 0) rec[-1] rec[-9]\n",
      "}\n",
      "Z_ERROR(0.003) 0 1 2 3 4 5 6 7 8\n",
      "MX 0 1 2 3 4 5 6 7 8\n",
      "DETECTOR(9, 1) rec[-17] rec[-9] rec[-6]\n",
      "DETECTOR(10, 1) rec[-16] rec[-8] rec[-7] rec[-5] rec[-4]\n",
      "DETECTOR(11, 1) rec[-15] rec[-6] rec[-5] rec[-3] rec[-2]\n",
      "DETECTOR(12, 1) rec[-14] rec[-4] rec[-1]\n",
      "OBSERVABLE_INCLUDE(0) rec[-9] rec[-8] rec[-7]\n"
     ]
    }
   ],
   "source": [
    "# surface code\n",
    "dim = 3\n",
    "dimX,dimZ = dim,dim\n",
    "lat = compass_to_surface(dimX,dimZ,'X')\n",
    "\n",
    "rounds = 9\n",
    "num_shots = 5000\n",
    "\n",
    "# check matrix\n",
    "Hx = checkmatrix(lat.getSx(),single_type=True)\n",
    "Hz = checkmatrix(lat.getSz(),single_type=True)\n",
    "H = np.vstack([np.hstack([Hx,np.zeros_like(Hx)]),np.hstack([np.zeros_like(Hz),Hz])])\n",
    "\n",
    "# noise level\n",
    "noise_level = 3e-3\n",
    "# gate_noise1 = f'PAULI_CHANNEL_1({noise_level}, {noise_level}, {noise_level})'\n",
    "gate_noise1 = f'DEPOLARIZE1({noise_level})'\n",
    "gate_noise2 = f'DEPOLARIZE2({noise_level})'\n",
    "meas_noise = f'X_ERROR({noise_level})'\n",
    "noise = (gate_noise1,gate_noise2,meas_noise)\n",
    "# noise = (None,None,None)\n",
    "\n",
    "# logical operator and logical state\n",
    "Sx, Sz = lat.getSx(), lat.getSz()\n",
    "logical = lat.logicals[1]\n",
    "after_encode_unitary = 'I'*len(logical)\n",
    "# after_encode_unitary = lat.logicals[0]\n",
    "# after_encode_unitary = 'XXXXXXXXX'\n",
    "encoding = 'reset_X'\n",
    "# circuit = stabilizer_circuits(Sx, Sz, dimZ, logical, after_encode_unitary, noise, rounds, construction)\n",
    "circuit = stabilizer_circuits(lat, after_encode_unitary, noise, rounds, \n",
    "                              encoding, meas_logical_via_ancilla=False)\n",
    "print(circuit)\n",
    "# shots = circuit.compile_sampler().sample(10)\n",
    "# print(shots[:,[-3,-6,-9]])\n",
    "# print(shots[:,[-3,-6,-9]].sum(1)%2)\n",
    "# circuit.compile_detector_sampler().sample(10,append_observables=True)\n",
    "# circuit.detector_error_model(decompose_errors=True)"
   ]
  },
  {
   "cell_type": "code",
   "execution_count": 387,
   "id": "ac49852d-7ce5-4d51-a36b-5af7ee2c945b",
   "metadata": {},
   "outputs": [
    {
     "ename": "ValueError",
     "evalue": "Handling PAULI_CHANNEL_1 requires `approximate_disjoint_errors` argument to be specified.\n\nCircuit stack trace:\n    during TICK layer #87 of 92\n    at instruction #40 [which is a REPEAT 8 block]\n    at block's instruction #17 [which is PAULI_CHANNEL_1(0.003, 0.003, 0.003) 9 10 11 12]",
     "output_type": "error",
     "traceback": [
      "\u001b[0;31m---------------------------------------------------------------------------\u001b[0m",
      "\u001b[0;31mValueError\u001b[0m                                Traceback (most recent call last)",
      "\u001b[0;32m/var/folders/kj/jgvpvl2x0pj7x_3xrc02tpt00000gn/T/ipykernel_83214/3771925409.py\u001b[0m in \u001b[0;36m<module>\u001b[0;34m\u001b[0m\n\u001b[1;32m      8\u001b[0m \u001b[0;31m# syndromes_z = syndromes[:,len(lat.getSx()):]\u001b[0m\u001b[0;34m\u001b[0m\u001b[0;34m\u001b[0m\u001b[0m\n\u001b[1;32m      9\u001b[0m \u001b[0;34m\u001b[0m\u001b[0m\n\u001b[0;32m---> 10\u001b[0;31m pL_noisy = logical_error_rate_noisy_graph(circuit,\n\u001b[0m\u001b[1;32m     11\u001b[0m                                           \u001b[0mdetector_parts\u001b[0m\u001b[0;34m,\u001b[0m\u001b[0;34m\u001b[0m\u001b[0;34m\u001b[0m\u001b[0m\n\u001b[1;32m     12\u001b[0m                                           observables)\n",
      "\u001b[0;32m~/MEGA/Berkeley/Hardware-Subgroup/QuantumHardwareSubgroup/utils/stim2pymatching.py\u001b[0m in \u001b[0;36mlogical_error_rate_noisy_graph\u001b[0;34m(circuit, detector_parts, actual_observable_parts)\u001b[0m\n\u001b[1;32m    165\u001b[0m \u001b[0;32mdef\u001b[0m \u001b[0mlogical_error_rate_noisy_graph\u001b[0m\u001b[0;34m(\u001b[0m\u001b[0mcircuit\u001b[0m\u001b[0;34m,\u001b[0m\u001b[0mdetector_parts\u001b[0m\u001b[0;34m,\u001b[0m\u001b[0mactual_observable_parts\u001b[0m\u001b[0;34m)\u001b[0m\u001b[0;34m:\u001b[0m\u001b[0;34m\u001b[0m\u001b[0;34m\u001b[0m\u001b[0m\n\u001b[1;32m    166\u001b[0m     \u001b[0mnum_shots\u001b[0m \u001b[0;34m=\u001b[0m \u001b[0mdetector_parts\u001b[0m\u001b[0;34m.\u001b[0m\u001b[0mshape\u001b[0m\u001b[0;34m[\u001b[0m\u001b[0;36m0\u001b[0m\u001b[0;34m]\u001b[0m\u001b[0;34m\u001b[0m\u001b[0;34m\u001b[0m\u001b[0m\n\u001b[0;32m--> 167\u001b[0;31m     \u001b[0mpredicted_observable_parts\u001b[0m \u001b[0;34m=\u001b[0m \u001b[0mpredict_observable_errors_using_pymatching\u001b[0m\u001b[0;34m(\u001b[0m\u001b[0mcircuit\u001b[0m\u001b[0;34m,\u001b[0m \u001b[0mdetector_parts\u001b[0m\u001b[0;34m)\u001b[0m\u001b[0;34m\u001b[0m\u001b[0;34m\u001b[0m\u001b[0m\n\u001b[0m\u001b[1;32m    168\u001b[0m     \u001b[0mnum_logical_errors\u001b[0m \u001b[0;34m=\u001b[0m \u001b[0;36m0\u001b[0m\u001b[0;34m\u001b[0m\u001b[0;34m\u001b[0m\u001b[0m\n\u001b[1;32m    169\u001b[0m     \u001b[0;32mfor\u001b[0m \u001b[0mactual\u001b[0m\u001b[0;34m,\u001b[0m \u001b[0mpredicted\u001b[0m \u001b[0;32min\u001b[0m \u001b[0mzip\u001b[0m\u001b[0;34m(\u001b[0m\u001b[0mactual_observable_parts\u001b[0m\u001b[0;34m,\u001b[0m \u001b[0mpredicted_observable_parts\u001b[0m\u001b[0;34m)\u001b[0m\u001b[0;34m:\u001b[0m\u001b[0;34m\u001b[0m\u001b[0;34m\u001b[0m\u001b[0m\n",
      "\u001b[0;32m~/MEGA/Berkeley/Hardware-Subgroup/QuantumHardwareSubgroup/utils/stim2pymatching.py\u001b[0m in \u001b[0;36mpredict_observable_errors_using_pymatching\u001b[0;34m(circuit, det_samples)\u001b[0m\n\u001b[1;32m     17\u001b[0m                                                ) -> np.ndarray:\n\u001b[1;32m     18\u001b[0m     \u001b[0;34m\"\"\"Turn detection events into predicted observable errors.\"\"\"\u001b[0m\u001b[0;34m\u001b[0m\u001b[0;34m\u001b[0m\u001b[0m\n\u001b[0;32m---> 19\u001b[0;31m     \u001b[0merror_model\u001b[0m \u001b[0;34m=\u001b[0m \u001b[0mcircuit\u001b[0m\u001b[0;34m.\u001b[0m\u001b[0mdetector_error_model\u001b[0m\u001b[0;34m(\u001b[0m\u001b[0mdecompose_errors\u001b[0m\u001b[0;34m=\u001b[0m\u001b[0;32mTrue\u001b[0m\u001b[0;34m)\u001b[0m \u001b[0;31m#,allow_gauge_detectors=True)\u001b[0m\u001b[0;34m\u001b[0m\u001b[0;34m\u001b[0m\u001b[0m\n\u001b[0m\u001b[1;32m     20\u001b[0m     \u001b[0mmatching_graph\u001b[0m \u001b[0;34m=\u001b[0m \u001b[0mdetector_error_model_to_pymatching_graph\u001b[0m\u001b[0;34m(\u001b[0m\u001b[0merror_model\u001b[0m\u001b[0;34m)\u001b[0m\u001b[0;34m\u001b[0m\u001b[0;34m\u001b[0m\u001b[0m\n\u001b[1;32m     21\u001b[0m     \u001b[0;31m# matching_graph.draw()\u001b[0m\u001b[0;34m\u001b[0m\u001b[0;34m\u001b[0m\u001b[0m\n",
      "\u001b[0;31mValueError\u001b[0m: Handling PAULI_CHANNEL_1 requires `approximate_disjoint_errors` argument to be specified.\n\nCircuit stack trace:\n    during TICK layer #87 of 92\n    at instruction #40 [which is a REPEAT 8 block]\n    at block's instruction #17 [which is PAULI_CHANNEL_1(0.003, 0.003, 0.003) 9 10 11 12]"
     ]
    }
   ],
   "source": [
    "shots = circuit.compile_detector_sampler().sample(num_shots, append_observables=True)\n",
    "detector_parts = shots[:, :circuit.num_detectors]\n",
    "observables = shots[:, circuit.num_detectors:]\n",
    "pL_no_correction = observables.flatten().mean()\n",
    "\n",
    "# syndromes = detector_parts.reshape(num_shots,-1,circuit.num_detectors//rounds).swapaxes(1,2)\n",
    "# syndromes_x = syndromes[:,:len(lat.getSx())]\n",
    "# syndromes_z = syndromes[:,len(lat.getSx()):]\n",
    "\n",
    "pL_noisy = logical_error_rate_noisy_graph(circuit,\n",
    "                                          detector_parts,\n",
    "                                          observables)\n",
    "l_op = stim.PauliString(logical)\n",
    "# pL_check_Z = pL_from_checkmatrix(l_op,Hz,rounds,syndromes_z,observables,CSS_error='X')\n",
    "# pL_check_XZ = pL_from_checkmatrix(l_op,H,rounds,syndromes,observables)\n",
    "\n",
    "print('- noisy graph:', pL_noisy)\n",
    "# print('- checkmat  Z:', pL_check_Z)\n",
    "# print('- checkmat XZ:', pL_check_XZ)\n",
    "print('- no correct :', pL_no_correction)"
   ]
  },
  {
   "cell_type": "code",
   "execution_count": 335,
   "id": "2a807515-0488-4341-91c5-4c842214e9d7",
   "metadata": {},
   "outputs": [
    {
     "ename": "ValueError",
     "evalue": "too many values to unpack (expected 3)",
     "output_type": "error",
     "traceback": [
      "\u001b[0;31m---------------------------------------------------------------------------\u001b[0m",
      "\u001b[0;31mValueError\u001b[0m                                Traceback (most recent call last)",
      "\u001b[0;32m/var/folders/kj/jgvpvl2x0pj7x_3xrc02tpt00000gn/T/ipykernel_83214/4169814482.py\u001b[0m in \u001b[0;36m<module>\u001b[0;34m\u001b[0m\n\u001b[1;32m     27\u001b[0m \u001b[0;31m# after_encode_unitary = lat.logicals[0]\u001b[0m\u001b[0;34m\u001b[0m\u001b[0;34m\u001b[0m\u001b[0m\n\u001b[1;32m     28\u001b[0m \u001b[0;34m\u001b[0m\u001b[0m\n\u001b[0;32m---> 29\u001b[0;31m \u001b[0mcircuit\u001b[0m \u001b[0;34m=\u001b[0m \u001b[0mstabilizer_circuits\u001b[0m\u001b[0;34m(\u001b[0m\u001b[0mlat\u001b[0m\u001b[0;34m.\u001b[0m\u001b[0mgetS\u001b[0m\u001b[0;34m(\u001b[0m\u001b[0;34m)\u001b[0m\u001b[0;34m,\u001b[0m \u001b[0mlogical\u001b[0m\u001b[0;34m,\u001b[0m \u001b[0mafter_encode_unitary\u001b[0m\u001b[0;34m,\u001b[0m \u001b[0mnoise\u001b[0m\u001b[0;34m,\u001b[0m \u001b[0mrounds\u001b[0m\u001b[0;34m,\u001b[0m \u001b[0mconstruction\u001b[0m\u001b[0;34m)\u001b[0m\u001b[0;34m\u001b[0m\u001b[0;34m\u001b[0m\u001b[0m\n\u001b[0m\u001b[1;32m     30\u001b[0m \u001b[0;31m# circuit.compile_sampler().sample(num_shots)\u001b[0m\u001b[0;34m\u001b[0m\u001b[0;34m\u001b[0m\u001b[0m\n\u001b[1;32m     31\u001b[0m \u001b[0;34m\u001b[0m\u001b[0m\n",
      "\u001b[0;32m/var/folders/kj/jgvpvl2x0pj7x_3xrc02tpt00000gn/T/ipykernel_83214/114696020.py\u001b[0m in \u001b[0;36mstabilizer_circuits\u001b[0;34m(Sx, Sz, ncol, logical, after_encode_unitary, noise, rounds, construction, encoding, perfect_logical_meas)\u001b[0m\n\u001b[1;32m     18\u001b[0m     '''\n\u001b[1;32m     19\u001b[0m     \u001b[0;31m### manual stabilizer check ###\u001b[0m\u001b[0;34m\u001b[0m\u001b[0;34m\u001b[0m\u001b[0m\n\u001b[0;32m---> 20\u001b[0;31m     \u001b[0mgate_noise1\u001b[0m\u001b[0;34m,\u001b[0m\u001b[0mgate_noise2\u001b[0m\u001b[0;34m,\u001b[0m\u001b[0mmeas_noise\u001b[0m \u001b[0;34m=\u001b[0m \u001b[0mnoise\u001b[0m\u001b[0;34m\u001b[0m\u001b[0;34m\u001b[0m\u001b[0m\n\u001b[0m\u001b[1;32m     21\u001b[0m     \u001b[0;31m# stabilizer_checks = stim.Circuit(f'''\u001b[0m\u001b[0;34m\u001b[0m\u001b[0;34m\u001b[0m\u001b[0m\n\u001b[1;32m     22\u001b[0m     \u001b[0;31m#     H 9 11 10 12\u001b[0m\u001b[0;34m\u001b[0m\u001b[0;34m\u001b[0m\u001b[0m\n",
      "\u001b[0;31mValueError\u001b[0m: too many values to unpack (expected 3)"
     ]
    }
   ],
   "source": [
    "rounds = 9\n",
    "construction = 'cnot'\n",
    "num_shots = 5000\n",
    "\n",
    "# surface code\n",
    "dim = 3\n",
    "dimX,dimZ = dim,dim\n",
    "lat = compass_to_surface(dimX,dimZ,'X')\n",
    "\n",
    "# check matrix\n",
    "Hx = checkmatrix(lat.getSx(),single_type=True)\n",
    "Hz = checkmatrix(lat.getSz(),single_type=True)\n",
    "H = np.vstack([np.hstack([Hx,np.zeros_like(Hx)]),np.hstack([np.zeros_like(Hz),Hz])])\n",
    "\n",
    "# noise level\n",
    "noise_level = 3e-3\n",
    "# gate_noise1 = f'PAULI_CHANNEL_1({noise_level}, {noise_level}, {noise_level})'\n",
    "gate_noise1 = f'DEPOLARIZE1({noise_level})'\n",
    "gate_noise2 = f'DEPOLARIZE2({noise_level})'\n",
    "meas_noise = f'X_ERROR({noise_level})'\n",
    "noise = (gate_noise1,gate_noise2,meas_noise)\n",
    "noise = (None,None,None)\n",
    "\n",
    "# logical operator and logical state\n",
    "logical = lat.logicals[1]\n",
    "after_encode_unitary = 'I'*len(logical)\n",
    "# after_encode_unitary = lat.logicals[0]\n",
    "\n",
    "circuit = stabilizer_circuits(lat.getS(), logical, after_encode_unitary, noise, rounds, construction)\n",
    "# circuit.compile_sampler().sample(num_shots)\n",
    "\n",
    "shots = circuit.compile_detector_sampler().sample(num_shots, append_observables=True)\n",
    "detector_parts = shots[:, :circuit.num_detectors]\n",
    "observables = shots[:, circuit.num_detectors:]\n",
    "pL_no_correction = observables.flatten().mean()\n",
    "\n",
    "# syndromes = detector_parts.reshape(num_shots,-1,circuit.num_detectors//rounds).swapaxes(1,2)\n",
    "# syndromes_x = syndromes[:,:len(lat.getSx())]\n",
    "# syndromes_z = syndromes[:,len(lat.getSx()):]\n",
    "\n",
    "pL_noisy = logical_error_rate_noisy_graph(circuit,\n",
    "                                          detector_parts,\n",
    "                                          observables)\n",
    "l_op = stim.PauliString(logical)\n",
    "# pL_check_Z = pL_from_checkmatrix(l_op,Hz,rounds,syndromes_z,observables,CSS_error='X')\n",
    "# pL_check_XZ = pL_from_checkmatrix(l_op,H,rounds,syndromes,observables)\n",
    "\n",
    "print('- noisy graph:', pL_noisy)\n",
    "# print('- checkmat  Z:', pL_check_Z)\n",
    "# print('- checkmat XZ:', pL_check_XZ)\n",
    "print('- no correct :', pL_no_correction)"
   ]
  },
  {
   "cell_type": "code",
   "execution_count": 62,
   "id": "5f5659d0-1871-4a20-ad2c-77dc6ce75f81",
   "metadata": {},
   "outputs": [
    {
     "name": "stdout",
     "output_type": "stream",
     "text": [
      "- noisy graph: 0.0354\n",
      "- checkmat  Z: 0.376\n",
      "- checkmat XZ: 0.346\n",
      "- no correct : 0.1668\n"
     ]
    }
   ],
   "source": [
    "pL_noisy = logical_error_rate_noisy_graph(circuit,\n",
    "                                          detector_parts,\n",
    "                                          observables)\n",
    "l_op = stim.PauliString(logical)\n",
    "pL_check_Z = pL_from_checkmatrix(l_op,Hz,rounds,syndromes_z,observables,CSS_error='X')\n",
    "pL_check_XZ = pL_from_checkmatrix(l_op,H,rounds,syndromes,observables)\n",
    "\n",
    "print('- noisy graph:', pL_noisy)\n",
    "print('- checkmat  Z:', pL_check_Z)\n",
    "print('- checkmat XZ:', pL_check_XZ)\n",
    "print('- no correct :', pL_no_correction)"
   ]
  },
  {
   "cell_type": "code",
   "execution_count": 110,
   "id": "8695a263-9d8f-4a5a-80fb-41867e0981a4",
   "metadata": {},
   "outputs": [
    {
     "name": "stdout",
     "output_type": "stream",
     "text": [
      "[[1 0 0 0 0 0 0 0 0 0 0 0 0 0 0 0 1]\n",
      " [1 0 0 0 0 0 0 0 0 0 0 0 0 0 0 0 1]\n",
      " [1 0 0 0 0 0 0 0 0 0 0 0 0 0 0 0 1]\n",
      " [1 0 0 0 0 0 0 0 0 0 0 0 0 0 0 0 1]\n",
      " [1 0 0 0 0 0 0 0 0 0 0 0 0 0 0 0 1]\n",
      " [1 0 0 0 0 0 0 0 0 0 0 0 0 0 0 0 1]\n",
      " [1 0 0 0 0 0 0 0 0 0 0 0 0 0 0 0 1]\n",
      " [1 0 0 0 0 0 0 0 0 0 0 0 0 0 0 0 1]\n",
      " [1 0 0 0 0 0 0 0 0 0 0 0 0 0 0 0 1]\n",
      " [1 0 0 0 0 0 0 0 0 0 0 0 0 0 0 0 1]]\n"
     ]
    }
   ],
   "source": [
    "rounds = 1\n",
    "construction = 'cnot'\n",
    "num_shots = 10\n",
    "\n",
    "# surface code\n",
    "dim = 4\n",
    "dimX,dimZ = dim,dim\n",
    "lat = compass_to_surface(dimX,dimZ,'X')\n",
    "\n",
    "# check matrix\n",
    "Hx = checkmatrix(lat.getSx(),single_type=True)\n",
    "Hz = checkmatrix(lat.getSz(),single_type=True)\n",
    "H = np.vstack([np.hstack([Hx,np.zeros_like(Hx)]),np.hstack([np.zeros_like(Hz),Hz])])\n",
    "\n",
    "# noise level\n",
    "noise = (None,None,None)\n",
    "\n",
    "# logical operator and logical state\n",
    "logical = lat.logicals[1]\n",
    "# after_encode_unitary = 'I'*len(logical)\n",
    "after_encode_unitary = lat.logicals[0]\n",
    "\n",
    "circuit = stabilizer_circuits(lat.getS(), logical, after_encode_unitary, noise, rounds, construction)\n",
    "# circuit.compile_sampler().sample(num_shots)\n",
    "\n",
    "shots = circuit.compile_sampler().sample(num_shots)\n",
    "print(shots)"
   ]
  }
 ],
 "metadata": {
  "kernelspec": {
   "display_name": "qcircuit64",
   "language": "python",
   "name": "qcircuit64"
  },
  "language_info": {
   "codemirror_mode": {
    "name": "ipython",
    "version": 3
   },
   "file_extension": ".py",
   "mimetype": "text/x-python",
   "name": "python",
   "nbconvert_exporter": "python",
   "pygments_lexer": "ipython3",
   "version": "3.9.7"
  },
  "toc-autonumbering": true
 },
 "nbformat": 4,
 "nbformat_minor": 5
}
