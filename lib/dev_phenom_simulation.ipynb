{
 "cells": [
  {
   "cell_type": "code",
   "execution_count": 1,
   "id": "5f10d0c8-103d-46cb-8d90-f304c282a67c",
   "metadata": {},
   "outputs": [],
   "source": [
    "import numpy as np\n",
    "import matplotlib.pyplot as plt\n",
    "import stim\n",
    "import pymatching\n",
    "import networkx as nx\n",
    "import galois\n",
    "import sympy\n",
    "\n",
    "from lib.stabilizer import measurement_gadgets, StabilizerCode, stabilizer_circuits\n",
    "from lib.decoder import checkmatrix,pL_from_checkmatrix\n",
    "from lib.stim2pymatching import estimate_pL_noisy_graph\n",
    "from lib.color_compass import bacon_shor_group, bsgauge_group, pauli2vector, pauli_weight, twisted_product\n",
    "from termcolor import colored\n",
    "from typing import Tuple\n",
    "\n",
    "import stimcirq\n",
    "from cirq.contrib.svg import SVGCircuit\n",
    "\n",
    "from tqdm import tqdm"
   ]
  },
  {
   "cell_type": "code",
   "execution_count": 8,
   "id": "5172341b-512b-47fb-b9f7-d51515068740",
   "metadata": {},
   "outputs": [],
   "source": [
    "class Lattice2D():\n",
    "    \"\"\"\n",
    "    convention: \n",
    "    X coords extend vertically |\n",
    "    Z coords extend horizontally --\n",
    "    store the coloring as a list with values in {-1, 0, 1}\n",
    "    \n",
    "    Red  ~ -1 ~ Z-type cuts\n",
    "    Blue ~ +1 ~ X-type cuts\n",
    "    White ~ 0\n",
    "    \n",
    "    preallocate logical X and L as cuts accross the lattice\n",
    "    \"\"\"\n",
    "    def __init__(self, dimX, dimZ):\n",
    "        self.dimX = dimX\n",
    "        self.dimZ = dimZ\n",
    "        self.colors = [0] * (dimX-1)*(dimZ-1)\n",
    "        self.stabs = bacon_shor_group(dimX, dimZ)\n",
    "        self.gauge = bsgauge_group(dimX, dimZ)\n",
    "        self.Lx = ''.join(['X']*dimX+['_']*dimX*(dimZ-1))\n",
    "        self.Lz = ''.join((['Z']+['_']*(dimX-1))*dimZ)\n",
    "        self.logicals = [self.Lx,self.Lz]\n",
    "        \n",
    "    def size(self):\n",
    "        return self.dimX*self.dimZ\n",
    "        \n",
    "    def __str__(self):\n",
    "        vertex_rows = []\n",
    "        face_rows = []\n",
    "        dimX = self.dimX\n",
    "        dimZ = self.dimZ\n",
    "        for i in range(dimX):\n",
    "            vertex_string = ''\n",
    "            for j in range(dimZ):\n",
    "                vertex_string += str(i*dimZ + j).zfill(3)\n",
    "                if (j != dimZ-1):\n",
    "                    vertex_string += '---'\n",
    "            vertex_rows.append(vertex_string)\n",
    "                \n",
    "        for i in range(dimX-1):\n",
    "            face_string = ''\n",
    "            for j in range(dimZ-1):\n",
    "                if(self.colors[i*(dimZ-1) + j] == -1):\n",
    "                    # face_string += ' | '+colored(' # ', 'red')\n",
    "                    face_string += ' | ' + ' R '\n",
    "                elif(self.colors[i*(dimZ-1) + j] == +1):\n",
    "                    # face_string += ' | '+colored(' # ', 'blue')\n",
    "                    face_string += ' | ' + ' B '\n",
    "                elif(self.colors[i*(dimZ-1) + j] == 0):\n",
    "                    face_string += ' |    '\n",
    "                else:\n",
    "                    raise ValueError(f'Invalid color type {self.colors[i*dimZ+j]}')\n",
    "                if j == dimZ-2:\n",
    "                    face_string += ' |'\n",
    "            face_rows.append(face_string)\n",
    "        sout = ''\n",
    "        for idx, row in enumerate(vertex_rows):\n",
    "            sout += row +'\\n'\n",
    "            if idx != len(vertex_rows)-1:\n",
    "                sout += face_rows[idx]+'\\n'\n",
    "        return sout\n",
    "    \n",
    "    def size(self):\n",
    "        return self.dimX*self.dimZ\n",
    "    \n",
    "    def getG(self):\n",
    "        return self.gauge[0]+self.gauge[1]\n",
    "    \n",
    "    def getGx(self):\n",
    "        return self.gauge[0]\n",
    "    \n",
    "    def getGz(self):\n",
    "        return self.gauge[1]\n",
    "    \n",
    "    def getS(self):\n",
    "        return self.stabs[0]+self.stabs[1]\n",
    "    \n",
    "    def getSx(self):\n",
    "        return self.stabs[0]\n",
    "    \n",
    "    def getSz(self):\n",
    "        return self.stabs[1]\n",
    "    \n",
    "    def getDims(self):\n",
    "        return (self.dimX, self.dimZ)\n",
    "    \n",
    "    def max_stab_number(self):\n",
    "        return self.dimX*self.dimZ - 1\n",
    "    \n",
    "    def pcheckZ(self):\n",
    "        \"\"\"returns the Z parity check matrix\"\"\"\n",
    "        return np.vstack([pauli2vector(s) for s in self.getSz()])\n",
    "        \n",
    "    def pcheckX(self):\n",
    "        \"\"\"returns the X parity check matrix\"\"\"\n",
    "        return np.vstack([pauli2vector(s) for s in self.getSx()])\n",
    "    \n",
    "    def display(self, pauli):\n",
    "        dimX = self.dimX\n",
    "        dimZ = self.dimZ\n",
    "        if (len(pauli) != dimX*dimZ):\n",
    "            raise ValueError(\"Pauli string dimension mismatch with lattice size\")\n",
    "        sout = ''\n",
    "        slist = list(pauli)\n",
    "        for i in range(dimX):\n",
    "            for j in range(dimZ):\n",
    "                if slist[i*dimZ+j] == 'X':\n",
    "                    sout += ' X '\n",
    "                elif slist[i*dimZ+j] == 'Z':\n",
    "                    sout += ' Z '\n",
    "                else:\n",
    "                    sout += '   '\n",
    "                if (j != dimZ-1):\n",
    "                    sout += '---'\n",
    "            if (i != dimX -1):\n",
    "                sout += '\\n'\n",
    "                sout += ' |    '*dimZ\n",
    "            sout += '\\n'\n",
    "        print(sout)\n",
    "        \n",
    "    def color_lattice(self, colors):\n",
    "        \"\"\"\n",
    "        replace color state with input and recalculate stab and gauge groups \n",
    "        \"\"\"\n",
    "        dimX = self.dimX-1\n",
    "        dimZ = self.dimZ-1\n",
    "        if(len(colors) != dimX*dimZ):\n",
    "            raise ValueError(\"Color dimension mismatch with lattice size\")\n",
    "        \n",
    "        self.stabs = bacon_shor_group(self.dimX, self.dimZ)\n",
    "        self.gauge = bsgauge_group(self.dimX, self.dimZ)\n",
    "        self.colors = colors\n",
    "        \n",
    "        \n",
    "        for cidx, c in enumerate(colors):\n",
    "            if c == -1:\n",
    "                self.update_groups((int(np.floor(cidx/dimZ)), cidx%dimZ), -1)\n",
    "            elif c == +1:\n",
    "                self.update_groups((int(np.floor(cidx/dimZ)), cidx%dimZ), +1)\n",
    "        \n",
    "        \n",
    "    def update_groups(self, coords, cut_type):\n",
    "        \"\"\"\n",
    "        cut the stabilizer group by coloring the face with the given type\n",
    "            AND\n",
    "        update the gauge group \n",
    "    \n",
    "        algo: \n",
    "        [0] pick the gauge operator g to cut around\n",
    "        [1] find s \\in S that has weight-2 overlap with g\n",
    "        [2] divide that s \n",
    "        [3] update the gauge group \n",
    "        \"\"\"\n",
    "        (i, j) = coords\n",
    "        dimX = self.dimX\n",
    "        dimZ = self.dimZ\n",
    "        [Sx, Sz] = self.getSx(), self.getSz()\n",
    "        [Gx, Gz] = self.getGx(), self.getGz()\n",
    "        \n",
    "        if cut_type == -1:\n",
    "            # -1 = red which is a Z-cut\n",
    "            g = ['_'] * dimX*dimZ\n",
    "            g[i*dimZ + j] = 'Z'\n",
    "            g[i*dimZ + j + 1] = 'Z'\n",
    "            \n",
    "            gvec = pauli2vector(''.join(g))\n",
    "            \n",
    "            # cut the relevant stabilizer\n",
    "            for idx, s in enumerate(Sz):\n",
    "                # find the overlapping stabilizer\n",
    "                if pauli_weight(np.bitwise_xor(gvec, pauli2vector(s))) == pauli_weight(s) - 2:\n",
    "                    # cut s into two vertical parts \n",
    "                    s1 = ['_'] * dimX*dimZ\n",
    "                    s2 = ['_'] * dimX*dimZ\n",
    "                    for k in range(0, i+1):\n",
    "                        s1[k*dimZ + j] = s[k*dimZ + j]\n",
    "                        s1[k*dimZ + j+1] = s[k*dimZ + j+1]\n",
    "                    for k in range(i+1, dimX):\n",
    "                        s2[k*dimZ + j] = s[k*dimZ + j]\n",
    "                        s2[k*dimZ + j+1] = s[k*dimZ + j+1]\n",
    "                    del Sz[idx]\n",
    "                    Sz.append(''.join(s1))\n",
    "                    Sz.append(''.join(s2))\n",
    "                    break\n",
    "            \n",
    "            # make new gauge operator and update gauge group \n",
    "            gauge = ['_'] * dimX*dimZ\n",
    "            for k in range(0, j+1):\n",
    "                gauge[k + i*dimZ] = 'Z'\n",
    "                gauge[k + i*dimZ + 1] = 'Z'\n",
    "            Gx_new = []\n",
    "            for g in Gx:\n",
    "                if twisted_product(pauli2vector(''.join(g)), pauli2vector(''.join(gauge))) == 0:\n",
    "                    Gx_new.append(g)\n",
    "            Gx = Gx_new\n",
    "                \n",
    "        elif cut_type == +1:\n",
    "            # +1 = blue that is a X-cut:\n",
    "            g = ['_'] * dimX*dimZ\n",
    "            g[i*dimZ + j] = 'X'\n",
    "            g[(i+1)*dimZ + j ] = 'X'\n",
    "            \n",
    "            gvec = pauli2vector(''.join(g))\n",
    "            \n",
    "            # cut the relevant stabilizer\n",
    "            for idx, s in enumerate(Sx):\n",
    "                # find the overlapping stabilizer\n",
    "                if pauli_weight(np.bitwise_xor(gvec, pauli2vector(s))) == pauli_weight(s) - 2:\n",
    "                    # cut s into two horizontal parts \n",
    "                    s1 = ['_'] * dimX*dimZ\n",
    "                    s2 = ['_'] * dimX*dimZ\n",
    "                    for k in range(0, j+1):\n",
    "                        s1[i*dimZ + k] = s[i*dimZ + k]\n",
    "                        s1[(i+1)*dimZ + k] = s[(i+1)*dimZ + k]\n",
    "                    for k in range(j+1, dimZ):\n",
    "                        s2[i*dimZ + k] = s[i*dimZ + k]\n",
    "                        s2[(i+1)*dimZ + k] = s[(i+1)*dimZ + k]\n",
    "                    del Sx[idx]\n",
    "                    Sx.append(''.join(s1))\n",
    "                    Sx.append(''.join(s2))\n",
    "                    break\n",
    "            \n",
    "            # make new gauge operator and update gauge group \n",
    "            gauge = ['_'] * dimX*dimZ\n",
    "            for k in range(0, j+1):\n",
    "                gauge[k + i*dimZ] = 'X'\n",
    "                gauge[k + (i+1)*dimZ] = 'X'\n",
    "            Gz_new = []\n",
    "            for g in Gz:\n",
    "                if twisted_product(pauli2vector(''.join(g)), pauli2vector(''.join(gauge))) == 0:\n",
    "                    Gz_new.append(g)\n",
    "            Gz = Gz_new\n",
    "\n",
    "        # update the groups\n",
    "        self.stabs = [Sx, Sz]\n",
    "        self.gauge = [Gx, Gz]\n",
    "        \n",
    "    def error_is_corrected(self, syn, l_1, l_2, l_op):\n",
    "        #syn is a vector of syndrome measurements, which has the Sx syndrome bits first\n",
    "        #l_1, l_2 are booleans corresponding to the logical operator measurement\n",
    "        #l_op is the logical operator we're measuring, written as a stim Pauli string\n",
    "\n",
    "        #also need to know the stabilizers to feed into the decoder\n",
    "\n",
    "        #check parity of l_1, l_2. If they are the same: no logical error\n",
    "        #If they are different: logical error\n",
    "        logical_error = ((l_1+l_2) % 2 == 0)\n",
    "\n",
    "        #syndrome measurement gives a syndrome s. Feed into decoder to get a correction operator c\n",
    "        #set up decoder\n",
    "        Sx = lat.getSx()\n",
    "        Sz = lat.getSz()\n",
    "        Hx = np.array([[1 if i != '_' else 0 for i in s] for s in Sx])\n",
    "        Hz = np.array([[1 if i != '_' else 0 for i in s] for s in Sz])\n",
    "        Mx = Matching(Hx)\n",
    "        Mz = Matching(Hz)\n",
    "\n",
    "        #obtain correction operator\n",
    "        cx = Mx.decode(syn[:len(Sx)])\n",
    "        cz = Mz.decode(syn[len(Sx):])\n",
    "        Rx = stim.PauliString(''.join(['X' if i == 1 else '_' for i in cx]))\n",
    "        Rz = stim.PauliString(''.join(['Z' if i == 1 else '_' for i in cz]))\n",
    "\n",
    "        correction_op = Rx*Rz\n",
    "\n",
    "\n",
    "\n",
    "        #check [c, l]\n",
    "            #If l_1 = l_2 and [c, l_op] = 0, then the error has been properly corrected\n",
    "            #in that c keeps the proper eigenstate\n",
    "            #If l_1 = l_2 and [c, l_op] \\neq 0, then the decoder takes the state out of the correct eigenstate\n",
    "            #If l_1 \\neq l_2 and [c,l_op] = 0, then the decoder fails to correct the error\n",
    "            #If l_1 \\neq l_2 and [c, l_op] \\neq 0, then the decoder properly corrects the error\n",
    "        is_corrected = (correction_op.commutes(l_op) != logical_error)\n",
    "\n",
    "        return is_corrected"
   ]
  },
  {
   "cell_type": "code",
   "execution_count": 9,
   "id": "0360db56-21b6-4824-a70b-684c401f7969",
   "metadata": {},
   "outputs": [],
   "source": [
    "\"\"\"pick the compass code\"\"\"\n",
    "dim = 4\n",
    "lat = Lattice2D(dim, dim)\n",
    "\n",
    "coloring = np.random.randint(-1, 2, size=(dim-1)**2)\n",
    "lat.color_lattice(coloring)"
   ]
  },
  {
   "cell_type": "code",
   "execution_count": 10,
   "id": "3075619a-610b-451a-b62b-4aee71fa2c16",
   "metadata": {},
   "outputs": [
    {
     "name": "stdout",
     "output_type": "stream",
     "text": [
      "000---001---002---003\n",
      " |  B  |  B  |  B  |\n",
      "004---005---006---007\n",
      " |  R  |  B  |     |\n",
      "008---009---010---011\n",
      " |  R  |     |     |\n",
      "012---013---014---015\n",
      "\n"
     ]
    }
   ],
   "source": [
    "print(lat)"
   ]
  },
  {
   "cell_type": "code",
   "execution_count": 6,
   "id": "f1050fb5-a84e-4619-a1f7-89067150c569",
   "metadata": {},
   "outputs": [
    {
     "data": {
      "text/plain": [
       "<matplotlib.image.AxesImage at 0x7fd9d42dbb20>"
      ]
     },
     "execution_count": 6,
     "metadata": {},
     "output_type": "execute_result"
    },
    {
     "data": {
      "image/png": "[encoded data removed]",
      "text/plain": [
       "<Figure size 850.708x345.6 with 1 Axes>"
      ]
     },
     "metadata": {
      "needs_background": "light"
     },
     "output_type": "display_data"
    }
   ],
   "source": [
    "\"\"\"Construct the parity check matrices\"\"\"\n",
    "pcheckX = lat.pcheckX()\n",
    "pcheckZ = lat.pcheckZ()\n",
    "\n",
    "pcheck = np.vstack([pcheckX, pcheckZ])\n",
    "plt.matshow(pcheck)"
   ]
  },
  {
   "cell_type": "code",
   "execution_count": 7,
   "id": "9ac1587a-f8a4-4384-a646-b6770cf5ab17",
   "metadata": {},
   "outputs": [
    {
     "name": "stdout",
     "output_type": "stream",
     "text": [
      "___X____________\n"
     ]
    }
   ],
   "source": [
    "\"\"\"Sample a random Pauli error\n",
    "    for now, I'll assume biased, symmetric, uncorrelated Pauli channel\n",
    "\"\"\"\n",
    "import random\n",
    "\n",
    "def random_pauli(num_qubits : int, rates : list):\n",
    "    assert rates[0] + rates[1] + rates[2] <= 1, \"Error rate must not exceed 1\"\"\"\n",
    "    paulis = []\n",
    "    for i in range(num_qubits):\n",
    "        x = random.uniform(0, 1)\n",
    "        if x <= rates[0]: \n",
    "            paulis.append('X')\n",
    "        elif x <= rates[0] + rates[1]:\n",
    "            paulis.append('Y')\n",
    "        elif x <= rates[0] + rates[1] + rates[2]:\n",
    "            paulis.append('Z')\n",
    "        else:\n",
    "            paulis.append('_')\n",
    "    return ''.join(paulis)\n",
    "\n",
    "P = random_pauli(lat.size(), [0.01, 0.01, 0.04])\n",
    "print(P)"
   ]
  },
  {
   "cell_type": "code",
   "execution_count": 8,
   "id": "85011da1-d5de-4eee-819f-2f0749133348",
   "metadata": {},
   "outputs": [
    {
     "data": {
      "text/plain": [
       "array([0, 0, 0, 1, 0, 0, 0, 0, 0, 0, 0, 0, 0, 0, 0, 0, 0, 0, 0, 0, 0, 0,\n",
       "       0, 0, 0, 0, 0, 0, 0, 0, 0, 0])"
      ]
     },
     "execution_count": 8,
     "metadata": {},
     "output_type": "execute_result"
    }
   ],
   "source": [
    "pauli2vector(P)"
   ]
  },
  {
   "cell_type": "code",
   "execution_count": 9,
   "id": "9b6021be-5689-4977-9e5c-b15aef13d87d",
   "metadata": {},
   "outputs": [
    {
     "name": "stdout",
     "output_type": "stream",
     "text": [
      "[0 0 0 0 0 0 0] [1 0 0 0 0 0]\n"
     ]
    }
   ],
   "source": [
    "\"\"\"get the syndrome of the pauli operator \"\"\"\n",
    "\n",
    "def twisted_product(stab_binary, pauli_binary):\n",
    "    \"\"\"\n",
    "    take twisted product of stabilizer with pauli to calculate commutator \n",
    "    \"\"\"\n",
    "    \n",
    "    if len(stab_binary.shape) == 1:\n",
    "        # if we have only 1 stabilizer\n",
    "        L = int(len(stab_binary)/2)\n",
    "        return (stab_binary[:L]@pauli_binary[L:] + stab_binary[L:]@pauli_binary[:L]) % 2\n",
    "    else:\n",
    "        # if we have a parity check \n",
    "        L = int(stab_binary.shape[1]/2)\n",
    "        assert stab_binary.shape[1] == len(pauli_binary)\n",
    "        syndrome = []\n",
    "        for i in range(stab_binary.shape[0]):\n",
    "            syndrome.append((stab_binary[i, :L]@pauli_binary[L:] + stab_binary[i, L:]@pauli_binary[:L]) % 2)\n",
    "        return np.array(syndrome)\n",
    "syndromeX = twisted_product(pcheckX, pauli2vector(P))\n",
    "syndromeZ = twisted_product(pcheckZ, pauli2vector(P))\n",
    "print(syndromeX, syndromeZ)"
   ]
  },
  {
   "cell_type": "code",
   "execution_count": 10,
   "id": "e832cf1c-44ee-423b-8133-e1c0e89d0cc1",
   "metadata": {},
   "outputs": [
    {
     "data": {
      "text/plain": [
       "<matplotlib.image.AxesImage at 0x7fd9d41354c0>"
      ]
     },
     "execution_count": 10,
     "metadata": {},
     "output_type": "execute_result"
    },
    {
     "data": {
      "image/png": "[encoded data removed]",
      "text/plain": [
       "<Figure size 658.286x288 with 1 Axes>"
      ]
     },
     "metadata": {
      "needs_background": "light"
     },
     "output_type": "display_data"
    },
    {
     "data": {
      "image/png": "[encoded data removed]",
      "text/plain": [
       "<Figure size 768x288 with 1 Axes>"
      ]
     },
     "metadata": {
      "needs_background": "light"
     },
     "output_type": "display_data"
    }
   ],
   "source": [
    "\"\"\"setup datastructures for MWPM decoding\"\"\"\n",
    "\n",
    "def pcheck_clipZ(pcheck):\n",
    "    \"\"\"\n",
    "    clip (remove) the 1st half of the parity check matrix\n",
    "    \"\"\"\n",
    "    L = int(pcheck.shape[1]/2)\n",
    "    return pcheck[:, L:]\n",
    "\n",
    "def pcheck_clipX(pcheck):\n",
    "    \"\"\"\n",
    "    clip (remove) the 2nd half of the parity check matrix\n",
    "    \"\"\"\n",
    "    L = int(pcheck.shape[1]/2)\n",
    "    return pcheck[:, :L]\n",
    "\n",
    "Hx = pcheck_clipX(pcheckX)\n",
    "Hz = pcheck_clipZ(pcheckZ)\n",
    "\n",
    "plt.matshow(Hx)\n",
    "plt.matshow(Hz)"
   ]
  },
  {
   "cell_type": "code",
   "execution_count": 11,
   "id": "ee0a9140-4e0a-4401-8743-7a3f0f23bfbc",
   "metadata": {},
   "outputs": [
    {
     "name": "stdout",
     "output_type": "stream",
     "text": [
      "[0 0 0 1 0 0 0 0 0 0 0 0 0 0 0 0 0 0 0 0 0 0 0 0 0 0 0 0 0 0 0 0]\n"
     ]
    }
   ],
   "source": [
    "\"\"\"Decode with MWPM\n",
    "note that the X recovery is associated to the Z syndrome and vice-versa\n",
    "\"\"\"\n",
    "matchingX = pymatching.Matching.from_check_matrix(Hx)\n",
    "recoveryZ = matchingX.decode(syndromeX)\n",
    "\n",
    "matchingZ = pymatching.Matching.from_check_matrix(Hz)\n",
    "recoveryX = matchingZ.decode(syndromeZ)\n",
    "\n",
    "recovery = np.concatenate((recoveryX, recoveryZ))\n",
    "print(recovery)"
   ]
  },
  {
   "cell_type": "code",
   "execution_count": 12,
   "id": "780e9cff-9ff1-4427-a3bd-2f634c416208",
   "metadata": {},
   "outputs": [
    {
     "name": "stdout",
     "output_type": "stream",
     "text": [
      "[0 0 0 0 0 0 0 0 0 0 0 0 0]\n"
     ]
    }
   ],
   "source": [
    "\"\"\"check if successfullly mapped back to codespace\"\"\"\n",
    "corrected_error = pauli2vector(P) + recovery % 2\n",
    "print(twisted_product(pcheck, corrected_error))"
   ]
  },
  {
   "cell_type": "code",
   "execution_count": 13,
   "id": "bff28308-01bf-4387-a118-afc838155371",
   "metadata": {},
   "outputs": [
    {
     "name": "stdout",
     "output_type": "stream",
     "text": [
      "0\n",
      "0\n"
     ]
    }
   ],
   "source": [
    "\"\"\"check if corrected the logical part of the error\"\"\"\n",
    "print(twisted_product(pauli2vector(lat.Lx), corrected_error))\n",
    "print(twisted_product(pauli2vector(lat.Lz), corrected_error))"
   ]
  },
  {
   "cell_type": "code",
   "execution_count": 18,
   "id": "64c18996-9132-4391-96b0-cc6f0a31f3db",
   "metadata": {},
   "outputs": [
    {
     "name": "stdout",
     "output_type": "stream",
     "text": [
      "000---001---002---003---004---005---006---007---008---009\n",
      " |  #  |  #  |  #  |  #  |     |  #  |  #  |  #  |  #  |\n",
      "010---011---012---013---014---015---016---017---018---019\n",
      " |  #  |  #  |  #  |     |     |     |  #  |  #  |  #  |\n",
      "020---021---022---023---024---025---026---027---028---029\n",
      " |  #  |     |  #  |  #  |  #  |     |  #  |  #  |  #  |\n",
      "030---031---032---033---034---035---036---037---038---039\n",
      " |  #  |  #  |     |  #  |     |  #  |     |  #  |  #  |\n",
      "040---041---042---043---044---045---046---047---048---049\n",
      " |     |  #  |  #  |     |  #  |  #  |  #  |  #  |  #  |\n",
      "050---051---052---053---054---055---056---057---058---059\n",
      " |     |  #  |     |  #  |  #  |  #  |  #  |  #  |  #  |\n",
      "060---061---062---063---064---065---066---067---068---069\n",
      " |  #  |     |  #  |  #  |     |  #  |     |  #  |     |\n",
      "070---071---072---073---074---075---076---077---078---079\n",
      " |     |     |  #  |  #  |  #  |     |  #  |  #  |  #  |\n",
      "080---081---082---083---084---085---086---087---088---089\n",
      " |  #  |     |  #  |  #  |     |  #  |     |  #  |  #  |\n",
      "090---091---092---093---094---095---096---097---098---099\n",
      "\n"
     ]
    }
   ],
   "source": [
    "\"\"\"do it 2000 times for a 10x10 lattice\"\"\"\n",
    "lat = Lattice2D(10, 10)\n",
    "\n",
    "coloring = np.random.randint(-1, 2, size=(10-1)**2)\n",
    "lat.color_lattice(coloring)\n",
    "print(lat)"
   ]
  },
  {
   "cell_type": "code",
   "execution_count": 19,
   "id": "ec63f412-b0d5-4284-8602-8073fc811bda",
   "metadata": {},
   "outputs": [
    {
     "name": "stderr",
     "output_type": "stream",
     "text": [
      "100%|██████████| 2000/2000 [00:17<00:00, 113.51it/s]\n"
     ]
    }
   ],
   "source": [
    "rates = [0.04, 0.04, 0.04]\n",
    "num_rounds = 2000\n",
    "\n",
    "codespace_projection = [0]*num_rounds\n",
    "logical_errors = [0]*num_rounds\n",
    "uncorrected_logical_error_rate = [0]*num_rounds\n",
    "for r in tqdm(range(num_rounds)):\n",
    "    P = random_pauli(lat.size(), rates)\n",
    "    while P == 'I'*lat.size():\n",
    "        # resample if we got an identity error -- note this actually increases the error rate we measure\n",
    "        P = random_pauli(lat.size(), rates)\n",
    "    error = pauli2vector(P)\n",
    "    pcheckX = lat.pcheckX()\n",
    "    pcheckZ = lat.pcheckZ()\n",
    "    pcheck = np.vstack((pcheckX, pcheckZ))\n",
    "    syndromeX = twisted_product(pcheckX, pauli2vector(P))\n",
    "    syndromeZ = twisted_product(pcheckZ, pauli2vector(P))\n",
    "    Hx = pcheck_clipX(pcheckX)\n",
    "    Hz = pcheck_clipZ(pcheckZ)\n",
    "    matchingX = pymatching.Matching.from_check_matrix(Hx)\n",
    "    matchingZ = pymatching.Matching.from_check_matrix(Hz)\n",
    "    recoveryZ = matchingX.decode(syndromeX)\n",
    "    recoveryX = matchingZ.decode(syndromeZ)\n",
    "    recovery = np.concatenate((recoveryX, recoveryZ))\n",
    "    corrected_error = pauli2vector(P) + recovery % 2\n",
    "    \n",
    "    if sum(twisted_product(pcheck, corrected_error)) > 0:\n",
    "        codespace_projection[r] = 1\n",
    "    if (twisted_product(pauli2vector(lat.Lx), corrected_error) == 1) or (twisted_product(pauli2vector(lat.Lz), corrected_error) == 1):\n",
    "        logical_errors[r] = 1\n",
    "    if (twisted_product(pauli2vector(lat.Lx), error) == 1) or (twisted_product(pauli2vector(lat.Lz), error) == 1):\n",
    "        uncorrected_logical_error_rate[r] = 1"
   ]
  },
  {
   "cell_type": "code",
   "execution_count": 17,
   "id": "512ca23e-d36b-4744-89c3-94f0d43a3048",
   "metadata": {},
   "outputs": [
    {
     "name": "stdout",
     "output_type": "stream",
     "text": [
      "number of codespace projection failures 0\n",
      "logical error rate 0.25\n",
      "uncorrected error rate 0.5245\n",
      "physical error rate 0.12\n"
     ]
    }
   ],
   "source": [
    "print('number of codespace projection failures', sum(codespace_projection))\n",
    "print('logical error rate', sum(logical_errors)/len(logical_errors))\n",
    "print('uncorrected error rate', sum(uncorrected_logical_error_rate)/len(uncorrected_logical_error_rate))\n",
    "print('physical error rate', sum(rates))"
   ]
  },
  {
   "cell_type": "code",
   "execution_count": 117,
   "id": "fa121100-57ed-4508-a83d-932f4a4c2f0c",
   "metadata": {},
   "outputs": [
    {
     "name": "stdout",
     "output_type": "stream",
     "text": [
      "000---001---002---003---004---005---006---007---008---009\n",
      " |  #  |  #  |  #  |  #  |  #  |  #  |  #  |  #  |  #  |\n",
      "010---011---012---013---014---015---016---017---018---019\n",
      " |  #  |  #  |  #  |  #  |  #  |  #  |  #  |  #  |  #  |\n",
      "020---021---022---023---024---025---026---027---028---029\n",
      " |  #  |  #  |  #  |  #  |  #  |  #  |  #  |  #  |  #  |\n",
      "030---031---032---033---034---035---036---037---038---039\n",
      " |  #  |  #  |  #  |  #  |  #  |  #  |  #  |  #  |  #  |\n",
      "040---041---042---043---044---045---046---047---048---049\n",
      " |  #  |  #  |  #  |  #  |  #  |  #  |  #  |  #  |  #  |\n",
      "050---051---052---053---054---055---056---057---058---059\n",
      " |  #  |  #  |  #  |  #  |  #  |  #  |  #  |  #  |  #  |\n",
      "060---061---062---063---064---065---066---067---068---069\n",
      " |  #  |  #  |  #  |  #  |  #  |  #  |  #  |  #  |  #  |\n",
      "070---071---072---073---074---075---076---077---078---079\n",
      " |  #  |  #  |  #  |  #  |  #  |  #  |  #  |  #  |  #  |\n",
      "080---081---082---083---084---085---086---087---088---089\n",
      " |  #  |  #  |  #  |  #  |  #  |  #  |  #  |  #  |  #  |\n",
      "090---091---092---093---094---095---096---097---098---099\n",
      "\n"
     ]
    }
   ],
   "source": [
    "from lib.color_compass import compass_to_surface\n",
    "\"\"\" do it for the surface code\"\"\"\n",
    "\n",
    "slat = compass_to_surface(10, 10)\n",
    "print(slat)"
   ]
  },
  {
   "cell_type": "code",
   "execution_count": 118,
   "id": "c80ad295-e4f9-43f8-8fdc-87a0babf43e7",
   "metadata": {},
   "outputs": [
    {
     "name": "stderr",
     "output_type": "stream",
     "text": [
      "100%|██████████| 2000/2000 [00:17<00:00, 111.70it/s]\n"
     ]
    }
   ],
   "source": [
    "rates = [0.04, 0.04, 0.04]\n",
    "num_rounds = 2000\n",
    "\n",
    "codespace_projection = [0]*num_rounds\n",
    "logical_errors = [0]*num_rounds\n",
    "uncorrected_logical_error_rate = [0]*num_rounds\n",
    "for r in tqdm(range(num_rounds)):\n",
    "    P = random_pauli(lat.size(), rates)\n",
    "    while P == 'I'*lat.size():\n",
    "        # resample if we got an identity error -- note this actually increases the error rate we measure\n",
    "        P = random_pauli(lat.size(), rates)\n",
    "    error = pauli2vector(P)\n",
    "    pcheckX = lat.pcheckX()\n",
    "    pcheckZ = lat.pcheckZ()\n",
    "    pcheck = np.vstack((pcheckX, pcheckZ))\n",
    "    syndromeX = twisted_product(pcheckX, pauli2vector(P))\n",
    "    syndromeZ = twisted_product(pcheckZ, pauli2vector(P))\n",
    "    Hx = pcheck_clipX(pcheckX)\n",
    "    Hz = pcheck_clipZ(pcheckZ)\n",
    "    matchingX = pymatching.Matching.from_check_matrix(Hx)\n",
    "    matchingZ = pymatching.Matching.from_check_matrix(Hz)\n",
    "    recoveryZ = matchingX.decode(syndromeX)\n",
    "    recoveryX = matchingZ.decode(syndromeZ)\n",
    "    recovery = np.concatenate((recoveryX, recoveryZ))\n",
    "    corrected_error = pauli2vector(P) + recovery % 2\n",
    "    \n",
    "    if sum(twisted_product(pcheck, corrected_error)) > 0:\n",
    "        codespace_projection[r] = 1\n",
    "    if (twisted_product(pauli2vector(lat.Lx), corrected_error) == 1) or (twisted_product(pauli2vector(lat.Lz), corrected_error) == 1):\n",
    "        logical_errors[r] = 1\n",
    "    if (twisted_product(pauli2vector(lat.Lx), error) == 1) or (twisted_product(pauli2vector(lat.Lz), error) == 1):\n",
    "        uncorrected_logical_error_rate[r] = 1"
   ]
  },
  {
   "cell_type": "code",
   "execution_count": 119,
   "id": "e195a34c-6adb-412a-96f6-b9e7d4f1658a",
   "metadata": {},
   "outputs": [
    {
     "name": "stdout",
     "output_type": "stream",
     "text": [
      "number of codespace projection failures 0\n",
      "logical error rate 0.2535\n",
      "uncorrected error rate 0.659\n",
      "physical error rate 0.12\n"
     ]
    }
   ],
   "source": [
    "print('number of codespace projection failures', sum(codespace_projection))\n",
    "print('logical error rate', sum(logical_errors)/len(logical_errors))\n",
    "print('uncorrected error rate', sum(uncorrected_logical_error_rate)/len(uncorrected_logical_error_rate))\n",
    "print('physical error rate', sum(rates))"
   ]
  },
  {
   "attachments": {},
   "cell_type": "markdown",
   "id": "cf2faffa",
   "metadata": {},
   "source": [
    "#### BP + OSD Decoder"
   ]
  },
  {
   "cell_type": "code",
   "execution_count": 16,
   "id": "34838b35",
   "metadata": {},
   "outputs": [],
   "source": [
    "def tanner_to_parity_check_mat(G: nx.Graph) -> np.array:\n",
    "    \"\"\"\n",
    "    Converts Tanner graph 'G' into parity check matrix\n",
    "\n",
    "    Parameters:\n",
    "    -----------\n",
    "    G - Tanner graph\n",
    "    \"\"\"\n",
    "    num_var_nodes = 0\n",
    "    num_check_nodes = 0\n",
    "    check_node_list = []\n",
    "    G_nodes = list(G.nodes)\n",
    "    G_edges = list(G.edges)\n",
    "    for node in G_nodes:\n",
    "        if (node[0] == 'v'):\n",
    "            num_var_nodes += 1\n",
    "        else:\n",
    "            num_check_nodes += 1\n",
    "    \n",
    "    mat = np.zeros((num_check_nodes, num_var_nodes))\n",
    "    for edge in G_edges:\n",
    "        if (edge[0][0] == 'c'):\n",
    "            mat[int(edge[0][1])][int(edge[1][1])] = 1\n",
    "        else:\n",
    "            mat[int(edge[1][1])][int(edge[0][1])] = 1\n",
    "    \n",
    "    return mat\n",
    "\n",
    "def parity_check_mat_to_tanner(mat: np.array) -> nx.Graph:\n",
    "    \"\"\" \n",
    "    Converts parity check matrix 'mat' into Tanner graph\n",
    "\n",
    "    Parameters:\n",
    "    -----------\n",
    "    mat - parity check matrix\n",
    "    \"\"\"\n",
    "    num_var_nodes = mat.shape[1]\n",
    "    num_check_nodes = mat.shape[0]\n",
    "    tan_graph = nx.Graph();\n",
    "    for i in range(num_var_nodes):\n",
    "        tan_graph.add_node(\"v\" + str(i))\n",
    "\n",
    "    for j in range(num_check_nodes):\n",
    "        tan_graph.add_node(\"c\" + str(j))\n",
    "\n",
    "    for i in range(mat.shape[0]):\n",
    "        for j in range(mat.shape[1]):\n",
    "            if (mat[i][j] == 1):\n",
    "                tan_graph.add_edge(\"c\" + str(i), \"v\" + str(j))\n",
    "    \n",
    "    return tan_graph"
   ]
  },
  {
   "cell_type": "code",
   "execution_count": 17,
   "id": "73e54893",
   "metadata": {},
   "outputs": [],
   "source": [
    "def belief_prop(H: np.array, s: np.array, p: float, max_iter: int) -> Tuple:\n",
    "    \"\"\" \n",
    "    Belief Propagation Algorithm for Decoding LDPC Codes\n",
    "\n",
    "    Parameters:\n",
    "    -----------\n",
    "    H - parity-check matrix corresponding to either X or Z checks\n",
    "    s - Error syndrome\n",
    "    p - Channel error rate for chosen noise channel\n",
    "    max_iter - Maximum number of iterations to run BP algorithm for\n",
    "    \"\"\"\n",
    "    data_to_parity = np.zeros((len(H[0]),len(H)), dtype=float)\n",
    "    parity_to_data = np.zeros((len(H), len(H[0])), dtype=float)\n",
    "    H_tanner_graph = parity_check_mat_to_tanner(H)\n",
    "    \n",
    "    # Channel Log Likelihood Ratio\n",
    "    p_l = np.log((1 - p)/p)\n",
    "    \n",
    "    P_1 = np.zeros((len(H[0]),), dtype=float)\n",
    "    e_BP = np.zeros((len(H[0]),), dtype=float)\n",
    "\n",
    "    # (1) Initialization\n",
    "    for edge in H_tanner_graph.edges:\n",
    "        data_node_num = int(edge[0][1:])\n",
    "        parity_node_num = int(edge[1][1:])\n",
    "        data_to_parity[data_node_num][parity_node_num] = p_l \n",
    "\n",
    "    for iter in range(1, max_iter + 1):\n",
    "        # Scaling Factor\n",
    "        a = 1 - 2**(-1 * iter)\n",
    "\n",
    "        # (2) Parity to Data Messages\n",
    "        for edge in H_tanner_graph.edges:\n",
    "            parity_node_num = int(edge[1][1:])\n",
    "            data_node_num = int(edge[0][1:])\n",
    "\n",
    "            # Get list of neighbors of current parity_node set minus the current data node\n",
    "            V = list(nx.neighbors(H_tanner_graph, edge[1]))\n",
    "            V.remove(edge[0])\n",
    "\n",
    "            # Get messages from elements of V to current parity node\n",
    "            data_to_par_msgs = [data_to_parity[int(v[1:])][parity_node_num] for v in V]\n",
    "            w = np.min([np.abs(msg) for msg in data_to_par_msgs])\n",
    "            parity_to_data[parity_node_num][data_node_num] = ((-1) ** int(s[parity_node_num])) * a * np.prod(np.sign(data_to_par_msgs)) * w \n",
    "\n",
    "        # (3) Data to Parity Messages\n",
    "        for edge in H_tanner_graph.edges:\n",
    "            data_node_num = int(edge[0][1:])\n",
    "            parity_node_num = int(edge[1][1:])\n",
    "\n",
    "            # Get list of neighbors of current data node set minus the current parity node\n",
    "            U = list(nx.neighbors(H_tanner_graph, edge[0]))\n",
    "            U.remove(edge[1])\n",
    "\n",
    "            # Get messages from elements of U to current data node\n",
    "            par_to_data_msgs = [parity_to_data[int(u[1:])][data_node_num] for u in U]\n",
    "            data_to_parity[data_node_num][parity_node_num] = p_l + np.sum(par_to_data_msgs)\n",
    "\n",
    "        # Hard Decision\n",
    "        for edge in H_tanner_graph.edges:\n",
    "            data_node_num = int(edge[0][1:])\n",
    "            parity_node_num = int(edge[1][1:])\n",
    "\n",
    "            # Get list of neighbors of current data node\n",
    "            U = list(nx.neighbors(H_tanner_graph, edge[0]))\n",
    "\n",
    "            par_to_data_msgs = [parity_to_data[int(u[1:])][data_node_num] for u in U]\n",
    "            P_1[data_node_num] = p_l + np.sum(par_to_data_msgs)\n",
    "            e_BP[data_node_num] = -1 * np.sign(P_1[data_node_num])\n",
    "        \n",
    "        # (4) Termination Check\n",
    "        e_BP = e_BP * (e_BP > 0)\n",
    "        #print(e_BP)\n",
    "        if (np.array_equal(np.dot(H, e_BP), s)):\n",
    "            return True, e_BP, P_1 \n",
    "    H_tanner_graph.clear()\n",
    "    return False, e_BP, P_1"
   ]
  },
  {
   "cell_type": "code",
   "execution_count": 18,
   "id": "fd669b08",
   "metadata": {},
   "outputs": [],
   "source": [
    "def OSD_0(H: np.array, P_1: np.array, s: np.array) -> np.array:\n",
    "    \"\"\" \n",
    "    The Ordered Statistics Decoding (OSD) Zero algorithm is a post-processing \n",
    "    algorithm utilized when BP fails to converge \n",
    "\n",
    "    Parameters:\n",
    "    -----------\n",
    "    H - parity check matrix\n",
    "    P_1 - BP soft decision vector\n",
    "    s - Error syndrome \n",
    "\n",
    "    Returns:\n",
    "    --------\n",
    "    Error string\n",
    "    \"\"\"\n",
    "    GF = galois.GF(2)\n",
    "\n",
    "    # Get rank of parity check matrix \n",
    "    H_rank = np.linalg.matrix_rank(GF(H))\n",
    "    \n",
    "    # Sort soft decision vector \n",
    "    P_1_sorted_pos = np.argsort(P_1, kind='stable')\n",
    "    P_1_sorted = [P_1[i] for i in P_1_sorted_pos]\n",
    "\n",
    "    # Remove remove row from 'H' and related position from 's' if number of rows + 1 = rank else leave as is\n",
    "    if (H_rank == np.shape(H)[0]):\n",
    "        H_d = H\n",
    "        s_d = s\n",
    "    else:\n",
    "        del_pos = np.random.choice(len(H))\n",
    "        H_d = np.delete(H, del_pos, axis=0)\n",
    "        s_d = GF(np.delete(s, del_pos, axis=0))\n",
    "\n",
    "    # Rearrange columns of H to match the reordered soft-decision vector\n",
    "    H_d[:] = H_d[:, P_1_sorted_pos]\n",
    "\n",
    "    # Select first RANK(H) linearly independent columns of above rearrangement\n",
    "    H_rref, inds = sympy.Matrix(H_d).rref()\n",
    "    print(H_rref)\n",
    "    H_rref = np.array(H_rref)\n",
    "    \n",
    "    H_S = GF(np.vstack(([H_d[:, inds[i]] for i in range(0, H_rank)])).T)\n",
    "    #H_S_inv = GF(np.mod((np.linalg.inv(H_S)).astype('int32'),2))\n",
    "    H_S_inv = np.linalg.inv(H_S)\n",
    "    \n",
    "    # Calculate the OSD-0 solution on the basis-bits\n",
    "    e_S = H_S_inv @ GF(s_d)\n",
    "    e_ST = np.hstack((e_S, GF(np.zeros((len(H[0]) - H_rank,), dtype='int32'))))\n",
    "    \n",
    "    \n",
    "    # Map the OSD-0 solution to the original bit-ordering\n",
    "    e_OSD = GF(np.zeros((len(H[0]),), dtype='int32'))\n",
    "    for i in range(len(P_1_sorted_pos)):\n",
    "        e_OSD[P_1_sorted_pos[i]] = e_ST[i]\n",
    "    \n",
    "    return e_OSD"
   ]
  },
  {
   "cell_type": "code",
   "execution_count": 19,
   "id": "8b1d507e-1d04-4233-bf8f-e9949dded43a",
   "metadata": {},
   "outputs": [
    {
     "name": "stdout",
     "output_type": "stream",
     "text": [
      "000---001---002---003---004---005---006---007---008---009\n",
      " | \u001b[34m # \u001b[0m |     | \u001b[34m # \u001b[0m | \u001b[34m # \u001b[0m |     |     |     | \u001b[31m # \u001b[0m | \u001b[31m # \u001b[0m |\n",
      "010---011---012---013---014---015---016---017---018---019\n",
      " | \u001b[31m # \u001b[0m |     |     | \u001b[34m # \u001b[0m | \u001b[31m # \u001b[0m | \u001b[31m # \u001b[0m | \u001b[34m # \u001b[0m | \u001b[31m # \u001b[0m | \u001b[34m # \u001b[0m |\n",
      "020---021---022---023---024---025---026---027---028---029\n",
      " | \u001b[31m # \u001b[0m | \u001b[34m # \u001b[0m | \u001b[31m # \u001b[0m | \u001b[34m # \u001b[0m |     |     |     | \u001b[34m # \u001b[0m | \u001b[31m # \u001b[0m |\n",
      "030---031---032---033---034---035---036---037---038---039\n",
      " | \u001b[31m # \u001b[0m | \u001b[34m # \u001b[0m | \u001b[34m # \u001b[0m | \u001b[34m # \u001b[0m |     | \u001b[31m # \u001b[0m | \u001b[31m # \u001b[0m | \u001b[34m # \u001b[0m |     |\n",
      "040---041---042---043---044---045---046---047---048---049\n",
      " | \u001b[34m # \u001b[0m | \u001b[31m # \u001b[0m |     | \u001b[34m # \u001b[0m |     | \u001b[34m # \u001b[0m | \u001b[31m # \u001b[0m |     | \u001b[31m # \u001b[0m |\n",
      "050---051---052---053---054---055---056---057---058---059\n",
      " |     | \u001b[34m # \u001b[0m | \u001b[31m # \u001b[0m | \u001b[31m # \u001b[0m | \u001b[34m # \u001b[0m |     | \u001b[31m # \u001b[0m | \u001b[34m # \u001b[0m |     |\n",
      "060---061---062---063---064---065---066---067---068---069\n",
      " | \u001b[34m # \u001b[0m |     | \u001b[34m # \u001b[0m |     |     |     | \u001b[31m # \u001b[0m | \u001b[31m # \u001b[0m |     |\n",
      "070---071---072---073---074---075---076---077---078---079\n",
      " | \u001b[31m # \u001b[0m |     | \u001b[31m # \u001b[0m | \u001b[31m # \u001b[0m |     | \u001b[31m # \u001b[0m | \u001b[34m # \u001b[0m |     |     |\n",
      "080---081---082---083---084---085---086---087---088---089\n",
      " |     | \u001b[34m # \u001b[0m | \u001b[34m # \u001b[0m | \u001b[31m # \u001b[0m | \u001b[34m # \u001b[0m | \u001b[34m # \u001b[0m | \u001b[34m # \u001b[0m |     | \u001b[31m # \u001b[0m |\n",
      "090---091---092---093---094---095---096---097---098---099\n",
      "\n"
     ]
    }
   ],
   "source": [
    "\"\"\"do it 2000 times for a 10x10 lattice\"\"\"\n",
    "lat = Lattice2D(10, 10)\n",
    "\n",
    "coloring = np.random.randint(-1, 2, size=(10-1)**2)\n",
    "lat.color_lattice(coloring)\n",
    "print(lat)"
   ]
  },
  {
   "cell_type": "code",
   "execution_count": 25,
   "id": "42994060",
   "metadata": {},
   "outputs": [
    {
     "name": "stdout",
     "output_type": "stream",
     "text": [
      "ERROR: [0 0 0 0 0 0 0 0 0 0 0 0 0 0 0 0 0 0 0 0 0 0 0 0 0 0 0 0 0 0 0 0 0 0 0 0 0\n",
      " 0 0 0 1 0 0 0 0 0 0 0 0 0 0 0 0 0 0 0 0 0 0 0 0 0 1 0 0 0 0 0 0 1 0 0 0 0\n",
      " 0 0 0 0 0 0 0 0 0 0 0 0 0 0 0 1 0 0 0 0 0 0 0 0 0 0 0 0 0 0 0 0 0 0 0 0 0\n",
      " 0 0 0 0 0 0 0 0 0 0 0 0 0 0 0 0 0 0 0 0 0 0 0 0 0 0 0 0 0 0 0 0 0 0 0 0 0\n",
      " 0 0 0 0 0 0 0 0 0 0 0 0 0 0 1 0 0 0 0 0 0 0 0 0 0 0 0 0 0 1 0 0 0 0 0 0 0\n",
      " 0 0 0 0 1 0 0 0 0 0 0 0 0 0 1]\n",
      "SYNDROMES: (array([0, 0, 0, 0, 0, 0, 0, 0, 0, 0, 0, 0, 0, 0, 1, 0, 0, 0, 0, 0, 0, 0,\n",
      "       0, 0, 1, 0, 1, 0, 0, 0, 0, 0, 0, 0, 0]), array([0, 0, 0, 0, 0, 0, 0, 0, 0, 0, 0, 0, 0, 0, 0, 0, 0, 0, 0, 0, 0, 0,\n",
      "       1, 0, 0, 0, 1, 1, 0, 0, 0, 0, 0, 0, 0, 0]))\n",
      "DID Z ERROR RECOVERY CONVERGE: False\n",
      "DID X ERROR RECOVERY CONVERGE: False\n",
      "True\n",
      "True\n",
      "RECOVERY: [0 0 0 0 0 0 0 0 0 0 0 0 0 0 0 0 0 0 0 0 0 0 0 0 0 0 0 0 0 0 0 0 0 0 0 0 0\n",
      " 0 0 0 0 0 0 0 0 0 0 0 0 0 0 0 0 0 0 0 0 0 0 0 1 0 0 0 0 0 0 0 0 0 1 1 0 1\n",
      " 0 0 0 0 0 0 0 0 0 0 0 0 0 0 0 0 0 0 0 0 0 0 0 0 0 0 0 1 0 0 0 0 0 0 1 0 0\n",
      " 0 1 0 0 0 0 0 0 0 0 0 0 0 0 0 1 0 0 0 0 1 0 0 0 0 0 0 0 0 0 0 0 0 0 0 0 0\n",
      " 0 0 0 0 0 0 0 0 0 0 0 0 0 0 0 0 0 0 0 0 0 0 0 0 0 0 0 0 1 0 0 0 0 0 0 0 0\n",
      " 0 0 0 1 0 0 0 0 0 0 0 0 0 0 0]\n",
      "COMMUTATION WITH STABS: [0 0 0 1 1 1 0 0 1 0 1 0 1 0 0 0 0 0 0 0 0 0 1 0 0 0 1 0 1 1 0 0 0 0 0 1 0\n",
      " 0 0 0 0 0 0 0 0 0 0 0 0 0 0 0 0 0 0 0 0 0 0 0 0 0 0 0 1 0 0 0 0 0 0]\n",
      "COMMUTATION WITH LOGICAL OP 1: 0\n",
      "COMMUTATION WITH LOGICAL OP 2: 1\n"
     ]
    },
    {
     "data": {
      "image/png": "[encoded data removed]",
      "text/plain": [
       "<Figure size 800x288 with 1 Axes>"
      ]
     },
     "metadata": {
      "needs_background": "light"
     },
     "output_type": "display_data"
    },
    {
     "data": {
      "image/png": "[encoded data removed]",
      "text/plain": [
       "<Figure size 822.857x288 with 1 Axes>"
      ]
     },
     "metadata": {
      "needs_background": "light"
     },
     "output_type": "display_data"
    }
   ],
   "source": [
    "# Single round test run\n",
    "P = random_pauli(lat.size(), rates)\n",
    "while P == 'I'*lat.size():\n",
    "    P = random_pauli(lat.size(), rates)\n",
    "error = pauli2vector(P)\n",
    "print(\"ERROR: \" + str(error))\n",
    "\n",
    "pcheckX = lat.pcheckX()\n",
    "pcheckZ = lat.pcheckZ()\n",
    "pcheck = np.vstack((pcheckX, pcheckZ))\n",
    "\n",
    "syndromeZ = twisted_product(pcheckX, pauli2vector(P))\n",
    "syndromeX = twisted_product(pcheckZ, pauli2vector(P))\n",
    "print(\"SYNDROMES: \" + str((syndromeX, syndromeZ)))\n",
    "\n",
    "Hx = pcheck_clipX(pcheckX)\n",
    "Hz = pcheck_clipZ(pcheckZ)\n",
    "plt.matshow(Hx)\n",
    "plt.matshow(Hz)\n",
    "\n",
    "converged_Z, e_BP_Z, P_1_Z = belief_prop(Hx, syndromeZ, 0.04, lat.size())\n",
    "print(\"DID Z ERROR RECOVERY CONVERGE: \" + str(converged_Z))\n",
    "converged_X, e_BP_X, P_1_X = belief_prop(Hz, syndromeX, 0.04, lat.size())\n",
    "print(\"DID X ERROR RECOVERY CONVERGE: \" + str(converged_X))\n",
    "\n",
    "if (converged_X == True and converged_Z == True):\n",
    "    recoveryZ = e_BP_Z\n",
    "    recoveryX = e_BP_X\n",
    "if (converged_Z == False):\n",
    "    recoveryZ = np.array(OSD_0(Hz, P_1_Z, syndromeX))\n",
    "    if (converged_X == True):\n",
    "        recoveryX = e_BP_X\n",
    "if (converged_X == False):\n",
    "    recoveryZ = np.array(OSD_0(Hx, P_1_X, syndromeZ))\n",
    "    if (converged_Z == True):\n",
    "        recoveryZ = e_BP_Z\n",
    "\n",
    "recovery = np.concatenate((recoveryZ, recoveryX))\n",
    "print(\"RECOVERY: \" + str(recovery))\n",
    "\n",
    "corrected_error = pauli2vector(P) + recovery % 2\n",
    "print(\"COMMUTATION WITH STABS: \" + str(twisted_product(pcheck, corrected_error)))\n",
    "\n",
    "\"\"\"check if corrected the logical part of the error\"\"\"\n",
    "print(\"COMMUTATION WITH LOGICAL OP 1: \" + str(twisted_product(pauli2vector(lat.Lx), corrected_error)))\n",
    "print(\"COMMUTATION WITH LOGICAL OP 2: \" + str(twisted_product(pauli2vector(lat.Lz), corrected_error)))\n",
    "\n"
   ]
  },
  {
   "cell_type": "code",
   "execution_count": 142,
   "id": "3e5903cf",
   "metadata": {},
   "outputs": [
    {
     "name": "stderr",
     "output_type": "stream",
     "text": [
      "  3%|▎         | 62/2000 [04:03<2:06:56,  3.93s/it]\n"
     ]
    },
    {
     "ename": "KeyboardInterrupt",
     "evalue": "",
     "output_type": "error",
     "traceback": [
      "\u001b[0;31m---------------------------------------------------------------------------\u001b[0m",
      "\u001b[0;31mKeyboardInterrupt\u001b[0m                         Traceback (most recent call last)",
      "\u001b[0;32m/tmp/ipykernel_3586/4042688642.py\u001b[0m in \u001b[0;36m<cell line: 8>\u001b[0;34m()\u001b[0m\n\u001b[1;32m     20\u001b[0m     \u001b[0mHz\u001b[0m \u001b[0;34m=\u001b[0m \u001b[0mpcheck_clipZ\u001b[0m\u001b[0;34m(\u001b[0m\u001b[0mpcheckZ\u001b[0m\u001b[0;34m)\u001b[0m\u001b[0;34m\u001b[0m\u001b[0;34m\u001b[0m\u001b[0m\n\u001b[1;32m     21\u001b[0m     \u001b[0mconverged_Z\u001b[0m\u001b[0;34m,\u001b[0m \u001b[0me_BP_Z\u001b[0m\u001b[0;34m,\u001b[0m \u001b[0mP_1_Z\u001b[0m \u001b[0;34m=\u001b[0m \u001b[0mbelief_prop\u001b[0m\u001b[0;34m(\u001b[0m\u001b[0mHz\u001b[0m\u001b[0;34m,\u001b[0m \u001b[0msyndromeZ\u001b[0m\u001b[0;34m,\u001b[0m \u001b[0;36m0.12\u001b[0m\u001b[0;34m,\u001b[0m \u001b[0mlat\u001b[0m\u001b[0;34m.\u001b[0m\u001b[0msize\u001b[0m\u001b[0;34m(\u001b[0m\u001b[0;34m)\u001b[0m\u001b[0;34m)\u001b[0m\u001b[0;34m\u001b[0m\u001b[0;34m\u001b[0m\u001b[0m\n\u001b[0;32m---> 22\u001b[0;31m     \u001b[0mconverged_X\u001b[0m\u001b[0;34m,\u001b[0m \u001b[0me_BP_X\u001b[0m\u001b[0;34m,\u001b[0m \u001b[0mP_1_X\u001b[0m \u001b[0;34m=\u001b[0m \u001b[0mbelief_prop\u001b[0m\u001b[0;34m(\u001b[0m\u001b[0mHx\u001b[0m\u001b[0;34m,\u001b[0m \u001b[0msyndromeX\u001b[0m\u001b[0;34m,\u001b[0m \u001b[0;36m0.12\u001b[0m\u001b[0;34m,\u001b[0m \u001b[0mlat\u001b[0m\u001b[0;34m.\u001b[0m\u001b[0msize\u001b[0m\u001b[0;34m(\u001b[0m\u001b[0;34m)\u001b[0m\u001b[0;34m)\u001b[0m\u001b[0;34m\u001b[0m\u001b[0;34m\u001b[0m\u001b[0m\n\u001b[0m\u001b[1;32m     23\u001b[0m \u001b[0;34m\u001b[0m\u001b[0m\n\u001b[1;32m     24\u001b[0m     \u001b[0;32mif\u001b[0m \u001b[0;34m(\u001b[0m\u001b[0mconverged_X\u001b[0m \u001b[0;34m==\u001b[0m \u001b[0;32mTrue\u001b[0m \u001b[0;32mand\u001b[0m \u001b[0mconverged_Z\u001b[0m \u001b[0;34m==\u001b[0m \u001b[0;32mTrue\u001b[0m\u001b[0;34m)\u001b[0m\u001b[0;34m:\u001b[0m\u001b[0;34m\u001b[0m\u001b[0;34m\u001b[0m\u001b[0m\n",
      "\u001b[0;32m/tmp/ipykernel_3586/1753227413.py\u001b[0m in \u001b[0;36mbelief_prop\u001b[0;34m(H, s, p, max_iter)\u001b[0m\n\u001b[1;32m     42\u001b[0m             \u001b[0mdata_to_par_msgs\u001b[0m \u001b[0;34m=\u001b[0m \u001b[0;34m[\u001b[0m\u001b[0mdata_to_parity\u001b[0m\u001b[0;34m[\u001b[0m\u001b[0mint\u001b[0m\u001b[0;34m(\u001b[0m\u001b[0mv\u001b[0m\u001b[0;34m[\u001b[0m\u001b[0;36m1\u001b[0m\u001b[0;34m:\u001b[0m\u001b[0;34m]\u001b[0m\u001b[0;34m)\u001b[0m\u001b[0;34m]\u001b[0m\u001b[0;34m[\u001b[0m\u001b[0mparity_node_num\u001b[0m\u001b[0;34m]\u001b[0m \u001b[0;32mfor\u001b[0m \u001b[0mv\u001b[0m \u001b[0;32min\u001b[0m \u001b[0mV\u001b[0m\u001b[0;34m]\u001b[0m\u001b[0;34m\u001b[0m\u001b[0;34m\u001b[0m\u001b[0m\n\u001b[1;32m     43\u001b[0m             \u001b[0mw\u001b[0m \u001b[0;34m=\u001b[0m \u001b[0mnp\u001b[0m\u001b[0;34m.\u001b[0m\u001b[0mmin\u001b[0m\u001b[0;34m(\u001b[0m\u001b[0;34m[\u001b[0m\u001b[0mnp\u001b[0m\u001b[0;34m.\u001b[0m\u001b[0mabs\u001b[0m\u001b[0;34m(\u001b[0m\u001b[0mmsg\u001b[0m\u001b[0;34m)\u001b[0m \u001b[0;32mfor\u001b[0m \u001b[0mmsg\u001b[0m \u001b[0;32min\u001b[0m \u001b[0mdata_to_par_msgs\u001b[0m\u001b[0;34m]\u001b[0m\u001b[0;34m)\u001b[0m\u001b[0;34m\u001b[0m\u001b[0;34m\u001b[0m\u001b[0m\n\u001b[0;32m---> 44\u001b[0;31m             \u001b[0mparity_to_data\u001b[0m\u001b[0;34m[\u001b[0m\u001b[0mparity_node_num\u001b[0m\u001b[0;34m]\u001b[0m\u001b[0;34m[\u001b[0m\u001b[0mdata_node_num\u001b[0m\u001b[0;34m]\u001b[0m \u001b[0;34m=\u001b[0m \u001b[0;34m(\u001b[0m\u001b[0;34m(\u001b[0m\u001b[0;34m-\u001b[0m\u001b[0;36m1\u001b[0m\u001b[0;34m)\u001b[0m \u001b[0;34m**\u001b[0m \u001b[0mint\u001b[0m\u001b[0;34m(\u001b[0m\u001b[0ms\u001b[0m\u001b[0;34m[\u001b[0m\u001b[0mparity_node_num\u001b[0m\u001b[0;34m]\u001b[0m\u001b[0;34m)\u001b[0m\u001b[0;34m)\u001b[0m \u001b[0;34m*\u001b[0m \u001b[0ma\u001b[0m \u001b[0;34m*\u001b[0m \u001b[0mnp\u001b[0m\u001b[0;34m.\u001b[0m\u001b[0mprod\u001b[0m\u001b[0;34m(\u001b[0m\u001b[0mnp\u001b[0m\u001b[0;34m.\u001b[0m\u001b[0msign\u001b[0m\u001b[0;34m(\u001b[0m\u001b[0mdata_to_par_msgs\u001b[0m\u001b[0;34m)\u001b[0m\u001b[0;34m)\u001b[0m \u001b[0;34m*\u001b[0m \u001b[0mw\u001b[0m\u001b[0;34m\u001b[0m\u001b[0;34m\u001b[0m\u001b[0m\n\u001b[0m\u001b[1;32m     45\u001b[0m \u001b[0;34m\u001b[0m\u001b[0m\n\u001b[1;32m     46\u001b[0m         \u001b[0;31m# (3) Data to Parity Messages\u001b[0m\u001b[0;34m\u001b[0m\u001b[0;34m\u001b[0m\u001b[0m\n",
      "\u001b[0;32m~/anaconda3/envs/qc_env/lib/python3.9/site-packages/numpy/core/overrides.py\u001b[0m in \u001b[0;36mprod\u001b[0;34m(*args, **kwargs)\u001b[0m\n",
      "\u001b[0;32m~/anaconda3/envs/qc_env/lib/python3.9/site-packages/numpy/core/fromnumeric.py\u001b[0m in \u001b[0;36mprod\u001b[0;34m(a, axis, dtype, out, keepdims, initial, where)\u001b[0m\n\u001b[1;32m   3086\u001b[0m     \u001b[0;36m10\u001b[0m\u001b[0;34m\u001b[0m\u001b[0;34m\u001b[0m\u001b[0m\n\u001b[1;32m   3087\u001b[0m     \"\"\"\n\u001b[0;32m-> 3088\u001b[0;31m     return _wrapreduction(a, np.multiply, 'prod', axis, dtype, out,\n\u001b[0m\u001b[1;32m   3089\u001b[0m                           keepdims=keepdims, initial=initial, where=where)\n\u001b[1;32m   3090\u001b[0m \u001b[0;34m\u001b[0m\u001b[0m\n",
      "\u001b[0;32m~/anaconda3/envs/qc_env/lib/python3.9/site-packages/numpy/core/fromnumeric.py\u001b[0m in \u001b[0;36m_wrapreduction\u001b[0;34m(obj, ufunc, method, axis, dtype, out, **kwargs)\u001b[0m\n\u001b[1;32m     84\u001b[0m                 \u001b[0;32mreturn\u001b[0m \u001b[0mreduction\u001b[0m\u001b[0;34m(\u001b[0m\u001b[0maxis\u001b[0m\u001b[0;34m=\u001b[0m\u001b[0maxis\u001b[0m\u001b[0;34m,\u001b[0m \u001b[0mout\u001b[0m\u001b[0;34m=\u001b[0m\u001b[0mout\u001b[0m\u001b[0;34m,\u001b[0m \u001b[0;34m**\u001b[0m\u001b[0mpasskwargs\u001b[0m\u001b[0;34m)\u001b[0m\u001b[0;34m\u001b[0m\u001b[0;34m\u001b[0m\u001b[0m\n\u001b[1;32m     85\u001b[0m \u001b[0;34m\u001b[0m\u001b[0m\n\u001b[0;32m---> 86\u001b[0;31m     \u001b[0;32mreturn\u001b[0m \u001b[0mufunc\u001b[0m\u001b[0;34m.\u001b[0m\u001b[0mreduce\u001b[0m\u001b[0;34m(\u001b[0m\u001b[0mobj\u001b[0m\u001b[0;34m,\u001b[0m \u001b[0maxis\u001b[0m\u001b[0;34m,\u001b[0m \u001b[0mdtype\u001b[0m\u001b[0;34m,\u001b[0m \u001b[0mout\u001b[0m\u001b[0;34m,\u001b[0m \u001b[0;34m**\u001b[0m\u001b[0mpasskwargs\u001b[0m\u001b[0;34m)\u001b[0m\u001b[0;34m\u001b[0m\u001b[0;34m\u001b[0m\u001b[0m\n\u001b[0m\u001b[1;32m     87\u001b[0m \u001b[0;34m\u001b[0m\u001b[0m\n\u001b[1;32m     88\u001b[0m \u001b[0;34m\u001b[0m\u001b[0m\n",
      "\u001b[0;31mKeyboardInterrupt\u001b[0m: "
     ]
    }
   ],
   "source": [
    "rates = [0.04, 0.04, 0.04]\n",
    "num_rounds = 2000\n",
    "\n",
    "codespace_projection = [0]*num_rounds\n",
    "logical_errors = [0]*num_rounds\n",
    "uncorrected_logical_error_rate = [0]*num_rounds\n",
    "count = 0\n",
    "for r in tqdm(range(num_rounds)):\n",
    "    P = random_pauli(lat.size(), rates)\n",
    "    while P == 'I'*lat.size():\n",
    "        # resample if we got an identity error -- note this actually increases the error rate we measure\n",
    "        P = random_pauli(lat.size(), rates)\n",
    "    error = pauli2vector(P)\n",
    "    pcheckX = lat.pcheckX()\n",
    "    pcheckZ = lat.pcheckZ()\n",
    "    pcheck = np.vstack((pcheckX, pcheckZ))\n",
    "    syndromeX = twisted_product(pcheckX, pauli2vector(P))\n",
    "    syndromeZ = twisted_product(pcheckZ, pauli2vector(P))\n",
    "    Hx = pcheck_clipX(pcheckX)\n",
    "    Hz = pcheck_clipZ(pcheckZ)\n",
    "    converged_Z, e_BP_Z, P_1_Z = belief_prop(Hz, syndromeZ, 0.12, lat.size())\n",
    "    converged_X, e_BP_X, P_1_X = belief_prop(Hx, syndromeX, 0.12, lat.size())    \n",
    "    \n",
    "    if (converged_X == True and converged_Z == True):\n",
    "        recoveryZ = e_BP_Z\n",
    "        recoveryX = e_BP_X\n",
    "    if (converged_Z == False):\n",
    "        recoveryZ = np.array(OSD_0(Hz, P_1_Z, syndromeZ))\n",
    "        if (converged_X == True):\n",
    "            recoveryX = e_BP_X\n",
    "    if (converged_X == False):\n",
    "        recoveryZ = np.array(OSD_0(Hx, P_1_X, syndromeX))\n",
    "        if (converged_Z == True):\n",
    "            recoveryZ = e_BP_Z\n",
    "\n",
    "    recovery = np.concatenate((recoveryX, recoveryZ))\n",
    "    corrected_error = pauli2vector(P) + recovery % 2\n",
    "    \n",
    "    if sum(twisted_product(pcheck, corrected_error)) > 0:\n",
    "        codespace_projection[r] = 1\n",
    "    if (twisted_product(pauli2vector(lat.Lx), corrected_error) == 1) or (twisted_product(pauli2vector(lat.Lz), corrected_error) == 1):\n",
    "        logical_errors[r] = 1\n",
    "    if (twisted_product(pauli2vector(lat.Lx), error) == 1) or (twisted_product(pauli2vector(lat.Lz), error) == 1):\n",
    "        uncorrected_logical_error_rate[r] = 1"
   ]
  }
 ],
 "metadata": {
  "kernelspec": {
   "display_name": "qc_env",
   "language": "python",
   "name": "python3"
  },
  "language_info": {
   "codemirror_mode": {
    "name": "ipython",
    "version": 3
   },
   "file_extension": ".py",
   "mimetype": "text/x-python",
   "name": "python",
   "nbconvert_exporter": "python",
   "pygments_lexer": "ipython3",
   "version": "3.9.7"
  },
  "vscode": {
   "interpreter": {
    "hash": "5a2db16169323f9c61c6ed4d885397ad0494f2e790734ab97aaeab1bbd202ff7"
   }
  }
 },
 "nbformat": 4,
 "nbformat_minor": 5
}
